{
 "cells": [
  {
   "cell_type": "code",
   "execution_count": 1,
   "id": "49ca5081-1612-4183-93cb-e35bf00079a0",
   "metadata": {},
   "outputs": [
    {
     "name": "stderr",
     "output_type": "stream",
     "text": [
      "/var/folders/3m/l0tyzx5j5lg1wtczpcc3ff8h0000gn/T/ipykernel_99580/3993962526.py:1: DeprecationWarning: \n",
      "Pyarrow will become a required dependency of pandas in the next major release of pandas (pandas 3.0),\n",
      "(to allow more performant data types, such as the Arrow string type, and better interoperability with other libraries)\n",
      "but was not found to be installed on your system.\n",
      "If this would cause problems for you,\n",
      "please provide us feedback at https://github.com/pandas-dev/pandas/issues/54466\n",
      "        \n",
      "  import pandas as pd\n"
     ]
    }
   ],
   "source": [
    "import pandas as pd \n",
    "import numpy as np\n",
    "import matplotlib.pyplot as plt\n",
    "import seaborn as sns\n",
    "%matplotlib inline\n"
   ]
  },
  {
   "cell_type": "code",
   "execution_count": 2,
   "id": "60aefb3c-11a9-4f20-9a48-898bb3c615b7",
   "metadata": {},
   "outputs": [],
   "source": [
    "data = pd.read_csv('alopecia-areata-subsample/PAYERS/data_000000000000.csv',  delimiter=\"|\")"
   ]
  },
  {
   "cell_type": "code",
   "execution_count": 3,
   "id": "3cb5fd39-e068-44b0-8d24-9f920f3b0979",
   "metadata": {},
   "outputs": [
    {
     "data": {
      "text/plain": [
       "(139, 8)"
      ]
     },
     "execution_count": 3,
     "metadata": {},
     "output_type": "execute_result"
    }
   ],
   "source": [
    "data.shape"
   ]
  },
  {
   "cell_type": "markdown",
   "id": "8e90d53a-c05b-4e5d-87ee-a9e7fb456fc6",
   "metadata": {},
   "source": [
    "Small dataset with 139 rows !"
   ]
  },
  {
   "cell_type": "raw",
   "id": "070b0062-7e62-477b-9aab-07709c4a58b0",
   "metadata": {},
   "source": []
  },
  {
   "cell_type": "code",
   "execution_count": 4,
   "id": "aff25bba-1064-4935-8b09-7842a822af64",
   "metadata": {},
   "outputs": [
    {
     "data": {
      "text/html": [
       "<div>\n",
       "<style scoped>\n",
       "    .dataframe tbody tr th:only-of-type {\n",
       "        vertical-align: middle;\n",
       "    }\n",
       "\n",
       "    .dataframe tbody tr th {\n",
       "        vertical-align: top;\n",
       "    }\n",
       "\n",
       "    .dataframe thead th {\n",
       "        text-align: right;\n",
       "    }\n",
       "</style>\n",
       "<table border=\"1\" class=\"dataframe\">\n",
       "  <thead>\n",
       "    <tr style=\"text-align: right;\">\n",
       "      <th></th>\n",
       "      <th>PATIENT_ID</th>\n",
       "      <th>ENCOUNTER_ID</th>\n",
       "      <th>PY_TYPE_LEVEL1</th>\n",
       "      <th>PY_PRIMARY</th>\n",
       "      <th>DATA_SUPPLIER_ID</th>\n",
       "      <th>PRODUCT_NAME</th>\n",
       "      <th>PRODUCT_VERSION</th>\n",
       "      <th>EXPORT_DATE</th>\n",
       "    </tr>\n",
       "  </thead>\n",
       "  <tbody>\n",
       "    <tr>\n",
       "      <th>0</th>\n",
       "      <td>9E62A2DC-8195-4E37-BBE4-D0D68274E40B</td>\n",
       "      <td>5D91E1B2-13DD-46DE-B0FA-D4AA7AC60351</td>\n",
       "      <td>MEDICAID</td>\n",
       "      <td>YES</td>\n",
       "      <td>9688</td>\n",
       "      <td>ALOPECIA_AREATA_SUBSAMPLE_PAYERS</td>\n",
       "      <td>5.0</td>\n",
       "      <td>20231213</td>\n",
       "    </tr>\n",
       "    <tr>\n",
       "      <th>1</th>\n",
       "      <td>9E62A2DC-8195-4E37-BBE4-D0D68274E40B</td>\n",
       "      <td>6D913B76-D53E-4BE5-AAC1-CD790830C75C</td>\n",
       "      <td>MEDICAID</td>\n",
       "      <td>YES</td>\n",
       "      <td>9688</td>\n",
       "      <td>ALOPECIA_AREATA_SUBSAMPLE_PAYERS</td>\n",
       "      <td>5.0</td>\n",
       "      <td>20231213</td>\n",
       "    </tr>\n",
       "    <tr>\n",
       "      <th>2</th>\n",
       "      <td>9E62A2DC-8195-4E37-BBE4-D0D68274E40B</td>\n",
       "      <td>37AC8A47-9B7C-49F6-98B6-FB83B85B5903</td>\n",
       "      <td>MEDICAID</td>\n",
       "      <td>YES</td>\n",
       "      <td>9688</td>\n",
       "      <td>ALOPECIA_AREATA_SUBSAMPLE_PAYERS</td>\n",
       "      <td>5.0</td>\n",
       "      <td>20231213</td>\n",
       "    </tr>\n",
       "    <tr>\n",
       "      <th>3</th>\n",
       "      <td>9E62A2DC-8195-4E37-BBE4-D0D68274E40B</td>\n",
       "      <td>0BD3C811-41DE-44F9-9389-35100B70E283</td>\n",
       "      <td>MEDICAID</td>\n",
       "      <td>YES</td>\n",
       "      <td>9688</td>\n",
       "      <td>ALOPECIA_AREATA_SUBSAMPLE_PAYERS</td>\n",
       "      <td>5.0</td>\n",
       "      <td>20231213</td>\n",
       "    </tr>\n",
       "    <tr>\n",
       "      <th>4</th>\n",
       "      <td>9E62A2DC-8195-4E37-BBE4-D0D68274E40B</td>\n",
       "      <td>C2841BC1-595D-4347-9F4B-AFB2A880129F</td>\n",
       "      <td>MEDICAID</td>\n",
       "      <td>YES</td>\n",
       "      <td>9688</td>\n",
       "      <td>ALOPECIA_AREATA_SUBSAMPLE_PAYERS</td>\n",
       "      <td>5.0</td>\n",
       "      <td>20231213</td>\n",
       "    </tr>\n",
       "  </tbody>\n",
       "</table>\n",
       "</div>"
      ],
      "text/plain": [
       "                             PATIENT_ID                          ENCOUNTER_ID  \\\n",
       "0  9E62A2DC-8195-4E37-BBE4-D0D68274E40B  5D91E1B2-13DD-46DE-B0FA-D4AA7AC60351   \n",
       "1  9E62A2DC-8195-4E37-BBE4-D0D68274E40B  6D913B76-D53E-4BE5-AAC1-CD790830C75C   \n",
       "2  9E62A2DC-8195-4E37-BBE4-D0D68274E40B  37AC8A47-9B7C-49F6-98B6-FB83B85B5903   \n",
       "3  9E62A2DC-8195-4E37-BBE4-D0D68274E40B  0BD3C811-41DE-44F9-9389-35100B70E283   \n",
       "4  9E62A2DC-8195-4E37-BBE4-D0D68274E40B  C2841BC1-595D-4347-9F4B-AFB2A880129F   \n",
       "\n",
       "  PY_TYPE_LEVEL1 PY_PRIMARY  DATA_SUPPLIER_ID  \\\n",
       "0       MEDICAID        YES              9688   \n",
       "1       MEDICAID        YES              9688   \n",
       "2       MEDICAID        YES              9688   \n",
       "3       MEDICAID        YES              9688   \n",
       "4       MEDICAID        YES              9688   \n",
       "\n",
       "                       PRODUCT_NAME  PRODUCT_VERSION  EXPORT_DATE  \n",
       "0  ALOPECIA_AREATA_SUBSAMPLE_PAYERS              5.0     20231213  \n",
       "1  ALOPECIA_AREATA_SUBSAMPLE_PAYERS              5.0     20231213  \n",
       "2  ALOPECIA_AREATA_SUBSAMPLE_PAYERS              5.0     20231213  \n",
       "3  ALOPECIA_AREATA_SUBSAMPLE_PAYERS              5.0     20231213  \n",
       "4  ALOPECIA_AREATA_SUBSAMPLE_PAYERS              5.0     20231213  "
      ]
     },
     "execution_count": 4,
     "metadata": {},
     "output_type": "execute_result"
    }
   ],
   "source": [
    "data.head()"
   ]
  },
  {
   "cell_type": "code",
   "execution_count": 5,
   "id": "db4cab08-62be-4e3e-83ca-a911659d8efb",
   "metadata": {},
   "outputs": [
    {
     "data": {
      "text/html": [
       "<div>\n",
       "<style scoped>\n",
       "    .dataframe tbody tr th:only-of-type {\n",
       "        vertical-align: middle;\n",
       "    }\n",
       "\n",
       "    .dataframe tbody tr th {\n",
       "        vertical-align: top;\n",
       "    }\n",
       "\n",
       "    .dataframe thead th {\n",
       "        text-align: right;\n",
       "    }\n",
       "</style>\n",
       "<table border=\"1\" class=\"dataframe\">\n",
       "  <thead>\n",
       "    <tr style=\"text-align: right;\">\n",
       "      <th></th>\n",
       "      <th>PATIENT_ID</th>\n",
       "      <th>ENCOUNTER_ID</th>\n",
       "      <th>PY_TYPE_LEVEL1</th>\n",
       "      <th>PY_PRIMARY</th>\n",
       "      <th>DATA_SUPPLIER_ID</th>\n",
       "      <th>PRODUCT_NAME</th>\n",
       "      <th>PRODUCT_VERSION</th>\n",
       "      <th>EXPORT_DATE</th>\n",
       "    </tr>\n",
       "  </thead>\n",
       "  <tbody>\n",
       "    <tr>\n",
       "      <th>134</th>\n",
       "      <td>B4BC14C0-2975-457F-8ED5-C6A7E942A5B8</td>\n",
       "      <td>0D06CF1C-53C9-4640-A19B-428FD64D19AA</td>\n",
       "      <td>PRIVATE HEALTH INSURANCE</td>\n",
       "      <td>YES</td>\n",
       "      <td>9688</td>\n",
       "      <td>ALOPECIA_AREATA_SUBSAMPLE_PAYERS</td>\n",
       "      <td>5.0</td>\n",
       "      <td>20231213</td>\n",
       "    </tr>\n",
       "    <tr>\n",
       "      <th>135</th>\n",
       "      <td>B4BC14C0-2975-457F-8ED5-C6A7E942A5B8</td>\n",
       "      <td>4CEA3383-91F3-4337-B326-5C45BDFE5042</td>\n",
       "      <td>PRIVATE HEALTH INSURANCE</td>\n",
       "      <td>YES</td>\n",
       "      <td>9688</td>\n",
       "      <td>ALOPECIA_AREATA_SUBSAMPLE_PAYERS</td>\n",
       "      <td>5.0</td>\n",
       "      <td>20231213</td>\n",
       "    </tr>\n",
       "    <tr>\n",
       "      <th>136</th>\n",
       "      <td>B4BC14C0-2975-457F-8ED5-C6A7E942A5B8</td>\n",
       "      <td>8C5959D4-9932-47EE-AF4B-AE507006A316</td>\n",
       "      <td>PRIVATE HEALTH INSURANCE</td>\n",
       "      <td>YES</td>\n",
       "      <td>9688</td>\n",
       "      <td>ALOPECIA_AREATA_SUBSAMPLE_PAYERS</td>\n",
       "      <td>5.0</td>\n",
       "      <td>20231213</td>\n",
       "    </tr>\n",
       "    <tr>\n",
       "      <th>137</th>\n",
       "      <td>B4BC14C0-2975-457F-8ED5-C6A7E942A5B8</td>\n",
       "      <td>EE2165ED-5D78-44EC-816F-B77A9D6AF734</td>\n",
       "      <td>PRIVATE HEALTH INSURANCE</td>\n",
       "      <td>YES</td>\n",
       "      <td>9688</td>\n",
       "      <td>ALOPECIA_AREATA_SUBSAMPLE_PAYERS</td>\n",
       "      <td>5.0</td>\n",
       "      <td>20231213</td>\n",
       "    </tr>\n",
       "    <tr>\n",
       "      <th>138</th>\n",
       "      <td>C59CB36F-3647-4F10-BAF4-74390CC6FE0D</td>\n",
       "      <td>EBA8E224-E399-4186-9968-3C47E63D2148</td>\n",
       "      <td>PRIVATE HEALTH INSURANCE</td>\n",
       "      <td>YES</td>\n",
       "      <td>2206</td>\n",
       "      <td>ALOPECIA_AREATA_SUBSAMPLE_PAYERS</td>\n",
       "      <td>5.0</td>\n",
       "      <td>20231213</td>\n",
       "    </tr>\n",
       "  </tbody>\n",
       "</table>\n",
       "</div>"
      ],
      "text/plain": [
       "                               PATIENT_ID  \\\n",
       "134  B4BC14C0-2975-457F-8ED5-C6A7E942A5B8   \n",
       "135  B4BC14C0-2975-457F-8ED5-C6A7E942A5B8   \n",
       "136  B4BC14C0-2975-457F-8ED5-C6A7E942A5B8   \n",
       "137  B4BC14C0-2975-457F-8ED5-C6A7E942A5B8   \n",
       "138  C59CB36F-3647-4F10-BAF4-74390CC6FE0D   \n",
       "\n",
       "                             ENCOUNTER_ID            PY_TYPE_LEVEL1  \\\n",
       "134  0D06CF1C-53C9-4640-A19B-428FD64D19AA  PRIVATE HEALTH INSURANCE   \n",
       "135  4CEA3383-91F3-4337-B326-5C45BDFE5042  PRIVATE HEALTH INSURANCE   \n",
       "136  8C5959D4-9932-47EE-AF4B-AE507006A316  PRIVATE HEALTH INSURANCE   \n",
       "137  EE2165ED-5D78-44EC-816F-B77A9D6AF734  PRIVATE HEALTH INSURANCE   \n",
       "138  EBA8E224-E399-4186-9968-3C47E63D2148  PRIVATE HEALTH INSURANCE   \n",
       "\n",
       "    PY_PRIMARY  DATA_SUPPLIER_ID                      PRODUCT_NAME  \\\n",
       "134        YES              9688  ALOPECIA_AREATA_SUBSAMPLE_PAYERS   \n",
       "135        YES              9688  ALOPECIA_AREATA_SUBSAMPLE_PAYERS   \n",
       "136        YES              9688  ALOPECIA_AREATA_SUBSAMPLE_PAYERS   \n",
       "137        YES              9688  ALOPECIA_AREATA_SUBSAMPLE_PAYERS   \n",
       "138        YES              2206  ALOPECIA_AREATA_SUBSAMPLE_PAYERS   \n",
       "\n",
       "     PRODUCT_VERSION  EXPORT_DATE  \n",
       "134              5.0     20231213  \n",
       "135              5.0     20231213  \n",
       "136              5.0     20231213  \n",
       "137              5.0     20231213  \n",
       "138              5.0     20231213  "
      ]
     },
     "execution_count": 5,
     "metadata": {},
     "output_type": "execute_result"
    }
   ],
   "source": [
    "data.tail()"
   ]
  },
  {
   "cell_type": "code",
   "execution_count": 6,
   "id": "d22ba0ca-5011-43a2-a452-9d32408aa9b7",
   "metadata": {},
   "outputs": [
    {
     "name": "stdout",
     "output_type": "stream",
     "text": [
      "<class 'pandas.core.frame.DataFrame'>\n",
      "RangeIndex: 139 entries, 0 to 138\n",
      "Data columns (total 8 columns):\n",
      " #   Column            Non-Null Count  Dtype  \n",
      "---  ------            --------------  -----  \n",
      " 0   PATIENT_ID        139 non-null    object \n",
      " 1   ENCOUNTER_ID      139 non-null    object \n",
      " 2   PY_TYPE_LEVEL1    139 non-null    object \n",
      " 3   PY_PRIMARY        139 non-null    object \n",
      " 4   DATA_SUPPLIER_ID  139 non-null    int64  \n",
      " 5   PRODUCT_NAME      139 non-null    object \n",
      " 6   PRODUCT_VERSION   139 non-null    float64\n",
      " 7   EXPORT_DATE       139 non-null    int64  \n",
      "dtypes: float64(1), int64(2), object(5)\n",
      "memory usage: 8.8+ KB\n"
     ]
    }
   ],
   "source": [
    "data.info()"
   ]
  },
  {
   "cell_type": "markdown",
   "id": "4bd19e7d-f7c8-4135-a1a2-2165cba73649",
   "metadata": {},
   "source": [
    "## Checking for Duplication"
   ]
  },
  {
   "cell_type": "code",
   "execution_count": 7,
   "id": "0cb59314-696e-4d5a-9e0d-f3bfa2ab507c",
   "metadata": {},
   "outputs": [
    {
     "data": {
      "text/plain": [
       "PATIENT_ID            6\n",
       "ENCOUNTER_ID        137\n",
       "PY_TYPE_LEVEL1        3\n",
       "PY_PRIMARY            2\n",
       "DATA_SUPPLIER_ID      2\n",
       "PRODUCT_NAME          1\n",
       "PRODUCT_VERSION       1\n",
       "EXPORT_DATE           1\n",
       "dtype: int64"
      ]
     },
     "execution_count": 7,
     "metadata": {},
     "output_type": "execute_result"
    }
   ],
   "source": [
    "data.nunique()"
   ]
  },
  {
   "cell_type": "code",
   "execution_count": 8,
   "id": "559e2917-96dd-4bd4-b0c3-8133741f2940",
   "metadata": {},
   "outputs": [
    {
     "name": "stdout",
     "output_type": "stream",
     "text": [
      "Empty DataFrame\n",
      "Columns: [PATIENT_ID, ENCOUNTER_ID, PY_TYPE_LEVEL1, PY_PRIMARY, DATA_SUPPLIER_ID, PRODUCT_NAME, PRODUCT_VERSION, EXPORT_DATE]\n",
      "Index: []\n"
     ]
    }
   ],
   "source": [
    "duplicate_rows = data[data.duplicated()]\n",
    "print(duplicate_rows)"
   ]
  },
  {
   "cell_type": "markdown",
   "id": "24a6ca3b-255a-4b52-a87d-8597c6398be8",
   "metadata": {},
   "source": [
    "No duplicate rows found in the dataset"
   ]
  },
  {
   "cell_type": "markdown",
   "id": "de0e72e2-dd16-4544-a2b6-725747e2cd37",
   "metadata": {},
   "source": [
    "## Checking Missing Values "
   ]
  },
  {
   "cell_type": "code",
   "execution_count": 9,
   "id": "2052907d-0996-4be3-9ba1-38f365ebdb32",
   "metadata": {},
   "outputs": [
    {
     "data": {
      "text/plain": [
       "PATIENT_ID          0\n",
       "ENCOUNTER_ID        0\n",
       "PY_TYPE_LEVEL1      0\n",
       "PY_PRIMARY          0\n",
       "DATA_SUPPLIER_ID    0\n",
       "PRODUCT_NAME        0\n",
       "PRODUCT_VERSION     0\n",
       "EXPORT_DATE         0\n",
       "dtype: int64"
      ]
     },
     "execution_count": 9,
     "metadata": {},
     "output_type": "execute_result"
    }
   ],
   "source": [
    "data.isnull().sum()"
   ]
  },
  {
   "cell_type": "code",
   "execution_count": 10,
   "id": "1414ad89-550a-4ae1-a00f-8b3bc514726d",
   "metadata": {},
   "outputs": [
    {
     "data": {
      "text/plain": [
       "<Axes: >"
      ]
     },
     "execution_count": 10,
     "metadata": {},
     "output_type": "execute_result"
    },
    {
     "data": {
      "image/png": "[encoded data removed]",
      "text/plain": [
       "<Figure size 640x480 with 1 Axes>"
      ]
     },
     "metadata": {},
     "output_type": "display_data"
    }
   ],
   "source": [
    "sns.heatmap(data.isnull(),yticklabels=False,cbar=False,cmap='viridis')"
   ]
  },
  {
   "cell_type": "markdown",
   "id": "de94bf62-df42-4b53-9eb3-35a098e23db1",
   "metadata": {},
   "source": [
    "NO NULL VALUES "
   ]
  },
  {
   "cell_type": "raw",
   "id": "26c21c20-dde4-4159-a283-920655e61c1a",
   "metadata": {},
   "source": []
  },
  {
   "cell_type": "markdown",
   "id": "375dbed4-cd97-4a07-95ac-e9d2c85d8969",
   "metadata": {},
   "source": [
    "## Checking for inconsistent data types"
   ]
  },
  {
   "cell_type": "code",
   "execution_count": 11,
   "id": "81581bf9-439a-4daa-a4cd-7de50df9408a",
   "metadata": {},
   "outputs": [
    {
     "name": "stdout",
     "output_type": "stream",
     "text": [
      "PATIENT_ID           object\n",
      "ENCOUNTER_ID         object\n",
      "PY_TYPE_LEVEL1       object\n",
      "PY_PRIMARY           object\n",
      "DATA_SUPPLIER_ID      int64\n",
      "PRODUCT_NAME         object\n",
      "PRODUCT_VERSION     float64\n",
      "EXPORT_DATE           int64\n",
      "dtype: object\n"
     ]
    }
   ],
   "source": [
    "data_types = data.dtypes\n",
    "print(data_types)"
   ]
  },
  {
   "cell_type": "markdown",
   "id": "27846ee6-ae68-4840-bf11-b54b7f333162",
   "metadata": {},
   "source": [
    "It is better to  convert the values from the columns that contains the values ‘YES’ and ‘NO’ with TRUE and FALSE / 0 or 1"
   ]
  },
  {
   "cell_type": "code",
   "execution_count": null,
   "id": "1b26a1d2-3661-4af6-b6cd-2826a7c61fa1",
   "metadata": {},
   "outputs": [],
   "source": []
  }
 ],
 "metadata": {
  "kernelspec": {
   "display_name": "venv",
   "language": "python",
   "name": "venv"
  },
  "language_info": {
   "codemirror_mode": {
    "name": "ipython",
    "version": 3
   },
   "file_extension": ".py",
   "mimetype": "text/x-python",
   "name": "python",
   "nbconvert_exporter": "python",
   "pygments_lexer": "ipython3",
   "version": "3.9.6"
  }
 },
 "nbformat": 4,
 "nbformat_minor": 5
}
