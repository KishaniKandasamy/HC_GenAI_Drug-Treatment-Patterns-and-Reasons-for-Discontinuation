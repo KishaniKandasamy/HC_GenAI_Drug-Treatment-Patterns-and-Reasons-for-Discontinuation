{
 "cells": [
  {
   "cell_type": "code",
   "execution_count": 1,
   "id": "355dba79-4b99-413b-8ad2-228dd079d20f",
   "metadata": {},
   "outputs": [
    {
     "name": "stderr",
     "output_type": "stream",
     "text": [
      "/var/folders/3m/l0tyzx5j5lg1wtczpcc3ff8h0000gn/T/ipykernel_2566/3993962526.py:1: DeprecationWarning: \n",
      "Pyarrow will become a required dependency of pandas in the next major release of pandas (pandas 3.0),\n",
      "(to allow more performant data types, such as the Arrow string type, and better interoperability with other libraries)\n",
      "but was not found to be installed on your system.\n",
      "If this would cause problems for you,\n",
      "please provide us feedback at https://github.com/pandas-dev/pandas/issues/54466\n",
      "        \n",
      "  import pandas as pd\n"
     ]
    }
   ],
   "source": [
    "import pandas as pd \n",
    "import numpy as np\n",
    "import matplotlib.pyplot as plt\n",
    "import seaborn as sns\n",
    "%matplotlib inline\n"
   ]
  },
  {
   "cell_type": "code",
   "execution_count": 2,
   "id": "ae282f30-3788-4c7f-b28f-c0cf5d69846b",
   "metadata": {},
   "outputs": [],
   "source": [
    "data = pd.read_csv('alopecia-areata-subsample/SURVEYS_QUESTIONNAIRES_SCORES/data_000000000000.csv',  delimiter=\"|\")"
   ]
  },
  {
   "cell_type": "code",
   "execution_count": 3,
   "id": "bdbb42d3-a44a-4eef-867f-48a7dcb007c3",
   "metadata": {},
   "outputs": [
    {
     "data": {
      "text/plain": [
       "(79122, 20)"
      ]
     },
     "execution_count": 3,
     "metadata": {},
     "output_type": "execute_result"
    }
   ],
   "source": [
    "data.shape"
   ]
  },
  {
   "cell_type": "code",
   "execution_count": 4,
   "id": "4ea4b72b-57d2-4770-a2dd-7ccaf84a84f4",
   "metadata": {},
   "outputs": [
    {
     "data": {
      "text/html": [
       "<div>\n",
       "<style scoped>\n",
       "    .dataframe tbody tr th:only-of-type {\n",
       "        vertical-align: middle;\n",
       "    }\n",
       "\n",
       "    .dataframe tbody tr th {\n",
       "        vertical-align: top;\n",
       "    }\n",
       "\n",
       "    .dataframe thead th {\n",
       "        text-align: right;\n",
       "    }\n",
       "</style>\n",
       "<table border=\"1\" class=\"dataframe\">\n",
       "  <thead>\n",
       "    <tr style=\"text-align: right;\">\n",
       "      <th></th>\n",
       "      <th>PATIENT_ID</th>\n",
       "      <th>ENCOUNTER_ID</th>\n",
       "      <th>DX_CODE</th>\n",
       "      <th>DX_CODE_TYPE</th>\n",
       "      <th>QS_NAME</th>\n",
       "      <th>QS_MEASURE_NAME</th>\n",
       "      <th>QS_LINE</th>\n",
       "      <th>QS_DATE</th>\n",
       "      <th>QS_TIME</th>\n",
       "      <th>QS_RESPONDER</th>\n",
       "      <th>QS_PROV_ID</th>\n",
       "      <th>QS_PROV_TAXON</th>\n",
       "      <th>QS_QUESTION</th>\n",
       "      <th>QS_RESPONSE</th>\n",
       "      <th>QS_VALUE</th>\n",
       "      <th>QS_UNSTRUCTURED</th>\n",
       "      <th>DATA_SUPPLIER_ID</th>\n",
       "      <th>PRODUCT_NAME</th>\n",
       "      <th>PRODUCT_VERSION</th>\n",
       "      <th>EXPORT_DATE</th>\n",
       "    </tr>\n",
       "  </thead>\n",
       "  <tbody>\n",
       "    <tr>\n",
       "      <th>0</th>\n",
       "      <td>6F9F2829-A789-486E-B802-7972075C5B45</td>\n",
       "      <td>001414AF-4094-4F99-B8DC-3E5DFA53B97C</td>\n",
       "      <td>L30.1</td>\n",
       "      <td>ICD-10-CM</td>\n",
       "      <td>BSA RASH</td>\n",
       "      <td>BSA RASH</td>\n",
       "      <td>NaN</td>\n",
       "      <td>2021-07-19</td>\n",
       "      <td>18:38:00</td>\n",
       "      <td>NaN</td>\n",
       "      <td>NaN</td>\n",
       "      <td>NaN</td>\n",
       "      <td>NaN</td>\n",
       "      <td>NaN</td>\n",
       "      <td>5.0</td>\n",
       "      <td>NO</td>\n",
       "      <td>8669</td>\n",
       "      <td>ALOPECIA_AREATA_SUBSAMPLE_SCORES</td>\n",
       "      <td>5.0</td>\n",
       "      <td>20231213</td>\n",
       "    </tr>\n",
       "    <tr>\n",
       "      <th>1</th>\n",
       "      <td>2030567A-5A85-49E8-A2FC-96DBBAA2259B</td>\n",
       "      <td>0F1B478F-4840-473B-870E-099C1D224A34</td>\n",
       "      <td>B35.4</td>\n",
       "      <td>ICD-10-CM</td>\n",
       "      <td>BSA RASH</td>\n",
       "      <td>BSA RASH</td>\n",
       "      <td>NaN</td>\n",
       "      <td>2022-07-14</td>\n",
       "      <td>23:00:00</td>\n",
       "      <td>NaN</td>\n",
       "      <td>NaN</td>\n",
       "      <td>NaN</td>\n",
       "      <td>NaN</td>\n",
       "      <td>NaN</td>\n",
       "      <td>20.0</td>\n",
       "      <td>NO</td>\n",
       "      <td>6808</td>\n",
       "      <td>ALOPECIA_AREATA_SUBSAMPLE_SCORES</td>\n",
       "      <td>5.0</td>\n",
       "      <td>20231213</td>\n",
       "    </tr>\n",
       "    <tr>\n",
       "      <th>2</th>\n",
       "      <td>A33163AB-0035-4FEE-A8EB-4B1D062BA2A3</td>\n",
       "      <td>12277B3D-D5CE-4748-A68E-CA21A7E48452</td>\n",
       "      <td>L93.1</td>\n",
       "      <td>ICD-10-CM</td>\n",
       "      <td>BSA RASH</td>\n",
       "      <td>BSA RASH</td>\n",
       "      <td>NaN</td>\n",
       "      <td>2020-05-01</td>\n",
       "      <td>16:39:19</td>\n",
       "      <td>NaN</td>\n",
       "      <td>NaN</td>\n",
       "      <td>NaN</td>\n",
       "      <td>NaN</td>\n",
       "      <td>NaN</td>\n",
       "      <td>12.0</td>\n",
       "      <td>NO</td>\n",
       "      <td>8551</td>\n",
       "      <td>ALOPECIA_AREATA_SUBSAMPLE_SCORES</td>\n",
       "      <td>5.0</td>\n",
       "      <td>20231213</td>\n",
       "    </tr>\n",
       "    <tr>\n",
       "      <th>3</th>\n",
       "      <td>502DCB86-3801-4658-8B5B-284FF484A72C</td>\n",
       "      <td>13B990B8-EBDA-4BFE-9E32-320218C03137</td>\n",
       "      <td>L20.84</td>\n",
       "      <td>ICD-10-CM</td>\n",
       "      <td>BSA RASH</td>\n",
       "      <td>BSA RASH</td>\n",
       "      <td>NaN</td>\n",
       "      <td>2022-06-29</td>\n",
       "      <td>13:41:00</td>\n",
       "      <td>NaN</td>\n",
       "      <td>NaN</td>\n",
       "      <td>NaN</td>\n",
       "      <td>NaN</td>\n",
       "      <td>NaN</td>\n",
       "      <td>10.0</td>\n",
       "      <td>NO</td>\n",
       "      <td>2750</td>\n",
       "      <td>ALOPECIA_AREATA_SUBSAMPLE_SCORES</td>\n",
       "      <td>5.0</td>\n",
       "      <td>20231213</td>\n",
       "    </tr>\n",
       "    <tr>\n",
       "      <th>4</th>\n",
       "      <td>403849D6-237F-44B9-B617-EA92A1DC398C</td>\n",
       "      <td>176866B9-C102-4300-AB45-4BFFFEA8A042</td>\n",
       "      <td>R21</td>\n",
       "      <td>ICD-10-CM</td>\n",
       "      <td>BSA RASH</td>\n",
       "      <td>BSA RASH</td>\n",
       "      <td>NaN</td>\n",
       "      <td>2021-09-24</td>\n",
       "      <td>13:16:00</td>\n",
       "      <td>NaN</td>\n",
       "      <td>NaN</td>\n",
       "      <td>NaN</td>\n",
       "      <td>NaN</td>\n",
       "      <td>NaN</td>\n",
       "      <td>7.0</td>\n",
       "      <td>NO</td>\n",
       "      <td>8551</td>\n",
       "      <td>ALOPECIA_AREATA_SUBSAMPLE_SCORES</td>\n",
       "      <td>5.0</td>\n",
       "      <td>20231213</td>\n",
       "    </tr>\n",
       "  </tbody>\n",
       "</table>\n",
       "</div>"
      ],
      "text/plain": [
       "                             PATIENT_ID                          ENCOUNTER_ID  \\\n",
       "0  6F9F2829-A789-486E-B802-7972075C5B45  001414AF-4094-4F99-B8DC-3E5DFA53B97C   \n",
       "1  2030567A-5A85-49E8-A2FC-96DBBAA2259B  0F1B478F-4840-473B-870E-099C1D224A34   \n",
       "2  A33163AB-0035-4FEE-A8EB-4B1D062BA2A3  12277B3D-D5CE-4748-A68E-CA21A7E48452   \n",
       "3  502DCB86-3801-4658-8B5B-284FF484A72C  13B990B8-EBDA-4BFE-9E32-320218C03137   \n",
       "4  403849D6-237F-44B9-B617-EA92A1DC398C  176866B9-C102-4300-AB45-4BFFFEA8A042   \n",
       "\n",
       "  DX_CODE DX_CODE_TYPE   QS_NAME QS_MEASURE_NAME  QS_LINE     QS_DATE  \\\n",
       "0   L30.1    ICD-10-CM  BSA RASH        BSA RASH      NaN  2021-07-19   \n",
       "1   B35.4    ICD-10-CM  BSA RASH        BSA RASH      NaN  2022-07-14   \n",
       "2   L93.1    ICD-10-CM  BSA RASH        BSA RASH      NaN  2020-05-01   \n",
       "3  L20.84    ICD-10-CM  BSA RASH        BSA RASH      NaN  2022-06-29   \n",
       "4     R21    ICD-10-CM  BSA RASH        BSA RASH      NaN  2021-09-24   \n",
       "\n",
       "    QS_TIME  QS_RESPONDER  QS_PROV_ID  QS_PROV_TAXON QS_QUESTION QS_RESPONSE  \\\n",
       "0  18:38:00           NaN         NaN            NaN         NaN         NaN   \n",
       "1  23:00:00           NaN         NaN            NaN         NaN         NaN   \n",
       "2  16:39:19           NaN         NaN            NaN         NaN         NaN   \n",
       "3  13:41:00           NaN         NaN            NaN         NaN         NaN   \n",
       "4  13:16:00           NaN         NaN            NaN         NaN         NaN   \n",
       "\n",
       "   QS_VALUE QS_UNSTRUCTURED  DATA_SUPPLIER_ID  \\\n",
       "0       5.0              NO              8669   \n",
       "1      20.0              NO              6808   \n",
       "2      12.0              NO              8551   \n",
       "3      10.0              NO              2750   \n",
       "4       7.0              NO              8551   \n",
       "\n",
       "                       PRODUCT_NAME  PRODUCT_VERSION  EXPORT_DATE  \n",
       "0  ALOPECIA_AREATA_SUBSAMPLE_SCORES              5.0     20231213  \n",
       "1  ALOPECIA_AREATA_SUBSAMPLE_SCORES              5.0     20231213  \n",
       "2  ALOPECIA_AREATA_SUBSAMPLE_SCORES              5.0     20231213  \n",
       "3  ALOPECIA_AREATA_SUBSAMPLE_SCORES              5.0     20231213  \n",
       "4  ALOPECIA_AREATA_SUBSAMPLE_SCORES              5.0     20231213  "
      ]
     },
     "execution_count": 4,
     "metadata": {},
     "output_type": "execute_result"
    }
   ],
   "source": [
    "data.head()"
   ]
  },
  {
   "cell_type": "code",
   "execution_count": 5,
   "id": "04ab3c59-c510-48cc-a357-c7dd526fc9ea",
   "metadata": {},
   "outputs": [
    {
     "data": {
      "text/html": [
       "<div>\n",
       "<style scoped>\n",
       "    .dataframe tbody tr th:only-of-type {\n",
       "        vertical-align: middle;\n",
       "    }\n",
       "\n",
       "    .dataframe tbody tr th {\n",
       "        vertical-align: top;\n",
       "    }\n",
       "\n",
       "    .dataframe thead th {\n",
       "        text-align: right;\n",
       "    }\n",
       "</style>\n",
       "<table border=\"1\" class=\"dataframe\">\n",
       "  <thead>\n",
       "    <tr style=\"text-align: right;\">\n",
       "      <th></th>\n",
       "      <th>PATIENT_ID</th>\n",
       "      <th>ENCOUNTER_ID</th>\n",
       "      <th>DX_CODE</th>\n",
       "      <th>DX_CODE_TYPE</th>\n",
       "      <th>QS_NAME</th>\n",
       "      <th>QS_MEASURE_NAME</th>\n",
       "      <th>QS_LINE</th>\n",
       "      <th>QS_DATE</th>\n",
       "      <th>QS_TIME</th>\n",
       "      <th>QS_RESPONDER</th>\n",
       "      <th>QS_PROV_ID</th>\n",
       "      <th>QS_PROV_TAXON</th>\n",
       "      <th>QS_QUESTION</th>\n",
       "      <th>QS_RESPONSE</th>\n",
       "      <th>QS_VALUE</th>\n",
       "      <th>QS_UNSTRUCTURED</th>\n",
       "      <th>DATA_SUPPLIER_ID</th>\n",
       "      <th>PRODUCT_NAME</th>\n",
       "      <th>PRODUCT_VERSION</th>\n",
       "      <th>EXPORT_DATE</th>\n",
       "    </tr>\n",
       "  </thead>\n",
       "  <tbody>\n",
       "    <tr>\n",
       "      <th>79117</th>\n",
       "      <td>E3A3C104-7B94-4D53-B36E-90432614B06D</td>\n",
       "      <td>D8A1871A-4215-41BA-B383-ED5C4B9E7B10</td>\n",
       "      <td>L40.0</td>\n",
       "      <td>ICD-10-CM</td>\n",
       "      <td>PGA PSORIASIS</td>\n",
       "      <td>PGA PSORIASIS 2020</td>\n",
       "      <td>NaN</td>\n",
       "      <td>2021-03-30</td>\n",
       "      <td>17:54:00</td>\n",
       "      <td>NaN</td>\n",
       "      <td>NaN</td>\n",
       "      <td>NaN</td>\n",
       "      <td>NaN</td>\n",
       "      <td>MILD</td>\n",
       "      <td>2.0</td>\n",
       "      <td>NO</td>\n",
       "      <td>8551</td>\n",
       "      <td>ALOPECIA_AREATA_SUBSAMPLE_SCORES</td>\n",
       "      <td>5.0</td>\n",
       "      <td>20231213</td>\n",
       "    </tr>\n",
       "    <tr>\n",
       "      <th>79118</th>\n",
       "      <td>19054AED-1E8D-4850-A1CC-3EAAB5D27466</td>\n",
       "      <td>EDEB77E1-C26B-4D0F-B4D9-18EBD6B7C5AA</td>\n",
       "      <td>L40.0</td>\n",
       "      <td>ICD-10-CM</td>\n",
       "      <td>PGA PSORIASIS</td>\n",
       "      <td>PGA PSORIASIS 2020</td>\n",
       "      <td>NaN</td>\n",
       "      <td>2022-09-14</td>\n",
       "      <td>15:34:00</td>\n",
       "      <td>NaN</td>\n",
       "      <td>NaN</td>\n",
       "      <td>NaN</td>\n",
       "      <td>NaN</td>\n",
       "      <td>SEVERE</td>\n",
       "      <td>4.0</td>\n",
       "      <td>NO</td>\n",
       "      <td>8669</td>\n",
       "      <td>ALOPECIA_AREATA_SUBSAMPLE_SCORES</td>\n",
       "      <td>5.0</td>\n",
       "      <td>20231213</td>\n",
       "    </tr>\n",
       "    <tr>\n",
       "      <th>79119</th>\n",
       "      <td>F10ECD92-ABD6-460A-85CB-BB17F21E2783</td>\n",
       "      <td>EFCB33D6-D84A-487F-990E-0BFA4CD05580</td>\n",
       "      <td>L40.0</td>\n",
       "      <td>ICD-10-CM</td>\n",
       "      <td>PGA PSORIASIS</td>\n",
       "      <td>PGA PSORIASIS 2020</td>\n",
       "      <td>NaN</td>\n",
       "      <td>2021-03-22</td>\n",
       "      <td>12:08:00</td>\n",
       "      <td>NaN</td>\n",
       "      <td>NaN</td>\n",
       "      <td>NaN</td>\n",
       "      <td>NaN</td>\n",
       "      <td>MODERATE</td>\n",
       "      <td>3.0</td>\n",
       "      <td>NO</td>\n",
       "      <td>2062</td>\n",
       "      <td>ALOPECIA_AREATA_SUBSAMPLE_SCORES</td>\n",
       "      <td>5.0</td>\n",
       "      <td>20231213</td>\n",
       "    </tr>\n",
       "    <tr>\n",
       "      <th>79120</th>\n",
       "      <td>F10ECD92-ABD6-460A-85CB-BB17F21E2783</td>\n",
       "      <td>F2EF3B9C-9CEB-42E8-B1A6-A6D09A91706C</td>\n",
       "      <td>L40.0</td>\n",
       "      <td>ICD-10-CM</td>\n",
       "      <td>PGA PSORIASIS</td>\n",
       "      <td>PGA PSORIASIS 2020</td>\n",
       "      <td>NaN</td>\n",
       "      <td>2023-05-12</td>\n",
       "      <td>13:40:00</td>\n",
       "      <td>NaN</td>\n",
       "      <td>NaN</td>\n",
       "      <td>NaN</td>\n",
       "      <td>NaN</td>\n",
       "      <td>MODERATE</td>\n",
       "      <td>3.0</td>\n",
       "      <td>NO</td>\n",
       "      <td>2062</td>\n",
       "      <td>ALOPECIA_AREATA_SUBSAMPLE_SCORES</td>\n",
       "      <td>5.0</td>\n",
       "      <td>20231213</td>\n",
       "    </tr>\n",
       "    <tr>\n",
       "      <th>79121</th>\n",
       "      <td>F623ACBE-1106-4815-86D4-81A1B3B59B4A</td>\n",
       "      <td>FBF40EDA-5EC7-4725-8D95-0FB10AA0C669</td>\n",
       "      <td>L40.0</td>\n",
       "      <td>ICD-10-CM</td>\n",
       "      <td>PGA PSORIASIS</td>\n",
       "      <td>PGA PSORIASIS 2020</td>\n",
       "      <td>NaN</td>\n",
       "      <td>2022-10-27</td>\n",
       "      <td>17:15:00</td>\n",
       "      <td>NaN</td>\n",
       "      <td>NaN</td>\n",
       "      <td>NaN</td>\n",
       "      <td>NaN</td>\n",
       "      <td>MILD</td>\n",
       "      <td>2.0</td>\n",
       "      <td>NO</td>\n",
       "      <td>2062</td>\n",
       "      <td>ALOPECIA_AREATA_SUBSAMPLE_SCORES</td>\n",
       "      <td>5.0</td>\n",
       "      <td>20231213</td>\n",
       "    </tr>\n",
       "  </tbody>\n",
       "</table>\n",
       "</div>"
      ],
      "text/plain": [
       "                                 PATIENT_ID  \\\n",
       "79117  E3A3C104-7B94-4D53-B36E-90432614B06D   \n",
       "79118  19054AED-1E8D-4850-A1CC-3EAAB5D27466   \n",
       "79119  F10ECD92-ABD6-460A-85CB-BB17F21E2783   \n",
       "79120  F10ECD92-ABD6-460A-85CB-BB17F21E2783   \n",
       "79121  F623ACBE-1106-4815-86D4-81A1B3B59B4A   \n",
       "\n",
       "                               ENCOUNTER_ID DX_CODE DX_CODE_TYPE  \\\n",
       "79117  D8A1871A-4215-41BA-B383-ED5C4B9E7B10   L40.0    ICD-10-CM   \n",
       "79118  EDEB77E1-C26B-4D0F-B4D9-18EBD6B7C5AA   L40.0    ICD-10-CM   \n",
       "79119  EFCB33D6-D84A-487F-990E-0BFA4CD05580   L40.0    ICD-10-CM   \n",
       "79120  F2EF3B9C-9CEB-42E8-B1A6-A6D09A91706C   L40.0    ICD-10-CM   \n",
       "79121  FBF40EDA-5EC7-4725-8D95-0FB10AA0C669   L40.0    ICD-10-CM   \n",
       "\n",
       "             QS_NAME     QS_MEASURE_NAME  QS_LINE     QS_DATE   QS_TIME  \\\n",
       "79117  PGA PSORIASIS  PGA PSORIASIS 2020      NaN  2021-03-30  17:54:00   \n",
       "79118  PGA PSORIASIS  PGA PSORIASIS 2020      NaN  2022-09-14  15:34:00   \n",
       "79119  PGA PSORIASIS  PGA PSORIASIS 2020      NaN  2021-03-22  12:08:00   \n",
       "79120  PGA PSORIASIS  PGA PSORIASIS 2020      NaN  2023-05-12  13:40:00   \n",
       "79121  PGA PSORIASIS  PGA PSORIASIS 2020      NaN  2022-10-27  17:15:00   \n",
       "\n",
       "       QS_RESPONDER  QS_PROV_ID  QS_PROV_TAXON QS_QUESTION QS_RESPONSE  \\\n",
       "79117           NaN         NaN            NaN         NaN        MILD   \n",
       "79118           NaN         NaN            NaN         NaN      SEVERE   \n",
       "79119           NaN         NaN            NaN         NaN    MODERATE   \n",
       "79120           NaN         NaN            NaN         NaN    MODERATE   \n",
       "79121           NaN         NaN            NaN         NaN        MILD   \n",
       "\n",
       "       QS_VALUE QS_UNSTRUCTURED  DATA_SUPPLIER_ID  \\\n",
       "79117       2.0              NO              8551   \n",
       "79118       4.0              NO              8669   \n",
       "79119       3.0              NO              2062   \n",
       "79120       3.0              NO              2062   \n",
       "79121       2.0              NO              2062   \n",
       "\n",
       "                           PRODUCT_NAME  PRODUCT_VERSION  EXPORT_DATE  \n",
       "79117  ALOPECIA_AREATA_SUBSAMPLE_SCORES              5.0     20231213  \n",
       "79118  ALOPECIA_AREATA_SUBSAMPLE_SCORES              5.0     20231213  \n",
       "79119  ALOPECIA_AREATA_SUBSAMPLE_SCORES              5.0     20231213  \n",
       "79120  ALOPECIA_AREATA_SUBSAMPLE_SCORES              5.0     20231213  \n",
       "79121  ALOPECIA_AREATA_SUBSAMPLE_SCORES              5.0     20231213  "
      ]
     },
     "execution_count": 5,
     "metadata": {},
     "output_type": "execute_result"
    }
   ],
   "source": [
    "data.tail()"
   ]
  },
  {
   "cell_type": "code",
   "execution_count": 6,
   "id": "720a6287-67e1-4bd5-8abf-c1db7c717faf",
   "metadata": {},
   "outputs": [
    {
     "name": "stdout",
     "output_type": "stream",
     "text": [
      "<class 'pandas.core.frame.DataFrame'>\n",
      "RangeIndex: 79122 entries, 0 to 79121\n",
      "Data columns (total 20 columns):\n",
      " #   Column            Non-Null Count  Dtype  \n",
      "---  ------            --------------  -----  \n",
      " 0   PATIENT_ID        79122 non-null  object \n",
      " 1   ENCOUNTER_ID      79122 non-null  object \n",
      " 2   DX_CODE           79122 non-null  object \n",
      " 3   DX_CODE_TYPE      79122 non-null  object \n",
      " 4   QS_NAME           79122 non-null  object \n",
      " 5   QS_MEASURE_NAME   79122 non-null  object \n",
      " 6   QS_LINE           78146 non-null  float64\n",
      " 7   QS_DATE           79122 non-null  object \n",
      " 8   QS_TIME           79122 non-null  object \n",
      " 9   QS_RESPONDER      0 non-null      float64\n",
      " 10  QS_PROV_ID        0 non-null      float64\n",
      " 11  QS_PROV_TAXON     0 non-null      float64\n",
      " 12  QS_QUESTION       775 non-null    object \n",
      " 13  QS_RESPONSE       78582 non-null  object \n",
      " 14  QS_VALUE          976 non-null    float64\n",
      " 15  QS_UNSTRUCTURED   79122 non-null  object \n",
      " 16  DATA_SUPPLIER_ID  79122 non-null  int64  \n",
      " 17  PRODUCT_NAME      79122 non-null  object \n",
      " 18  PRODUCT_VERSION   79122 non-null  float64\n",
      " 19  EXPORT_DATE       79122 non-null  int64  \n",
      "dtypes: float64(6), int64(2), object(12)\n",
      "memory usage: 12.1+ MB\n"
     ]
    }
   ],
   "source": [
    "data.info()"
   ]
  },
  {
   "cell_type": "markdown",
   "id": "30f3c954-d5ee-4ce2-8b80-6552a6280f0d",
   "metadata": {},
   "source": [
    "Large dataset- memory usage: 12.1+ MB"
   ]
  },
  {
   "cell_type": "markdown",
   "id": "d2cc0eb2-c50a-4f93-9d4a-be37d329073e",
   "metadata": {},
   "source": [
    "## Checking for Duplication"
   ]
  },
  {
   "cell_type": "code",
   "execution_count": 8,
   "id": "88e519e8-f7b8-430b-a008-7f70e2bcc549",
   "metadata": {},
   "outputs": [
    {
     "data": {
      "text/plain": [
       "PATIENT_ID           904\n",
       "ENCOUNTER_ID        6524\n",
       "DX_CODE              233\n",
       "DX_CODE_TYPE           1\n",
       "QS_NAME               23\n",
       "QS_MEASURE_NAME       24\n",
       "QS_LINE                2\n",
       "QS_DATE             1604\n",
       "QS_TIME             1239\n",
       "QS_RESPONDER           0\n",
       "QS_PROV_ID             0\n",
       "QS_PROV_TAXON          0\n",
       "QS_QUESTION           12\n",
       "QS_RESPONSE          929\n",
       "QS_VALUE              36\n",
       "QS_UNSTRUCTURED        1\n",
       "DATA_SUPPLIER_ID       6\n",
       "PRODUCT_NAME           1\n",
       "PRODUCT_VERSION        1\n",
       "EXPORT_DATE            1\n",
       "dtype: int64"
      ]
     },
     "execution_count": 8,
     "metadata": {},
     "output_type": "execute_result"
    }
   ],
   "source": [
    "data.nunique()"
   ]
  },
  {
   "cell_type": "code",
   "execution_count": 9,
   "id": "d9d1f07a-92fd-44a1-a6f9-9581950347ba",
   "metadata": {},
   "outputs": [
    {
     "name": "stdout",
     "output_type": "stream",
     "text": [
      "Empty DataFrame\n",
      "Columns: [PATIENT_ID, ENCOUNTER_ID, DX_CODE, DX_CODE_TYPE, QS_NAME, QS_MEASURE_NAME, QS_LINE, QS_DATE, QS_TIME, QS_RESPONDER, QS_PROV_ID, QS_PROV_TAXON, QS_QUESTION, QS_RESPONSE, QS_VALUE, QS_UNSTRUCTURED, DATA_SUPPLIER_ID, PRODUCT_NAME, PRODUCT_VERSION, EXPORT_DATE]\n",
      "Index: []\n"
     ]
    }
   ],
   "source": [
    "duplicate_rows = data[data.duplicated()]\n",
    "print(duplicate_rows)"
   ]
  },
  {
   "cell_type": "code",
   "execution_count": null,
   "id": "406acff7-a6bb-4787-ba32-245133f5298d",
   "metadata": {},
   "outputs": [],
   "source": []
  },
  {
   "cell_type": "markdown",
   "id": "898abf8a-1f33-4e2e-8f23-5b49f18204a9",
   "metadata": {},
   "source": [
    "## Checking Missing Values "
   ]
  },
  {
   "cell_type": "code",
   "execution_count": 11,
   "id": "343491d7-a42c-4827-be4e-9a2b1aac3613",
   "metadata": {},
   "outputs": [
    {
     "data": {
      "text/plain": [
       "PATIENT_ID              0\n",
       "ENCOUNTER_ID            0\n",
       "DX_CODE                 0\n",
       "DX_CODE_TYPE            0\n",
       "QS_NAME                 0\n",
       "QS_MEASURE_NAME         0\n",
       "QS_LINE               976\n",
       "QS_DATE                 0\n",
       "QS_TIME                 0\n",
       "QS_RESPONDER        79122\n",
       "QS_PROV_ID          79122\n",
       "QS_PROV_TAXON       79122\n",
       "QS_QUESTION         78347\n",
       "QS_RESPONSE           540\n",
       "QS_VALUE            78146\n",
       "QS_UNSTRUCTURED         0\n",
       "DATA_SUPPLIER_ID        0\n",
       "PRODUCT_NAME            0\n",
       "PRODUCT_VERSION         0\n",
       "EXPORT_DATE             0\n",
       "dtype: int64"
      ]
     },
     "execution_count": 11,
     "metadata": {},
     "output_type": "execute_result"
    }
   ],
   "source": [
    "data.isnull().sum()"
   ]
  },
  {
   "cell_type": "code",
   "execution_count": 12,
   "id": "9447608c-32cc-44fa-9033-ddbf15346a8a",
   "metadata": {},
   "outputs": [
    {
     "data": {
      "text/plain": [
       "PATIENT_ID            0.000000\n",
       "ENCOUNTER_ID          0.000000\n",
       "DX_CODE               0.000000\n",
       "DX_CODE_TYPE          0.000000\n",
       "QS_NAME               0.000000\n",
       "QS_MEASURE_NAME       0.000000\n",
       "QS_LINE               1.233538\n",
       "QS_DATE               0.000000\n",
       "QS_TIME               0.000000\n",
       "QS_RESPONDER        100.000000\n",
       "QS_PROV_ID          100.000000\n",
       "QS_PROV_TAXON       100.000000\n",
       "QS_QUESTION          99.020500\n",
       "QS_RESPONSE           0.682490\n",
       "QS_VALUE             98.766462\n",
       "QS_UNSTRUCTURED       0.000000\n",
       "DATA_SUPPLIER_ID      0.000000\n",
       "PRODUCT_NAME          0.000000\n",
       "PRODUCT_VERSION       0.000000\n",
       "EXPORT_DATE           0.000000\n",
       "dtype: float64"
      ]
     },
     "execution_count": 12,
     "metadata": {},
     "output_type": "execute_result"
    }
   ],
   "source": [
    "(data.isnull().sum()/(len(data)))*100"
   ]
  },
  {
   "cell_type": "code",
   "execution_count": null,
   "id": "abb76afc-06d4-43d2-93fc-59be50e4ebca",
   "metadata": {},
   "outputs": [],
   "source": [
    "Data Has Many Missing Values ! need to drop the column with all NaN values"
   ]
  },
  {
   "cell_type": "code",
   "execution_count": 13,
   "id": "53087a86-fbc8-481a-893a-32b9350aa678",
   "metadata": {},
   "outputs": [
    {
     "data": {
      "text/plain": [
       "<Axes: >"
      ]
     },
     "execution_count": 13,
     "metadata": {},
     "output_type": "execute_result"
    },
    {
     "data": {
      "image/png": "[encoded data removed]",
      "text/plain": [
       "<Figure size 640x480 with 1 Axes>"
      ]
     },
     "metadata": {},
     "output_type": "display_data"
    }
   ],
   "source": [
    "sns.heatmap(data.isnull(),yticklabels=False,cbar=False,cmap='viridis')"
   ]
  },
  {
   "cell_type": "markdown",
   "id": "b9e793c5-fe12-44ad-82b6-c8344cbc572f",
   "metadata": {},
   "source": [
    "## Checking for inconsistent data types"
   ]
  },
  {
   "cell_type": "code",
   "execution_count": 15,
   "id": "2084af71-3abe-4d2d-85a2-66829a0cf8f5",
   "metadata": {},
   "outputs": [
    {
     "name": "stdout",
     "output_type": "stream",
     "text": [
      "PATIENT_ID           object\n",
      "ENCOUNTER_ID         object\n",
      "DX_CODE              object\n",
      "DX_CODE_TYPE         object\n",
      "QS_NAME              object\n",
      "QS_MEASURE_NAME      object\n",
      "QS_LINE             float64\n",
      "QS_DATE              object\n",
      "QS_TIME              object\n",
      "QS_RESPONDER        float64\n",
      "QS_PROV_ID          float64\n",
      "QS_PROV_TAXON       float64\n",
      "QS_QUESTION          object\n",
      "QS_RESPONSE          object\n",
      "QS_VALUE            float64\n",
      "QS_UNSTRUCTURED      object\n",
      "DATA_SUPPLIER_ID      int64\n",
      "PRODUCT_NAME         object\n",
      "PRODUCT_VERSION     float64\n",
      "EXPORT_DATE           int64\n",
      "dtype: object\n"
     ]
    }
   ],
   "source": [
    "data_types = data.dtypes\n",
    "print(data_types)"
   ]
  }
 ],
 "metadata": {
  "kernelspec": {
   "display_name": "venv",
   "language": "python",
   "name": "venv"
  },
  "language_info": {
   "codemirror_mode": {
    "name": "ipython",
    "version": 3
   },
   "file_extension": ".py",
   "mimetype": "text/x-python",
   "name": "python",
   "nbconvert_exporter": "python",
   "pygments_lexer": "ipython3",
   "version": "3.9.6"
  }
 },
 "nbformat": 4,
 "nbformat_minor": 5
}
