{
 "cells": [
  {
   "cell_type": "code",
   "execution_count": 1,
   "id": "bbc52153-0ee4-4b41-abe8-865e7b761f82",
   "metadata": {},
   "outputs": [
    {
     "name": "stderr",
     "output_type": "stream",
     "text": [
      "/var/folders/3m/l0tyzx5j5lg1wtczpcc3ff8h0000gn/T/ipykernel_89380/1654069430.py:1: DeprecationWarning: \n",
      "Pyarrow will become a required dependency of pandas in the next major release of pandas (pandas 3.0),\n",
      "(to allow more performant data types, such as the Arrow string type, and better interoperability with other libraries)\n",
      "but was not found to be installed on your system.\n",
      "If this would cause problems for you,\n",
      "please provide us feedback at https://github.com/pandas-dev/pandas/issues/54466\n",
      "        \n",
      "  import pandas as pd\n"
     ]
    }
   ],
   "source": [
    "import pandas as pd\n",
    "import numpy as np\n",
    "import matplotlib.pyplot as plt\n",
    "import seaborn as sns\n",
    "%matplotlib inline"
   ]
  },
  {
   "cell_type": "code",
   "execution_count": 8,
   "id": "ac566e8a-ae01-479a-b8e1-85cf4f4549e6",
   "metadata": {},
   "outputs": [],
   "source": [
    "data = pd.read_csv('alopecia-areata-subsample/DIAGNOSES/data_000000000000.csv', delimiter=\"|\")"
   ]
  },
  {
   "cell_type": "code",
   "execution_count": 9,
   "id": "49617be4-97e5-4352-a026-b613ea60e5c6",
   "metadata": {},
   "outputs": [
    {
     "data": {
      "text/html": [
       "<div>\n",
       "<style scoped>\n",
       "    .dataframe tbody tr th:only-of-type {\n",
       "        vertical-align: middle;\n",
       "    }\n",
       "\n",
       "    .dataframe tbody tr th {\n",
       "        vertical-align: top;\n",
       "    }\n",
       "\n",
       "    .dataframe thead th {\n",
       "        text-align: right;\n",
       "    }\n",
       "</style>\n",
       "<table border=\"1\" class=\"dataframe\">\n",
       "  <thead>\n",
       "    <tr style=\"text-align: right;\">\n",
       "      <th></th>\n",
       "      <th>PATIENT_ID</th>\n",
       "      <th>ENCOUNTER_ID</th>\n",
       "      <th>DX_LINE</th>\n",
       "      <th>DX_DATE</th>\n",
       "      <th>DX_TIME</th>\n",
       "      <th>DX_CODE</th>\n",
       "      <th>DX_CODE_TYPE</th>\n",
       "      <th>DX_HCS_DESC</th>\n",
       "      <th>DX_PRIMARY</th>\n",
       "      <th>DX_CHRONIC</th>\n",
       "      <th>DATA_SUPPLIER_ID</th>\n",
       "      <th>PRODUCT_NAME</th>\n",
       "      <th>PRODUCT_VERSION</th>\n",
       "      <th>EXPORT_DATE</th>\n",
       "    </tr>\n",
       "  </thead>\n",
       "  <tbody>\n",
       "    <tr>\n",
       "      <th>0</th>\n",
       "      <td>00018A45-52DD-4BEF-8870-C65A168F3974</td>\n",
       "      <td>3E351E7B-F75D-4F4B-95EF-508E018224C7</td>\n",
       "      <td>2.0</td>\n",
       "      <td>2018-10-01</td>\n",
       "      <td>13:36:00</td>\n",
       "      <td>L63.8</td>\n",
       "      <td>ICD-10-CM</td>\n",
       "      <td>OTHER ALOPECIA AREATA</td>\n",
       "      <td>NO</td>\n",
       "      <td>NO</td>\n",
       "      <td>4632</td>\n",
       "      <td>ALOPECIA_AREATA_SUBSAMPLE_DIAGNOSES</td>\n",
       "      <td>5.0</td>\n",
       "      <td>20231213</td>\n",
       "    </tr>\n",
       "    <tr>\n",
       "      <th>1</th>\n",
       "      <td>00018A45-52DD-4BEF-8870-C65A168F3974</td>\n",
       "      <td>3E351E7B-F75D-4F4B-95EF-508E018224C7</td>\n",
       "      <td>1.0</td>\n",
       "      <td>2018-10-01</td>\n",
       "      <td>13:36:00</td>\n",
       "      <td>H02.72</td>\n",
       "      <td>ICD-10-CM</td>\n",
       "      <td>MADAROSIS OF EYELID AND PERIOCULAR AREA</td>\n",
       "      <td>NO</td>\n",
       "      <td>NO</td>\n",
       "      <td>4632</td>\n",
       "      <td>ALOPECIA_AREATA_SUBSAMPLE_DIAGNOSES</td>\n",
       "      <td>5.0</td>\n",
       "      <td>20231213</td>\n",
       "    </tr>\n",
       "    <tr>\n",
       "      <th>2</th>\n",
       "      <td>00018A45-52DD-4BEF-8870-C65A168F3974</td>\n",
       "      <td>7213E4F6-4F32-4F3D-B3EF-BAF26E6C2EC4</td>\n",
       "      <td>1.0</td>\n",
       "      <td>2018-09-19</td>\n",
       "      <td>14:05:00</td>\n",
       "      <td>L65.9</td>\n",
       "      <td>ICD-10-CM</td>\n",
       "      <td>NONSCARRING HAIR LOSS, UNSPECIFIED</td>\n",
       "      <td>NO</td>\n",
       "      <td>NO</td>\n",
       "      <td>4632</td>\n",
       "      <td>ALOPECIA_AREATA_SUBSAMPLE_DIAGNOSES</td>\n",
       "      <td>5.0</td>\n",
       "      <td>20231213</td>\n",
       "    </tr>\n",
       "    <tr>\n",
       "      <th>3</th>\n",
       "      <td>00018A45-52DD-4BEF-8870-C65A168F3974</td>\n",
       "      <td>F1DF8DF7-59ED-4E87-9454-1EE312A56A13</td>\n",
       "      <td>1.0</td>\n",
       "      <td>2019-09-03</td>\n",
       "      <td>12:57:00</td>\n",
       "      <td>L63.8</td>\n",
       "      <td>ICD-10-CM</td>\n",
       "      <td>OTHER ALOPECIA AREATA</td>\n",
       "      <td>NO</td>\n",
       "      <td>NO</td>\n",
       "      <td>4632</td>\n",
       "      <td>ALOPECIA_AREATA_SUBSAMPLE_DIAGNOSES</td>\n",
       "      <td>5.0</td>\n",
       "      <td>20231213</td>\n",
       "    </tr>\n",
       "    <tr>\n",
       "      <th>4</th>\n",
       "      <td>0016E6CD-2A47-4E64-8A4B-E8941917C8BD</td>\n",
       "      <td>0FDD4B6D-E111-41C2-B59F-34225EE20EBC</td>\n",
       "      <td>1.0</td>\n",
       "      <td>2021-08-05</td>\n",
       "      <td>14:17:00</td>\n",
       "      <td>L65.9</td>\n",
       "      <td>ICD-10-CM</td>\n",
       "      <td>NONSCARRING HAIR LOSS, UNSPECIFIED</td>\n",
       "      <td>NO</td>\n",
       "      <td>NO</td>\n",
       "      <td>8551</td>\n",
       "      <td>ALOPECIA_AREATA_SUBSAMPLE_DIAGNOSES</td>\n",
       "      <td>5.0</td>\n",
       "      <td>20231213</td>\n",
       "    </tr>\n",
       "  </tbody>\n",
       "</table>\n",
       "</div>"
      ],
      "text/plain": [
       "                             PATIENT_ID                          ENCOUNTER_ID  \\\n",
       "0  00018A45-52DD-4BEF-8870-C65A168F3974  3E351E7B-F75D-4F4B-95EF-508E018224C7   \n",
       "1  00018A45-52DD-4BEF-8870-C65A168F3974  3E351E7B-F75D-4F4B-95EF-508E018224C7   \n",
       "2  00018A45-52DD-4BEF-8870-C65A168F3974  7213E4F6-4F32-4F3D-B3EF-BAF26E6C2EC4   \n",
       "3  00018A45-52DD-4BEF-8870-C65A168F3974  F1DF8DF7-59ED-4E87-9454-1EE312A56A13   \n",
       "4  0016E6CD-2A47-4E64-8A4B-E8941917C8BD  0FDD4B6D-E111-41C2-B59F-34225EE20EBC   \n",
       "\n",
       "   DX_LINE     DX_DATE   DX_TIME DX_CODE DX_CODE_TYPE  \\\n",
       "0      2.0  2018-10-01  13:36:00   L63.8    ICD-10-CM   \n",
       "1      1.0  2018-10-01  13:36:00  H02.72    ICD-10-CM   \n",
       "2      1.0  2018-09-19  14:05:00   L65.9    ICD-10-CM   \n",
       "3      1.0  2019-09-03  12:57:00   L63.8    ICD-10-CM   \n",
       "4      1.0  2021-08-05  14:17:00   L65.9    ICD-10-CM   \n",
       "\n",
       "                               DX_HCS_DESC DX_PRIMARY DX_CHRONIC  \\\n",
       "0                    OTHER ALOPECIA AREATA         NO         NO   \n",
       "1  MADAROSIS OF EYELID AND PERIOCULAR AREA         NO         NO   \n",
       "2       NONSCARRING HAIR LOSS, UNSPECIFIED         NO         NO   \n",
       "3                    OTHER ALOPECIA AREATA         NO         NO   \n",
       "4       NONSCARRING HAIR LOSS, UNSPECIFIED         NO         NO   \n",
       "\n",
       "   DATA_SUPPLIER_ID                         PRODUCT_NAME  PRODUCT_VERSION  \\\n",
       "0              4632  ALOPECIA_AREATA_SUBSAMPLE_DIAGNOSES              5.0   \n",
       "1              4632  ALOPECIA_AREATA_SUBSAMPLE_DIAGNOSES              5.0   \n",
       "2              4632  ALOPECIA_AREATA_SUBSAMPLE_DIAGNOSES              5.0   \n",
       "3              4632  ALOPECIA_AREATA_SUBSAMPLE_DIAGNOSES              5.0   \n",
       "4              8551  ALOPECIA_AREATA_SUBSAMPLE_DIAGNOSES              5.0   \n",
       "\n",
       "   EXPORT_DATE  \n",
       "0     20231213  \n",
       "1     20231213  \n",
       "2     20231213  \n",
       "3     20231213  \n",
       "4     20231213  "
      ]
     },
     "execution_count": 9,
     "metadata": {},
     "output_type": "execute_result"
    }
   ],
   "source": [
    "data.head()"
   ]
  },
  {
   "cell_type": "code",
   "execution_count": 10,
   "id": "27f0e838-7257-41b3-8f0e-ea985fc073fb",
   "metadata": {},
   "outputs": [
    {
     "data": {
      "text/html": [
       "<div>\n",
       "<style scoped>\n",
       "    .dataframe tbody tr th:only-of-type {\n",
       "        vertical-align: middle;\n",
       "    }\n",
       "\n",
       "    .dataframe tbody tr th {\n",
       "        vertical-align: top;\n",
       "    }\n",
       "\n",
       "    .dataframe thead th {\n",
       "        text-align: right;\n",
       "    }\n",
       "</style>\n",
       "<table border=\"1\" class=\"dataframe\">\n",
       "  <thead>\n",
       "    <tr style=\"text-align: right;\">\n",
       "      <th></th>\n",
       "      <th>PATIENT_ID</th>\n",
       "      <th>ENCOUNTER_ID</th>\n",
       "      <th>DX_LINE</th>\n",
       "      <th>DX_DATE</th>\n",
       "      <th>DX_TIME</th>\n",
       "      <th>DX_CODE</th>\n",
       "      <th>DX_CODE_TYPE</th>\n",
       "      <th>DX_HCS_DESC</th>\n",
       "      <th>DX_PRIMARY</th>\n",
       "      <th>DX_CHRONIC</th>\n",
       "      <th>DATA_SUPPLIER_ID</th>\n",
       "      <th>PRODUCT_NAME</th>\n",
       "      <th>PRODUCT_VERSION</th>\n",
       "      <th>EXPORT_DATE</th>\n",
       "    </tr>\n",
       "  </thead>\n",
       "  <tbody>\n",
       "    <tr>\n",
       "      <th>17566</th>\n",
       "      <td>FFE410FD-A1A0-45C1-AEE9-832016BFCFA9</td>\n",
       "      <td>90458C32-9FF8-4F75-BC00-5DE78E707728</td>\n",
       "      <td>2.0</td>\n",
       "      <td>2023-05-10</td>\n",
       "      <td>14:20:00</td>\n",
       "      <td>L29.8</td>\n",
       "      <td>ICD-10-CM</td>\n",
       "      <td>OTHER PRURITUS</td>\n",
       "      <td>NO</td>\n",
       "      <td>NO</td>\n",
       "      <td>4632</td>\n",
       "      <td>ALOPECIA_AREATA_SUBSAMPLE_DIAGNOSES</td>\n",
       "      <td>5.0</td>\n",
       "      <td>20231213</td>\n",
       "    </tr>\n",
       "    <tr>\n",
       "      <th>17567</th>\n",
       "      <td>FFE410FD-A1A0-45C1-AEE9-832016BFCFA9</td>\n",
       "      <td>90458C32-9FF8-4F75-BC00-5DE78E707728</td>\n",
       "      <td>1.0</td>\n",
       "      <td>2023-05-10</td>\n",
       "      <td>14:20:00</td>\n",
       "      <td>L63.8</td>\n",
       "      <td>ICD-10-CM</td>\n",
       "      <td>OTHER ALOPECIA AREATA</td>\n",
       "      <td>NO</td>\n",
       "      <td>NO</td>\n",
       "      <td>4632</td>\n",
       "      <td>ALOPECIA_AREATA_SUBSAMPLE_DIAGNOSES</td>\n",
       "      <td>5.0</td>\n",
       "      <td>20231213</td>\n",
       "    </tr>\n",
       "    <tr>\n",
       "      <th>17568</th>\n",
       "      <td>FFE410FD-A1A0-45C1-AEE9-832016BFCFA9</td>\n",
       "      <td>B6649E4B-3E32-4240-83F9-FC944DDEE748</td>\n",
       "      <td>1.0</td>\n",
       "      <td>2023-04-05</td>\n",
       "      <td>14:20:00</td>\n",
       "      <td>L63.8</td>\n",
       "      <td>ICD-10-CM</td>\n",
       "      <td>OTHER ALOPECIA AREATA</td>\n",
       "      <td>NO</td>\n",
       "      <td>NO</td>\n",
       "      <td>4632</td>\n",
       "      <td>ALOPECIA_AREATA_SUBSAMPLE_DIAGNOSES</td>\n",
       "      <td>5.0</td>\n",
       "      <td>20231213</td>\n",
       "    </tr>\n",
       "    <tr>\n",
       "      <th>17569</th>\n",
       "      <td>FFE410FD-A1A0-45C1-AEE9-832016BFCFA9</td>\n",
       "      <td>F70AEC9F-02AE-4132-BAD2-F56DBF943413</td>\n",
       "      <td>1.0</td>\n",
       "      <td>2022-12-14</td>\n",
       "      <td>15:20:00</td>\n",
       "      <td>L63.8</td>\n",
       "      <td>ICD-10-CM</td>\n",
       "      <td>OTHER ALOPECIA AREATA</td>\n",
       "      <td>NO</td>\n",
       "      <td>NO</td>\n",
       "      <td>4632</td>\n",
       "      <td>ALOPECIA_AREATA_SUBSAMPLE_DIAGNOSES</td>\n",
       "      <td>5.0</td>\n",
       "      <td>20231213</td>\n",
       "    </tr>\n",
       "    <tr>\n",
       "      <th>17570</th>\n",
       "      <td>FFE5DF19-0C98-43B6-96DA-D0ADCF740580</td>\n",
       "      <td>98EB1687-8972-41C2-85C0-4FA926322A4F</td>\n",
       "      <td>1.0</td>\n",
       "      <td>2023-07-17</td>\n",
       "      <td>12:30:00</td>\n",
       "      <td>L63.8</td>\n",
       "      <td>ICD-10-CM</td>\n",
       "      <td>OTHER ALOPECIA AREATA</td>\n",
       "      <td>NO</td>\n",
       "      <td>NO</td>\n",
       "      <td>2062</td>\n",
       "      <td>ALOPECIA_AREATA_SUBSAMPLE_DIAGNOSES</td>\n",
       "      <td>5.0</td>\n",
       "      <td>20231213</td>\n",
       "    </tr>\n",
       "  </tbody>\n",
       "</table>\n",
       "</div>"
      ],
      "text/plain": [
       "                                 PATIENT_ID  \\\n",
       "17566  FFE410FD-A1A0-45C1-AEE9-832016BFCFA9   \n",
       "17567  FFE410FD-A1A0-45C1-AEE9-832016BFCFA9   \n",
       "17568  FFE410FD-A1A0-45C1-AEE9-832016BFCFA9   \n",
       "17569  FFE410FD-A1A0-45C1-AEE9-832016BFCFA9   \n",
       "17570  FFE5DF19-0C98-43B6-96DA-D0ADCF740580   \n",
       "\n",
       "                               ENCOUNTER_ID  DX_LINE     DX_DATE   DX_TIME  \\\n",
       "17566  90458C32-9FF8-4F75-BC00-5DE78E707728      2.0  2023-05-10  14:20:00   \n",
       "17567  90458C32-9FF8-4F75-BC00-5DE78E707728      1.0  2023-05-10  14:20:00   \n",
       "17568  B6649E4B-3E32-4240-83F9-FC944DDEE748      1.0  2023-04-05  14:20:00   \n",
       "17569  F70AEC9F-02AE-4132-BAD2-F56DBF943413      1.0  2022-12-14  15:20:00   \n",
       "17570  98EB1687-8972-41C2-85C0-4FA926322A4F      1.0  2023-07-17  12:30:00   \n",
       "\n",
       "      DX_CODE DX_CODE_TYPE            DX_HCS_DESC DX_PRIMARY DX_CHRONIC  \\\n",
       "17566   L29.8    ICD-10-CM         OTHER PRURITUS         NO         NO   \n",
       "17567   L63.8    ICD-10-CM  OTHER ALOPECIA AREATA         NO         NO   \n",
       "17568   L63.8    ICD-10-CM  OTHER ALOPECIA AREATA         NO         NO   \n",
       "17569   L63.8    ICD-10-CM  OTHER ALOPECIA AREATA         NO         NO   \n",
       "17570   L63.8    ICD-10-CM  OTHER ALOPECIA AREATA         NO         NO   \n",
       "\n",
       "       DATA_SUPPLIER_ID                         PRODUCT_NAME  PRODUCT_VERSION  \\\n",
       "17566              4632  ALOPECIA_AREATA_SUBSAMPLE_DIAGNOSES              5.0   \n",
       "17567              4632  ALOPECIA_AREATA_SUBSAMPLE_DIAGNOSES              5.0   \n",
       "17568              4632  ALOPECIA_AREATA_SUBSAMPLE_DIAGNOSES              5.0   \n",
       "17569              4632  ALOPECIA_AREATA_SUBSAMPLE_DIAGNOSES              5.0   \n",
       "17570              2062  ALOPECIA_AREATA_SUBSAMPLE_DIAGNOSES              5.0   \n",
       "\n",
       "       EXPORT_DATE  \n",
       "17566     20231213  \n",
       "17567     20231213  \n",
       "17568     20231213  \n",
       "17569     20231213  \n",
       "17570     20231213  "
      ]
     },
     "execution_count": 10,
     "metadata": {},
     "output_type": "execute_result"
    }
   ],
   "source": [
    "data.tail()"
   ]
  },
  {
   "cell_type": "code",
   "execution_count": 13,
   "id": "ecd5ce15-c496-49ab-9ae8-6c2cd9e0f2cb",
   "metadata": {},
   "outputs": [
    {
     "data": {
      "text/plain": [
       "(17571, 14)"
      ]
     },
     "execution_count": 13,
     "metadata": {},
     "output_type": "execute_result"
    }
   ],
   "source": [
    "data.shape"
   ]
  },
  {
   "cell_type": "code",
   "execution_count": 14,
   "id": "41a43f0e-7fc6-42e5-acf7-054ce229325a",
   "metadata": {},
   "outputs": [
    {
     "name": "stdout",
     "output_type": "stream",
     "text": [
      "<class 'pandas.core.frame.DataFrame'>\n",
      "RangeIndex: 17571 entries, 0 to 17570\n",
      "Data columns (total 14 columns):\n",
      " #   Column            Non-Null Count  Dtype  \n",
      "---  ------            --------------  -----  \n",
      " 0   PATIENT_ID        17571 non-null  object \n",
      " 1   ENCOUNTER_ID      17571 non-null  object \n",
      " 2   DX_LINE           16772 non-null  float64\n",
      " 3   DX_DATE           17571 non-null  object \n",
      " 4   DX_TIME           17571 non-null  object \n",
      " 5   DX_CODE           17571 non-null  object \n",
      " 6   DX_CODE_TYPE      17571 non-null  object \n",
      " 7   DX_HCS_DESC       17193 non-null  object \n",
      " 8   DX_PRIMARY        17571 non-null  object \n",
      " 9   DX_CHRONIC        17571 non-null  object \n",
      " 10  DATA_SUPPLIER_ID  17571 non-null  int64  \n",
      " 11  PRODUCT_NAME      17571 non-null  object \n",
      " 12  PRODUCT_VERSION   17571 non-null  float64\n",
      " 13  EXPORT_DATE       17571 non-null  int64  \n",
      "dtypes: float64(2), int64(2), object(10)\n",
      "memory usage: 1.9+ MB\n"
     ]
    }
   ],
   "source": [
    "data.info()"
   ]
  },
  {
   "cell_type": "markdown",
   "id": "e7be1a4a-8d0d-4bce-b355-356fef030566",
   "metadata": {},
   "source": [
    "## Check for Duplication"
   ]
  },
  {
   "cell_type": "code",
   "execution_count": 15,
   "id": "a7a50ef4-5e27-4414-87a4-07ab68104f6e",
   "metadata": {},
   "outputs": [
    {
     "data": {
      "text/plain": [
       "PATIENT_ID          1000\n",
       "ENCOUNTER_ID        8056\n",
       "DX_LINE               25\n",
       "DX_DATE             1678\n",
       "DX_TIME             1455\n",
       "DX_CODE              456\n",
       "DX_CODE_TYPE           1\n",
       "DX_HCS_DESC          443\n",
       "DX_PRIMARY             2\n",
       "DX_CHRONIC             1\n",
       "DATA_SUPPLIER_ID       8\n",
       "PRODUCT_NAME           1\n",
       "PRODUCT_VERSION        1\n",
       "EXPORT_DATE            1\n",
       "dtype: int64"
      ]
     },
     "execution_count": 15,
     "metadata": {},
     "output_type": "execute_result"
    }
   ],
   "source": [
    "data.nunique()"
   ]
  },
  {
   "cell_type": "markdown",
   "id": "60a70abe-7d3a-4abe-9650-ee5e561e482d",
   "metadata": {},
   "source": [
    "## Missing Values Calculation"
   ]
  },
  {
   "cell_type": "code",
   "execution_count": 16,
   "id": "0ff84e25-4fe4-44dd-951a-590a946d38f5",
   "metadata": {},
   "outputs": [
    {
     "data": {
      "text/plain": [
       "PATIENT_ID            0\n",
       "ENCOUNTER_ID          0\n",
       "DX_LINE             799\n",
       "DX_DATE               0\n",
       "DX_TIME               0\n",
       "DX_CODE               0\n",
       "DX_CODE_TYPE          0\n",
       "DX_HCS_DESC         378\n",
       "DX_PRIMARY            0\n",
       "DX_CHRONIC            0\n",
       "DATA_SUPPLIER_ID      0\n",
       "PRODUCT_NAME          0\n",
       "PRODUCT_VERSION       0\n",
       "EXPORT_DATE           0\n",
       "dtype: int64"
      ]
     },
     "execution_count": 16,
     "metadata": {},
     "output_type": "execute_result"
    }
   ],
   "source": [
    "data.isnull().sum()"
   ]
  },
  {
   "cell_type": "code",
   "execution_count": 17,
   "id": "c7cae7ea-06e7-4892-9817-0dfc1219cdd5",
   "metadata": {},
   "outputs": [
    {
     "data": {
      "text/plain": [
       "PATIENT_ID          0.000000\n",
       "ENCOUNTER_ID        0.000000\n",
       "DX_LINE             4.547265\n",
       "DX_DATE             0.000000\n",
       "DX_TIME             0.000000\n",
       "DX_CODE             0.000000\n",
       "DX_CODE_TYPE        0.000000\n",
       "DX_HCS_DESC         2.151272\n",
       "DX_PRIMARY          0.000000\n",
       "DX_CHRONIC          0.000000\n",
       "DATA_SUPPLIER_ID    0.000000\n",
       "PRODUCT_NAME        0.000000\n",
       "PRODUCT_VERSION     0.000000\n",
       "EXPORT_DATE         0.000000\n",
       "dtype: float64"
      ]
     },
     "execution_count": 17,
     "metadata": {},
     "output_type": "execute_result"
    }
   ],
   "source": [
    "(data.isnull().sum()/(len(data)))*100"
   ]
  },
  {
   "cell_type": "markdown",
   "id": "152b7fa7-da32-460d-a8fc-62f39e476407",
   "metadata": {},
   "source": [
    "Roughly 4.5 percent of the DX_LINE data is missing and 2.1 percent of the DX_HCS_DESC data is missing "
   ]
  },
  {
   "cell_type": "code",
   "execution_count": 19,
   "id": "8208a798-ea25-435b-8c9b-529daae14934",
   "metadata": {},
   "outputs": [
    {
     "data": {
      "text/plain": [
       "<Axes: >"
      ]
     },
     "execution_count": 19,
     "metadata": {},
     "output_type": "execute_result"
    },
    {
     "data": {
      "image/png": "[encoded data removed]",
      "text/plain": [
       "<Figure size 640x480 with 1 Axes>"
      ]
     },
     "metadata": {},
     "output_type": "display_data"
    }
   ],
   "source": [
    "sns.heatmap(data.isnull(),yticklabels=False,cbar=False,cmap='viridis')"
   ]
  },
  {
   "cell_type": "code",
   "execution_count": null,
   "id": "0cf49afa-1cda-4e67-b6da-2b49375b1960",
   "metadata": {},
   "outputs": [],
   "source": []
  }
 ],
 "metadata": {
  "kernelspec": {
   "display_name": "venv",
   "language": "python",
   "name": "venv"
  },
  "language_info": {
   "codemirror_mode": {
    "name": "ipython",
    "version": 3
   },
   "file_extension": ".py",
   "mimetype": "text/x-python",
   "name": "python",
   "nbconvert_exporter": "python",
   "pygments_lexer": "ipython3",
   "version": "3.9.6"
  }
 },
 "nbformat": 4,
 "nbformat_minor": 5
}
