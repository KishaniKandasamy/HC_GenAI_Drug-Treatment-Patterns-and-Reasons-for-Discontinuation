{
 "cells": [
  {
   "cell_type": "code",
   "execution_count": 1,
   "id": "82b59035-9fac-4b40-8a62-ad3c1dfbfabe",
   "metadata": {},
   "outputs": [
    {
     "name": "stderr",
     "output_type": "stream",
     "text": [
      "/var/folders/3m/l0tyzx5j5lg1wtczpcc3ff8h0000gn/T/ipykernel_3313/3993962526.py:1: DeprecationWarning: \n",
      "Pyarrow will become a required dependency of pandas in the next major release of pandas (pandas 3.0),\n",
      "(to allow more performant data types, such as the Arrow string type, and better interoperability with other libraries)\n",
      "but was not found to be installed on your system.\n",
      "If this would cause problems for you,\n",
      "please provide us feedback at https://github.com/pandas-dev/pandas/issues/54466\n",
      "        \n",
      "  import pandas as pd\n"
     ]
    }
   ],
   "source": [
    "import pandas as pd \n",
    "import numpy as np\n",
    "import matplotlib.pyplot as plt\n",
    "import seaborn as sns\n",
    "%matplotlib inline\n"
   ]
  },
  {
   "cell_type": "code",
   "execution_count": 2,
   "id": "d0298058-51f4-4d6b-a411-c1a02022a142",
   "metadata": {},
   "outputs": [],
   "source": [
    "data = pd.read_csv('../clinical-notes-subsample/customer facing csv files/d_sample_notes.csv',  delimiter=\"|\")"
   ]
  },
  {
   "cell_type": "code",
   "execution_count": 3,
   "id": "61b6a3f8-56cd-4cbf-9cd0-73bc75cd9ccf",
   "metadata": {},
   "outputs": [
    {
     "data": {
      "text/plain": [
       "(402, 12)"
      ]
     },
     "execution_count": 3,
     "metadata": {},
     "output_type": "execute_result"
    }
   ],
   "source": [
    "data.shape"
   ]
  },
  {
   "cell_type": "code",
   "execution_count": 4,
   "id": "5b7410d0-f655-4f12-8240-c9dbe006dce3",
   "metadata": {},
   "outputs": [
    {
     "data": {
      "text/html": [
       "<div>\n",
       "<style scoped>\n",
       "    .dataframe tbody tr th:only-of-type {\n",
       "        vertical-align: middle;\n",
       "    }\n",
       "\n",
       "    .dataframe tbody tr th {\n",
       "        vertical-align: top;\n",
       "    }\n",
       "\n",
       "    .dataframe thead th {\n",
       "        text-align: right;\n",
       "    }\n",
       "</style>\n",
       "<table border=\"1\" class=\"dataframe\">\n",
       "  <thead>\n",
       "    <tr style=\"text-align: right;\">\n",
       "      <th></th>\n",
       "      <th>patient_id</th>\n",
       "      <th>encounter_id</th>\n",
       "      <th>note_id</th>\n",
       "      <th>variable</th>\n",
       "      <th>question_text</th>\n",
       "      <th>type</th>\n",
       "      <th>component</th>\n",
       "      <th>duration_days</th>\n",
       "      <th>duration_weeks</th>\n",
       "      <th>duration_months</th>\n",
       "      <th>duration_years</th>\n",
       "      <th>deidentified,,</th>\n",
       "    </tr>\n",
       "  </thead>\n",
       "  <tbody>\n",
       "    <tr>\n",
       "      <th>0</th>\n",
       "      <td>13</td>\n",
       "      <td>186</td>\n",
       "      <td>162</td>\n",
       "      <td>time_since_last_cancer</td>\n",
       "      <td>When was your last cancer diagnosed?</td>\n",
       "      <td>TEXTAREA</td>\n",
       "      <td>DURATION</td>\n",
       "      <td>NaN</td>\n",
       "      <td>NaN</td>\n",
       "      <td>NaN</td>\n",
       "      <td>NaN</td>\n",
       "      <td>&lt;DATE&gt;,,</td>\n",
       "    </tr>\n",
       "    <tr>\n",
       "      <th>1</th>\n",
       "      <td>13</td>\n",
       "      <td>293</td>\n",
       "      <td>90</td>\n",
       "      <td>text_biopsy</td>\n",
       "      <td>When was squamous cell carcinoma biopsied? (Op...</td>\n",
       "      <td>TEXT</td>\n",
       "      <td>DURATION</td>\n",
       "      <td>NaN</td>\n",
       "      <td>NaN</td>\n",
       "      <td>NaN</td>\n",
       "      <td>NaN</td>\n",
       "      <td>&lt;DATE&gt;,,</td>\n",
       "    </tr>\n",
       "    <tr>\n",
       "      <th>2</th>\n",
       "      <td>2</td>\n",
       "      <td>57</td>\n",
       "      <td>395</td>\n",
       "      <td>text_referring_doctor</td>\n",
       "      <td>Who is your referring provider?</td>\n",
       "      <td>TEXTAREA</td>\n",
       "      <td>NaN</td>\n",
       "      <td>NaN</td>\n",
       "      <td>NaN</td>\n",
       "      <td>NaN</td>\n",
       "      <td>NaN</td>\n",
       "      <td>&lt;DOCTOR&gt;,,</td>\n",
       "    </tr>\n",
       "    <tr>\n",
       "      <th>3</th>\n",
       "      <td>13</td>\n",
       "      <td>293</td>\n",
       "      <td>88</td>\n",
       "      <td>text_accession</td>\n",
       "      <td>Accession # (Optional)</td>\n",
       "      <td>TEXT</td>\n",
       "      <td>NaN</td>\n",
       "      <td>NaN</td>\n",
       "      <td>NaN</td>\n",
       "      <td>NaN</td>\n",
       "      <td>NaN</td>\n",
       "      <td>Outside pathology,,</td>\n",
       "    </tr>\n",
       "    <tr>\n",
       "      <th>4</th>\n",
       "      <td>2</td>\n",
       "      <td>56</td>\n",
       "      <td>396</td>\n",
       "      <td>comments</td>\n",
       "      <td>Additional Comments (use complete sentences)</td>\n",
       "      <td>TEXTAREA</td>\n",
       "      <td>NaN</td>\n",
       "      <td>NaN</td>\n",
       "      <td>NaN</td>\n",
       "      <td>NaN</td>\n",
       "      <td>NaN</td>\n",
       "      <td>Pt is concerned about appearance,,</td>\n",
       "    </tr>\n",
       "  </tbody>\n",
       "</table>\n",
       "</div>"
      ],
      "text/plain": [
       "   patient_id  encounter_id  note_id                variable  \\\n",
       "0          13           186      162  time_since_last_cancer   \n",
       "1          13           293       90             text_biopsy   \n",
       "2           2            57      395   text_referring_doctor   \n",
       "3          13           293       88          text_accession   \n",
       "4           2            56      396                comments   \n",
       "\n",
       "                                       question_text      type component  \\\n",
       "0               When was your last cancer diagnosed?  TEXTAREA  DURATION   \n",
       "1  When was squamous cell carcinoma biopsied? (Op...      TEXT  DURATION   \n",
       "2                    Who is your referring provider?  TEXTAREA       NaN   \n",
       "3                             Accession # (Optional)      TEXT       NaN   \n",
       "4       Additional Comments (use complete sentences)  TEXTAREA       NaN   \n",
       "\n",
       "   duration_days  duration_weeks  duration_months  duration_years  \\\n",
       "0            NaN             NaN              NaN             NaN   \n",
       "1            NaN             NaN              NaN             NaN   \n",
       "2            NaN             NaN              NaN             NaN   \n",
       "3            NaN             NaN              NaN             NaN   \n",
       "4            NaN             NaN              NaN             NaN   \n",
       "\n",
       "                       deidentified,,  \n",
       "0                            <DATE>,,  \n",
       "1                            <DATE>,,  \n",
       "2                          <DOCTOR>,,  \n",
       "3                 Outside pathology,,  \n",
       "4  Pt is concerned about appearance,,  "
      ]
     },
     "execution_count": 4,
     "metadata": {},
     "output_type": "execute_result"
    }
   ],
   "source": [
    "data.head()"
   ]
  },
  {
   "cell_type": "code",
   "execution_count": 5,
   "id": "622d1859-65dd-4b9c-aca3-cdbc1043ee3f",
   "metadata": {},
   "outputs": [
    {
     "data": {
      "text/html": [
       "<div>\n",
       "<style scoped>\n",
       "    .dataframe tbody tr th:only-of-type {\n",
       "        vertical-align: middle;\n",
       "    }\n",
       "\n",
       "    .dataframe tbody tr th {\n",
       "        vertical-align: top;\n",
       "    }\n",
       "\n",
       "    .dataframe thead th {\n",
       "        text-align: right;\n",
       "    }\n",
       "</style>\n",
       "<table border=\"1\" class=\"dataframe\">\n",
       "  <thead>\n",
       "    <tr style=\"text-align: right;\">\n",
       "      <th></th>\n",
       "      <th>patient_id</th>\n",
       "      <th>encounter_id</th>\n",
       "      <th>note_id</th>\n",
       "      <th>variable</th>\n",
       "      <th>question_text</th>\n",
       "      <th>type</th>\n",
       "      <th>component</th>\n",
       "      <th>duration_days</th>\n",
       "      <th>duration_weeks</th>\n",
       "      <th>duration_months</th>\n",
       "      <th>duration_years</th>\n",
       "      <th>deidentified,,</th>\n",
       "    </tr>\n",
       "  </thead>\n",
       "  <tbody>\n",
       "    <tr>\n",
       "      <th>397</th>\n",
       "      <td>2</td>\n",
       "      <td>16</td>\n",
       "      <td>342</td>\n",
       "      <td>family_member_melanoma</td>\n",
       "      <td>Which Family Member (Optional)?</td>\n",
       "      <td>TEXT</td>\n",
       "      <td>NaN</td>\n",
       "      <td>NaN</td>\n",
       "      <td>NaN</td>\n",
       "      <td>NaN</td>\n",
       "      <td>NaN</td>\n",
       "      <td>Father,,</td>\n",
       "    </tr>\n",
       "    <tr>\n",
       "      <th>398</th>\n",
       "      <td>35</td>\n",
       "      <td>171</td>\n",
       "      <td>3</td>\n",
       "      <td>family_member_melanoma</td>\n",
       "      <td>Which Family Member (Optional)?</td>\n",
       "      <td>TEXT</td>\n",
       "      <td>NaN</td>\n",
       "      <td>NaN</td>\n",
       "      <td>NaN</td>\n",
       "      <td>NaN</td>\n",
       "      <td>NaN</td>\n",
       "      <td>Mother,,</td>\n",
       "    </tr>\n",
       "    <tr>\n",
       "      <th>399</th>\n",
       "      <td>2</td>\n",
       "      <td>107</td>\n",
       "      <td>234</td>\n",
       "      <td>family_member_melanoma</td>\n",
       "      <td>Which Family Member (Optional)?</td>\n",
       "      <td>TEXT</td>\n",
       "      <td>NaN</td>\n",
       "      <td>NaN</td>\n",
       "      <td>NaN</td>\n",
       "      <td>NaN</td>\n",
       "      <td>NaN</td>\n",
       "      <td>Mother,,</td>\n",
       "    </tr>\n",
       "    <tr>\n",
       "      <th>400</th>\n",
       "      <td>23</td>\n",
       "      <td>182</td>\n",
       "      <td>172</td>\n",
       "      <td>family_member_melanoma</td>\n",
       "      <td>Which Family Member (Optional)?</td>\n",
       "      <td>TEXT</td>\n",
       "      <td>NaN</td>\n",
       "      <td>NaN</td>\n",
       "      <td>NaN</td>\n",
       "      <td>NaN</td>\n",
       "      <td>NaN</td>\n",
       "      <td>Brother,,</td>\n",
       "    </tr>\n",
       "    <tr>\n",
       "      <th>401</th>\n",
       "      <td>19</td>\n",
       "      <td>5</td>\n",
       "      <td>312</td>\n",
       "      <td>family_member_melanoma</td>\n",
       "      <td>Which Family Member (Optional)?</td>\n",
       "      <td>TEXT</td>\n",
       "      <td>NaN</td>\n",
       "      <td>NaN</td>\n",
       "      <td>NaN</td>\n",
       "      <td>NaN</td>\n",
       "      <td>NaN</td>\n",
       "      <td>Father, son,</td>\n",
       "    </tr>\n",
       "  </tbody>\n",
       "</table>\n",
       "</div>"
      ],
      "text/plain": [
       "     patient_id  encounter_id  note_id                variable  \\\n",
       "397           2            16      342  family_member_melanoma   \n",
       "398          35           171        3  family_member_melanoma   \n",
       "399           2           107      234  family_member_melanoma   \n",
       "400          23           182      172  family_member_melanoma   \n",
       "401          19             5      312  family_member_melanoma   \n",
       "\n",
       "                       question_text  type component  duration_days  \\\n",
       "397  Which Family Member (Optional)?  TEXT       NaN            NaN   \n",
       "398  Which Family Member (Optional)?  TEXT       NaN            NaN   \n",
       "399  Which Family Member (Optional)?  TEXT       NaN            NaN   \n",
       "400  Which Family Member (Optional)?  TEXT       NaN            NaN   \n",
       "401  Which Family Member (Optional)?  TEXT       NaN            NaN   \n",
       "\n",
       "     duration_weeks  duration_months  duration_years deidentified,,  \n",
       "397             NaN              NaN             NaN       Father,,  \n",
       "398             NaN              NaN             NaN       Mother,,  \n",
       "399             NaN              NaN             NaN       Mother,,  \n",
       "400             NaN              NaN             NaN      Brother,,  \n",
       "401             NaN              NaN             NaN   Father, son,  "
      ]
     },
     "execution_count": 5,
     "metadata": {},
     "output_type": "execute_result"
    }
   ],
   "source": [
    "data.tail()"
   ]
  },
  {
   "cell_type": "code",
   "execution_count": 6,
   "id": "64870a55-46a9-4498-aad4-1420235ccb2b",
   "metadata": {},
   "outputs": [
    {
     "name": "stdout",
     "output_type": "stream",
     "text": [
      "<class 'pandas.core.frame.DataFrame'>\n",
      "RangeIndex: 402 entries, 0 to 401\n",
      "Data columns (total 12 columns):\n",
      " #   Column           Non-Null Count  Dtype  \n",
      "---  ------           --------------  -----  \n",
      " 0   patient_id       402 non-null    int64  \n",
      " 1   encounter_id     402 non-null    int64  \n",
      " 2   note_id          402 non-null    int64  \n",
      " 3   variable         402 non-null    object \n",
      " 4   question_text    402 non-null    object \n",
      " 5   type             402 non-null    object \n",
      " 6   component        2 non-null      object \n",
      " 7   duration_days    0 non-null      float64\n",
      " 8   duration_weeks   0 non-null      float64\n",
      " 9   duration_months  0 non-null      float64\n",
      " 10  duration_years   0 non-null      float64\n",
      " 11  deidentified,,   402 non-null    object \n",
      "dtypes: float64(4), int64(3), object(5)\n",
      "memory usage: 37.8+ KB\n"
     ]
    }
   ],
   "source": [
    "data.info()"
   ]
  },
  {
   "cell_type": "markdown",
   "id": "15242c23-539b-470a-925a-420b856920b2",
   "metadata": {},
   "source": [
    "## Checking for Duplication"
   ]
  },
  {
   "cell_type": "code",
   "execution_count": 8,
   "id": "c7073b1b-fe48-4af1-9eaf-20f28abf4b91",
   "metadata": {},
   "outputs": [
    {
     "data": {
      "text/plain": [
       "patient_id          50\n",
       "encounter_id       309\n",
       "note_id            402\n",
       "variable            14\n",
       "question_text       13\n",
       "type                 2\n",
       "component            1\n",
       "duration_days        0\n",
       "duration_weeks       0\n",
       "duration_months      0\n",
       "duration_years       0\n",
       "deidentified,,     240\n",
       "dtype: int64"
      ]
     },
     "execution_count": 8,
     "metadata": {},
     "output_type": "execute_result"
    }
   ],
   "source": [
    "data.nunique()"
   ]
  },
  {
   "cell_type": "code",
   "execution_count": 9,
   "id": "44c5043b-4604-48ee-acec-f24deeecb4ba",
   "metadata": {},
   "outputs": [
    {
     "name": "stdout",
     "output_type": "stream",
     "text": [
      "Empty DataFrame\n",
      "Columns: [patient_id, encounter_id, note_id, variable, question_text, type, component, duration_days, duration_weeks, duration_months, duration_years, deidentified,,]\n",
      "Index: []\n"
     ]
    }
   ],
   "source": [
    "duplicate_rows = data[data.duplicated()]\n",
    "print(duplicate_rows)"
   ]
  },
  {
   "cell_type": "raw",
   "id": "d4dd9219-cdab-41b9-a3ba-01e6c36a61fc",
   "metadata": {},
   "source": [
    "No duplicated rows found!"
   ]
  },
  {
   "cell_type": "markdown",
   "id": "c375a349-98d5-4f5f-98c6-1cecfdb1b8e3",
   "metadata": {},
   "source": [
    "## Checking Missing Values"
   ]
  },
  {
   "cell_type": "code",
   "execution_count": 11,
   "id": "2e671494-0f7e-421f-9d6c-ec3645d5ff5c",
   "metadata": {},
   "outputs": [
    {
     "data": {
      "text/plain": [
       "patient_id           0\n",
       "encounter_id         0\n",
       "note_id              0\n",
       "variable             0\n",
       "question_text        0\n",
       "type                 0\n",
       "component          400\n",
       "duration_days      402\n",
       "duration_weeks     402\n",
       "duration_months    402\n",
       "duration_years     402\n",
       "deidentified,,       0\n",
       "dtype: int64"
      ]
     },
     "execution_count": 11,
     "metadata": {},
     "output_type": "execute_result"
    }
   ],
   "source": [
    "data.isnull().sum()"
   ]
  },
  {
   "cell_type": "code",
   "execution_count": 12,
   "id": "32c90e1b-546d-4490-824b-c5328e306a84",
   "metadata": {},
   "outputs": [
    {
     "data": {
      "text/plain": [
       "patient_id           0.000000\n",
       "encounter_id         0.000000\n",
       "note_id              0.000000\n",
       "variable             0.000000\n",
       "question_text        0.000000\n",
       "type                 0.000000\n",
       "component           99.502488\n",
       "duration_days      100.000000\n",
       "duration_weeks     100.000000\n",
       "duration_months    100.000000\n",
       "duration_years     100.000000\n",
       "deidentified,,       0.000000\n",
       "dtype: float64"
      ]
     },
     "execution_count": 12,
     "metadata": {},
     "output_type": "execute_result"
    }
   ],
   "source": [
    "(data.isnull().sum()/(len(data)))*100"
   ]
  },
  {
   "cell_type": "code",
   "execution_count": 13,
   "id": "3fb95861-3d1d-4d2b-b90c-cfa79d4a16df",
   "metadata": {},
   "outputs": [
    {
     "data": {
      "text/plain": [
       "<Axes: >"
      ]
     },
     "execution_count": 13,
     "metadata": {},
     "output_type": "execute_result"
    },
    {
     "data": {
      "image/png": "[encoded data removed]",
      "text/plain": [
       "<Figure size 640x480 with 1 Axes>"
      ]
     },
     "metadata": {},
     "output_type": "display_data"
    }
   ],
   "source": [
    "sns.heatmap(data.isnull(),yticklabels=False,cbar=False,cmap='viridis')"
   ]
  },
  {
   "cell_type": "code",
   "execution_count": null,
   "id": "4e0e655b-b395-4e1a-a2d2-745e2f809f74",
   "metadata": {},
   "outputs": [],
   "source": [
    "Many missin g va"
   ]
  },
  {
   "cell_type": "code",
   "execution_count": null,
   "id": "2e19d828-e18d-464a-8063-99892cd2a7c5",
   "metadata": {},
   "outputs": [],
   "source": [
    "## Checking for inconsistent data typ"
   ]
  },
  {
   "cell_type": "code",
   "execution_count": null,
   "id": "ac0208f9-7548-43ea-8ae8-52de486e804e",
   "metadata": {},
   "outputs": [],
   "source": [
    "data_types = data.dtypes\n",
    "print(data_types)"
   ]
  }
 ],
 "metadata": {
  "kernelspec": {
   "display_name": "venv",
   "language": "python",
   "name": "venv"
  },
  "language_info": {
   "codemirror_mode": {
    "name": "ipython",
    "version": 3
   },
   "file_extension": ".py",
   "mimetype": "text/x-python",
   "name": "python",
   "nbconvert_exporter": "python",
   "pygments_lexer": "ipython3",
   "version": "3.9.6"
  }
 },
 "nbformat": 4,
 "nbformat_minor": 5
}
