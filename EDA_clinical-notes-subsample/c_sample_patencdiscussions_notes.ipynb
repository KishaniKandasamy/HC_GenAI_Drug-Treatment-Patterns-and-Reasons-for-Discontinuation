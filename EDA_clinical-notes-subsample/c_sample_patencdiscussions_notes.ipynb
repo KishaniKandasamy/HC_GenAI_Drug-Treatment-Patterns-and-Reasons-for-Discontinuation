{
 "cells": [
  {
   "cell_type": "code",
   "execution_count": 2,
   "id": "aa4948eb-1a30-4082-a7ec-ddb1e0704a65",
   "metadata": {},
   "outputs": [
    {
     "name": "stderr",
     "output_type": "stream",
     "text": [
      "/var/folders/3m/l0tyzx5j5lg1wtczpcc3ff8h0000gn/T/ipykernel_3226/3993962526.py:1: DeprecationWarning: \n",
      "Pyarrow will become a required dependency of pandas in the next major release of pandas (pandas 3.0),\n",
      "(to allow more performant data types, such as the Arrow string type, and better interoperability with other libraries)\n",
      "but was not found to be installed on your system.\n",
      "If this would cause problems for you,\n",
      "please provide us feedback at https://github.com/pandas-dev/pandas/issues/54466\n",
      "        \n",
      "  import pandas as pd\n"
     ]
    }
   ],
   "source": [
    "import pandas as pd \n",
    "import numpy as np\n",
    "import matplotlib.pyplot as plt\n",
    "import seaborn as sns\n",
    "%matplotlib inline\n"
   ]
  },
  {
   "cell_type": "code",
   "execution_count": 3,
   "id": "f18036c0-8a2b-49f6-8a7b-8c30999f4c63",
   "metadata": {},
   "outputs": [],
   "source": [
    "data = pd.read_csv('../clinical-notes-subsample/customer facing csv files/c_sample_patencdiscussions_notes.csv',  delimiter=\"|\")"
   ]
  },
  {
   "cell_type": "code",
   "execution_count": 4,
   "id": "378c735b-824e-42f7-b88a-38486432ef2e",
   "metadata": {},
   "outputs": [
    {
     "data": {
      "text/plain": [
       "(1899, 8)"
      ]
     },
     "execution_count": 4,
     "metadata": {},
     "output_type": "execute_result"
    }
   ],
   "source": [
    "data.shape"
   ]
  },
  {
   "cell_type": "code",
   "execution_count": 5,
   "id": "8103f097-c501-4307-b3e5-a642dd5a08ef",
   "metadata": {},
   "outputs": [
    {
     "data": {
      "text/html": [
       "<div>\n",
       "<style scoped>\n",
       "    .dataframe tbody tr th:only-of-type {\n",
       "        vertical-align: middle;\n",
       "    }\n",
       "\n",
       "    .dataframe tbody tr th {\n",
       "        vertical-align: top;\n",
       "    }\n",
       "\n",
       "    .dataframe thead th {\n",
       "        text-align: right;\n",
       "    }\n",
       "</style>\n",
       "<table border=\"1\" class=\"dataframe\">\n",
       "  <thead>\n",
       "    <tr style=\"text-align: right;\">\n",
       "      <th></th>\n",
       "      <th>encounter_id</th>\n",
       "      <th>patient_id</th>\n",
       "      <th>diagnosis_date</th>\n",
       "      <th>diagnosis</th>\n",
       "      <th>eye_location</th>\n",
       "      <th>discussion_id</th>\n",
       "      <th>discussion_snomed</th>\n",
       "      <th>deidentified,,,,,,,,,,,,,</th>\n",
       "    </tr>\n",
       "  </thead>\n",
       "  <tbody>\n",
       "    <tr>\n",
       "      <th>0</th>\n",
       "      <td>137</td>\n",
       "      <td>6.0</td>\n",
       "      <td>1900-01-01 00:00:00+00:00</td>\n",
       "      <td>POAG</td>\n",
       "      <td>OU</td>\n",
       "      <td>1181.0</td>\n",
       "      <td>NaN</td>\n",
       "      <td>allergic conjunctivitis with combigan, IOP not...</td>\n",
       "    </tr>\n",
       "    <tr>\n",
       "      <th>1</th>\n",
       "      <td>123</td>\n",
       "      <td>5.0</td>\n",
       "      <td>1900-01-01 00:00:00+00:00</td>\n",
       "      <td>S/P LASIK</td>\n",
       "      <td>OU</td>\n",
       "      <td>521.0</td>\n",
       "      <td>NaN</td>\n",
       "      <td>Stable.,,,,,,,,,,,,,</td>\n",
       "    </tr>\n",
       "    <tr>\n",
       "      <th>2</th>\n",
       "      <td>123</td>\n",
       "      <td>5.0</td>\n",
       "      <td>1900-01-01 00:00:00+00:00</td>\n",
       "      <td>S/P LASIK</td>\n",
       "      <td>OU</td>\n",
       "      <td>1485.0</td>\n",
       "      <td>NaN</td>\n",
       "      <td>Patient reminded needs annual exams to keep VF...</td>\n",
       "    </tr>\n",
       "    <tr>\n",
       "      <th>3</th>\n",
       "      <td>9</td>\n",
       "      <td>3.0</td>\n",
       "      <td>1900-01-01 00:00:00+00:00</td>\n",
       "      <td>POAG, Mild</td>\n",
       "      <td>OU</td>\n",
       "      <td>1289.0</td>\n",
       "      <td>NaN</td>\n",
       "      <td>Continue current management. Latanoprost gtts ...</td>\n",
       "    </tr>\n",
       "    <tr>\n",
       "      <th>4</th>\n",
       "      <td>9</td>\n",
       "      <td>3.0</td>\n",
       "      <td>1900-01-01 00:00:00+00:00</td>\n",
       "      <td>POAG, Mild</td>\n",
       "      <td>OU</td>\n",
       "      <td>147.0</td>\n",
       "      <td>NaN</td>\n",
       "      <td>Discussed importance of compliance with ocular...</td>\n",
       "    </tr>\n",
       "  </tbody>\n",
       "</table>\n",
       "</div>"
      ],
      "text/plain": [
       "  encounter_id  patient_id             diagnosis_date   diagnosis  \\\n",
       "0          137         6.0  1900-01-01 00:00:00+00:00        POAG   \n",
       "1          123         5.0  1900-01-01 00:00:00+00:00   S/P LASIK   \n",
       "2          123         5.0  1900-01-01 00:00:00+00:00   S/P LASIK   \n",
       "3            9         3.0  1900-01-01 00:00:00+00:00  POAG, Mild   \n",
       "4            9         3.0  1900-01-01 00:00:00+00:00  POAG, Mild   \n",
       "\n",
       "  eye_location  discussion_id  discussion_snomed  \\\n",
       "0           OU         1181.0                NaN   \n",
       "1           OU          521.0                NaN   \n",
       "2           OU         1485.0                NaN   \n",
       "3           OU         1289.0                NaN   \n",
       "4           OU          147.0                NaN   \n",
       "\n",
       "                           deidentified,,,,,,,,,,,,,  \n",
       "0  allergic conjunctivitis with combigan, IOP not...  \n",
       "1                               Stable.,,,,,,,,,,,,,  \n",
       "2  Patient reminded needs annual exams to keep VF...  \n",
       "3  Continue current management. Latanoprost gtts ...  \n",
       "4  Discussed importance of compliance with ocular...  "
      ]
     },
     "execution_count": 5,
     "metadata": {},
     "output_type": "execute_result"
    }
   ],
   "source": [
    "data.head()"
   ]
  },
  {
   "cell_type": "code",
   "execution_count": 6,
   "id": "e4e72aae-be3a-4a1a-b4b4-2a5421c0e297",
   "metadata": {},
   "outputs": [
    {
     "data": {
      "text/html": [
       "<div>\n",
       "<style scoped>\n",
       "    .dataframe tbody tr th:only-of-type {\n",
       "        vertical-align: middle;\n",
       "    }\n",
       "\n",
       "    .dataframe tbody tr th {\n",
       "        vertical-align: top;\n",
       "    }\n",
       "\n",
       "    .dataframe thead th {\n",
       "        text-align: right;\n",
       "    }\n",
       "</style>\n",
       "<table border=\"1\" class=\"dataframe\">\n",
       "  <thead>\n",
       "    <tr style=\"text-align: right;\">\n",
       "      <th></th>\n",
       "      <th>encounter_id</th>\n",
       "      <th>patient_id</th>\n",
       "      <th>diagnosis_date</th>\n",
       "      <th>diagnosis</th>\n",
       "      <th>eye_location</th>\n",
       "      <th>discussion_id</th>\n",
       "      <th>discussion_snomed</th>\n",
       "      <th>deidentified,,,,,,,,,,,,,</th>\n",
       "    </tr>\n",
       "  </thead>\n",
       "  <tbody>\n",
       "    <tr>\n",
       "      <th>1894</th>\n",
       "      <td>126</td>\n",
       "      <td>0.0</td>\n",
       "      <td>1900-01-01 00:00:00+00:00</td>\n",
       "      <td>Neovascular AMD with Active CN</td>\n",
       "      <td>OD</td>\n",
       "      <td>245.0</td>\n",
       "      <td>NaN</td>\n",
       "      <td>Recommended Avastin injection today. The injec...</td>\n",
       "    </tr>\n",
       "    <tr>\n",
       "      <th>1895</th>\n",
       "      <td>126</td>\n",
       "      <td>0.0</td>\n",
       "      <td>1900-01-01 00:00:00+00:00</td>\n",
       "      <td>Neovascular AMD with Active CN</td>\n",
       "      <td>OD</td>\n",
       "      <td>1814.0</td>\n",
       "      <td>NaN</td>\n",
       "      <td>We discussed the natural history of this disea...</td>\n",
       "    </tr>\n",
       "    <tr>\n",
       "      <th>1896</th>\n",
       "      <td>146</td>\n",
       "      <td>0.0</td>\n",
       "      <td>1900-01-01 00:00:00+00:00</td>\n",
       "      <td>Neovascular AMD with Active CN</td>\n",
       "      <td>OD</td>\n",
       "      <td>415.0</td>\n",
       "      <td>NaN</td>\n",
       "      <td>Recommended Avastin injection today. The injec...</td>\n",
       "    </tr>\n",
       "    <tr>\n",
       "      <th>1897</th>\n",
       "      <td>146</td>\n",
       "      <td>0.0</td>\n",
       "      <td>1900-01-01 00:00:00+00:00</td>\n",
       "      <td>Neovascular AMD with Active CN</td>\n",
       "      <td>OD</td>\n",
       "      <td>898.0</td>\n",
       "      <td>NaN</td>\n",
       "      <td>We discussed the natural history of this disea...</td>\n",
       "    </tr>\n",
       "    <tr>\n",
       "      <th>1898</th>\n",
       "      <td>146</td>\n",
       "      <td>0.0</td>\n",
       "      <td>1900-01-01 00:00:00+00:00</td>\n",
       "      <td>Neovascular AMD with Active CN</td>\n",
       "      <td>OD</td>\n",
       "      <td>1878.0</td>\n",
       "      <td>NaN</td>\n",
       "      <td>Extend next visit to 6 weeks.,,,,,,,,,,,,,</td>\n",
       "    </tr>\n",
       "  </tbody>\n",
       "</table>\n",
       "</div>"
      ],
      "text/plain": [
       "     encounter_id  patient_id             diagnosis_date  \\\n",
       "1894          126         0.0  1900-01-01 00:00:00+00:00   \n",
       "1895          126         0.0  1900-01-01 00:00:00+00:00   \n",
       "1896          146         0.0  1900-01-01 00:00:00+00:00   \n",
       "1897          146         0.0  1900-01-01 00:00:00+00:00   \n",
       "1898          146         0.0  1900-01-01 00:00:00+00:00   \n",
       "\n",
       "                           diagnosis eye_location  discussion_id  \\\n",
       "1894  Neovascular AMD with Active CN           OD          245.0   \n",
       "1895  Neovascular AMD with Active CN           OD         1814.0   \n",
       "1896  Neovascular AMD with Active CN           OD          415.0   \n",
       "1897  Neovascular AMD with Active CN           OD          898.0   \n",
       "1898  Neovascular AMD with Active CN           OD         1878.0   \n",
       "\n",
       "      discussion_snomed                          deidentified,,,,,,,,,,,,,  \n",
       "1894                NaN  Recommended Avastin injection today. The injec...  \n",
       "1895                NaN  We discussed the natural history of this disea...  \n",
       "1896                NaN  Recommended Avastin injection today. The injec...  \n",
       "1897                NaN  We discussed the natural history of this disea...  \n",
       "1898                NaN         Extend next visit to 6 weeks.,,,,,,,,,,,,,  "
      ]
     },
     "execution_count": 6,
     "metadata": {},
     "output_type": "execute_result"
    }
   ],
   "source": [
    "data.tail()"
   ]
  },
  {
   "cell_type": "code",
   "execution_count": 8,
   "id": "3a1d84c8-3b45-48c5-b1f4-b4ec2915b812",
   "metadata": {},
   "outputs": [
    {
     "name": "stdout",
     "output_type": "stream",
     "text": [
      "<class 'pandas.core.frame.DataFrame'>\n",
      "RangeIndex: 1899 entries, 0 to 1898\n",
      "Data columns (total 8 columns):\n",
      " #   Column                     Non-Null Count  Dtype  \n",
      "---  ------                     --------------  -----  \n",
      " 0   encounter_id               1899 non-null   object \n",
      " 1   patient_id                 1867 non-null   float64\n",
      " 2   diagnosis_date             1867 non-null   object \n",
      " 3   diagnosis                  1867 non-null   object \n",
      " 4   eye_location               329 non-null    object \n",
      " 5   discussion_id              1867 non-null   float64\n",
      " 6   discussion_snomed          2 non-null      float64\n",
      " 7   deidentified,,,,,,,,,,,,,  1867 non-null   object \n",
      "dtypes: float64(3), object(5)\n",
      "memory usage: 118.8+ KB\n"
     ]
    }
   ],
   "source": [
    "data.info()"
   ]
  },
  {
   "cell_type": "markdown",
   "id": "9234a9e7-3ba0-4424-91c8-df836eb5505d",
   "metadata": {},
   "source": [
    "## Checking for Duplication"
   ]
  },
  {
   "cell_type": "code",
   "execution_count": 9,
   "id": "acee345a-76f9-46a8-b4f4-7e189e1ca060",
   "metadata": {},
   "outputs": [
    {
     "data": {
      "text/plain": [
       "encounter_id                  188\n",
       "patient_id                     10\n",
       "diagnosis_date                  1\n",
       "diagnosis                      28\n",
       "eye_location                    4\n",
       "discussion_id                1867\n",
       "discussion_snomed               1\n",
       "deidentified,,,,,,,,,,,,,     610\n",
       "dtype: int64"
      ]
     },
     "execution_count": 9,
     "metadata": {},
     "output_type": "execute_result"
    }
   ],
   "source": [
    "data.nunique()"
   ]
  },
  {
   "cell_type": "code",
   "execution_count": 10,
   "id": "963269da-abe0-45bb-a168-f69e53b7abf3",
   "metadata": {},
   "outputs": [
    {
     "name": "stdout",
     "output_type": "stream",
     "text": [
      "Empty DataFrame\n",
      "Columns: [encounter_id, patient_id, diagnosis_date, diagnosis, eye_location, discussion_id, discussion_snomed, deidentified,,,,,,,,,,,,,]\n",
      "Index: []\n"
     ]
    }
   ],
   "source": [
    "duplicate_rows = data[data.duplicated()]\n",
    "print(duplicate_rows)"
   ]
  },
  {
   "cell_type": "markdown",
   "id": "b23c2e36-6a1f-4a90-b40a-6516bc5983c2",
   "metadata": {},
   "source": [
    "No  duplicated rows found"
   ]
  },
  {
   "cell_type": "markdown",
   "id": "5509dbec-caaf-48e5-bfde-22f0d6dc558a",
   "metadata": {},
   "source": [
    "## Checking Missing Values"
   ]
  },
  {
   "cell_type": "code",
   "execution_count": 11,
   "id": "ca8243c2-cd39-4ce2-a8d9-2d5c10a97494",
   "metadata": {},
   "outputs": [
    {
     "data": {
      "text/plain": [
       "encounter_id                    0\n",
       "patient_id                     32\n",
       "diagnosis_date                 32\n",
       "diagnosis                      32\n",
       "eye_location                 1570\n",
       "discussion_id                  32\n",
       "discussion_snomed            1897\n",
       "deidentified,,,,,,,,,,,,,      32\n",
       "dtype: int64"
      ]
     },
     "execution_count": 11,
     "metadata": {},
     "output_type": "execute_result"
    }
   ],
   "source": [
    "data.isnull().sum()"
   ]
  },
  {
   "cell_type": "code",
   "execution_count": 12,
   "id": "f75bd161-eb24-4691-8cae-eaba8a719d6a",
   "metadata": {},
   "outputs": [
    {
     "data": {
      "text/plain": [
       "encounter_id                  0.000000\n",
       "patient_id                    1.685097\n",
       "diagnosis_date                1.685097\n",
       "diagnosis                     1.685097\n",
       "eye_location                 82.675092\n",
       "discussion_id                 1.685097\n",
       "discussion_snomed            99.894681\n",
       "deidentified,,,,,,,,,,,,,     1.685097\n",
       "dtype: float64"
      ]
     },
     "execution_count": 12,
     "metadata": {},
     "output_type": "execute_result"
    }
   ],
   "source": [
    "(data.isnull().sum()/(len(data)))*100"
   ]
  },
  {
   "cell_type": "code",
   "execution_count": 13,
   "id": "1e6e7c62-355a-4317-a81b-27e84f5b6602",
   "metadata": {},
   "outputs": [
    {
     "data": {
      "text/plain": [
       "<Axes: >"
      ]
     },
     "execution_count": 13,
     "metadata": {},
     "output_type": "execute_result"
    },
    {
     "data": {
      "image/png": "[encoded data removed]",
      "text/plain": [
       "<Figure size 640x480 with 1 Axes>"
      ]
     },
     "metadata": {},
     "output_type": "display_data"
    }
   ],
   "source": [
    "sns.heatmap(data.isnull(),yticklabels=False,cbar=False,cmap='viridis')"
   ]
  },
  {
   "cell_type": "raw",
   "id": "839fdc83-519c-4059-8bfe-21ec57e7fa72",
   "metadata": {},
   "source": [
    "null data column  - \n",
    "\n",
    "    discussion_snomed            99.894681"
   ]
  },
  {
   "cell_type": "markdown",
   "id": "f892d7c5-f009-4570-9afc-a7e511a88f38",
   "metadata": {},
   "source": [
    "## Checking for inconsistent data types"
   ]
  },
  {
   "cell_type": "code",
   "execution_count": 15,
   "id": "426d5245-45ff-4d01-bf06-e88694b1ea34",
   "metadata": {},
   "outputs": [
    {
     "name": "stdout",
     "output_type": "stream",
     "text": [
      "encounter_id                  object\n",
      "patient_id                   float64\n",
      "diagnosis_date                object\n",
      "diagnosis                     object\n",
      "eye_location                  object\n",
      "discussion_id                float64\n",
      "discussion_snomed            float64\n",
      "deidentified,,,,,,,,,,,,,     object\n",
      "dtype: object\n"
     ]
    }
   ],
   "source": [
    "data_types = data.dtypes\n",
    "print(data_types)"
   ]
  },
  {
   "cell_type": "code",
   "execution_count": null,
   "id": "1a361a61-d07a-4a60-a310-3f142d665c17",
   "metadata": {},
   "outputs": [],
   "source": []
  }
 ],
 "metadata": {
  "kernelspec": {
   "display_name": "venv",
   "language": "python",
   "name": "venv"
  },
  "language_info": {
   "codemirror_mode": {
    "name": "ipython",
    "version": 3
   },
   "file_extension": ".py",
   "mimetype": "text/x-python",
   "name": "python",
   "nbconvert_exporter": "python",
   "pygments_lexer": "ipython3",
   "version": "3.9.6"
  }
 },
 "nbformat": 4,
 "nbformat_minor": 5
}
