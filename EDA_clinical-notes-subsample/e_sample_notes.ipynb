{
 "cells": [
  {
   "cell_type": "code",
   "execution_count": 1,
   "id": "631acc7e-cc86-4c28-b55b-50dddf794608",
   "metadata": {},
   "outputs": [
    {
     "name": "stderr",
     "output_type": "stream",
     "text": [
      "/var/folders/3m/l0tyzx5j5lg1wtczpcc3ff8h0000gn/T/ipykernel_3391/3993962526.py:1: DeprecationWarning: \n",
      "Pyarrow will become a required dependency of pandas in the next major release of pandas (pandas 3.0),\n",
      "(to allow more performant data types, such as the Arrow string type, and better interoperability with other libraries)\n",
      "but was not found to be installed on your system.\n",
      "If this would cause problems for you,\n",
      "please provide us feedback at https://github.com/pandas-dev/pandas/issues/54466\n",
      "        \n",
      "  import pandas as pd\n"
     ]
    }
   ],
   "source": [
    "import pandas as pd \n",
    "import numpy as np\n",
    "import matplotlib.pyplot as plt\n",
    "import seaborn as sns\n",
    "%matplotlib inline\n"
   ]
  },
  {
   "cell_type": "code",
   "execution_count": 2,
   "id": "49699fc4-06c6-4875-bb66-1a783d71b1ac",
   "metadata": {},
   "outputs": [],
   "source": [
    "data = pd.read_csv('../clinical-notes-subsample/customer facing csv files/e_sample_notes.csv',  delimiter=\"|\")"
   ]
  },
  {
   "cell_type": "code",
   "execution_count": 3,
   "id": "5325a097-b058-49d0-b1ba-38761c6a95a3",
   "metadata": {},
   "outputs": [
    {
     "data": {
      "text/plain": [
       "(299, 3)"
      ]
     },
     "execution_count": 3,
     "metadata": {},
     "output_type": "execute_result"
    }
   ],
   "source": [
    "data.shape"
   ]
  },
  {
   "cell_type": "code",
   "execution_count": 4,
   "id": "a90f278a-175e-453d-9695-07ff283a787f",
   "metadata": {},
   "outputs": [
    {
     "data": {
      "text/html": [
       "<div>\n",
       "<style scoped>\n",
       "    .dataframe tbody tr th:only-of-type {\n",
       "        vertical-align: middle;\n",
       "    }\n",
       "\n",
       "    .dataframe tbody tr th {\n",
       "        vertical-align: top;\n",
       "    }\n",
       "\n",
       "    .dataframe thead th {\n",
       "        text-align: right;\n",
       "    }\n",
       "</style>\n",
       "<table border=\"1\" class=\"dataframe\">\n",
       "  <thead>\n",
       "    <tr style=\"text-align: right;\">\n",
       "      <th></th>\n",
       "      <th>id</th>\n",
       "      <th>patient_id</th>\n",
       "      <th>deidentified,,,,,,,,,,,,,,,,,,,,,,,,,,,,,,,,,,,,,,,,,,,,,,,,,,,,,,,,,,,,,,,,,,</th>\n",
       "    </tr>\n",
       "  </thead>\n",
       "  <tbody>\n",
       "    <tr>\n",
       "      <th>0</th>\n",
       "      <td>81|0|\"a:4:{i:0;a:4:{s:4:\"\"curr\"\";a:5:{s:5:\"\"As...</td>\n",
       "      <td>NaN</td>\n",
       "      <td>NaN</td>\n",
       "    </tr>\n",
       "    <tr>\n",
       "      <th>1</th>\n",
       "      <td>64|0|\"a:10:{i:0;a:6:{s:4:\"\"curr\"\";a:5:{s:5:\"\"A...</td>\n",
       "      <td>NaN</td>\n",
       "      <td>NaN</td>\n",
       "    </tr>\n",
       "    <tr>\n",
       "      <th>2</th>\n",
       "      <td>80|0|\"a:4:{i:0;a:6:{s:4:\"\"curr\"\";a:5:{s:5:\"\"As...</td>\n",
       "      <td>NaN</td>\n",
       "      <td>NaN</td>\n",
       "    </tr>\n",
       "    <tr>\n",
       "      <th>3</th>\n",
       "      <td>57|0|\"a:9:{i:0;a:6:{s:4:\"\"curr\"\";a:5:{s:5:\"\"As...</td>\n",
       "      <td>NaN</td>\n",
       "      <td>NaN</td>\n",
       "    </tr>\n",
       "    <tr>\n",
       "      <th>4</th>\n",
       "      <td>11|0|\"a:28:{i:0;a:6:{s:4:\"\"curr\"\";a:5:{s:5:\"\"A...</td>\n",
       "      <td>NaN</td>\n",
       "      <td>NaN</td>\n",
       "    </tr>\n",
       "  </tbody>\n",
       "</table>\n",
       "</div>"
      ],
      "text/plain": [
       "                                                  id  patient_id  \\\n",
       "0  81|0|\"a:4:{i:0;a:4:{s:4:\"\"curr\"\";a:5:{s:5:\"\"As...         NaN   \n",
       "1  64|0|\"a:10:{i:0;a:6:{s:4:\"\"curr\"\";a:5:{s:5:\"\"A...         NaN   \n",
       "2  80|0|\"a:4:{i:0;a:6:{s:4:\"\"curr\"\";a:5:{s:5:\"\"As...         NaN   \n",
       "3  57|0|\"a:9:{i:0;a:6:{s:4:\"\"curr\"\";a:5:{s:5:\"\"As...         NaN   \n",
       "4  11|0|\"a:28:{i:0;a:6:{s:4:\"\"curr\"\";a:5:{s:5:\"\"A...         NaN   \n",
       "\n",
       "  deidentified,,,,,,,,,,,,,,,,,,,,,,,,,,,,,,,,,,,,,,,,,,,,,,,,,,,,,,,,,,,,,,,,,,  \n",
       "0                                                NaN                              \n",
       "1                                                NaN                              \n",
       "2                                                NaN                              \n",
       "3                                                NaN                              \n",
       "4                                                NaN                              "
      ]
     },
     "execution_count": 4,
     "metadata": {},
     "output_type": "execute_result"
    }
   ],
   "source": [
    "data.head()"
   ]
  },
  {
   "cell_type": "code",
   "execution_count": 5,
   "id": "f3d7eb9d-9e0c-441d-a599-d146a8fd5a37",
   "metadata": {},
   "outputs": [
    {
     "data": {
      "text/html": [
       "<div>\n",
       "<style scoped>\n",
       "    .dataframe tbody tr th:only-of-type {\n",
       "        vertical-align: middle;\n",
       "    }\n",
       "\n",
       "    .dataframe tbody tr th {\n",
       "        vertical-align: top;\n",
       "    }\n",
       "\n",
       "    .dataframe thead th {\n",
       "        text-align: right;\n",
       "    }\n",
       "</style>\n",
       "<table border=\"1\" class=\"dataframe\">\n",
       "  <thead>\n",
       "    <tr style=\"text-align: right;\">\n",
       "      <th></th>\n",
       "      <th>id</th>\n",
       "      <th>patient_id</th>\n",
       "      <th>deidentified,,,,,,,,,,,,,,,,,,,,,,,,,,,,,,,,,,,,,,,,,,,,,,,,,,,,,,,,,,,,,,,,,,</th>\n",
       "    </tr>\n",
       "  </thead>\n",
       "  <tbody>\n",
       "    <tr>\n",
       "      <th>294</th>\n",
       "      <td>55|9|\"a:7:{i:0;a:4:{s:4:\"\"curr\"\";a:5:{s:5:\"\"As...</td>\n",
       "      <td>NaN</td>\n",
       "      <td>NaN</td>\n",
       "    </tr>\n",
       "    <tr>\n",
       "      <th>295</th>\n",
       "      <td>f/u 1 year BTM\"\";s:3:\"\"Res\"\"; s:1:\"\"0\"\";s:2:\"\"...</td>\n",
       "      <td>NaN</td>\n",
       "      <td>NaN</td>\n",
       "    </tr>\n",
       "    <tr>\n",
       "      <th>296</th>\n",
       "      <td>77|9|\"a:5:{i:0;a:4:{s:4:\"\"curr\"\";a:5:{s:5:\"\"As...</td>\n",
       "      <td>NaN</td>\n",
       "      <td>NaN</td>\n",
       "    </tr>\n",
       "    <tr>\n",
       "      <th>297</th>\n",
       "      <td>32|9|\"a:5:{i:0;a:4:{s:4:\"\"curr\"\";a:5:{s:5:\"\"As...</td>\n",
       "      <td>NaN</td>\n",
       "      <td>NaN</td>\n",
       "    </tr>\n",
       "    <tr>\n",
       "      <th>298</th>\n",
       "      <td>83|9|\"a:11:{i:0;a:6:{s:4:\"\"curr\"\";a:5:{s:5:\"\"A...</td>\n",
       "      <td>NaN</td>\n",
       "      <td>NaN</td>\n",
       "    </tr>\n",
       "  </tbody>\n",
       "</table>\n",
       "</div>"
      ],
      "text/plain": [
       "                                                    id  patient_id  \\\n",
       "294  55|9|\"a:7:{i:0;a:4:{s:4:\"\"curr\"\";a:5:{s:5:\"\"As...         NaN   \n",
       "295  f/u 1 year BTM\"\";s:3:\"\"Res\"\"; s:1:\"\"0\"\";s:2:\"\"...         NaN   \n",
       "296  77|9|\"a:5:{i:0;a:4:{s:4:\"\"curr\"\";a:5:{s:5:\"\"As...         NaN   \n",
       "297  32|9|\"a:5:{i:0;a:4:{s:4:\"\"curr\"\";a:5:{s:5:\"\"As...         NaN   \n",
       "298  83|9|\"a:11:{i:0;a:6:{s:4:\"\"curr\"\";a:5:{s:5:\"\"A...         NaN   \n",
       "\n",
       "    deidentified,,,,,,,,,,,,,,,,,,,,,,,,,,,,,,,,,,,,,,,,,,,,,,,,,,,,,,,,,,,,,,,,,,  \n",
       "294                                                NaN                              \n",
       "295                                                NaN                              \n",
       "296                                                NaN                              \n",
       "297                                                NaN                              \n",
       "298                                                NaN                              "
      ]
     },
     "execution_count": 5,
     "metadata": {},
     "output_type": "execute_result"
    }
   ],
   "source": [
    "data.tail()"
   ]
  },
  {
   "cell_type": "code",
   "execution_count": 6,
   "id": "230a130f-259a-40d6-8814-4c1f56f1bcc5",
   "metadata": {},
   "outputs": [
    {
     "name": "stdout",
     "output_type": "stream",
     "text": [
      "<class 'pandas.core.frame.DataFrame'>\n",
      "RangeIndex: 299 entries, 0 to 298\n",
      "Data columns (total 3 columns):\n",
      " #   Column                                                                          Non-Null Count  Dtype  \n",
      "---  ------                                                                          --------------  -----  \n",
      " 0   id                                                                              299 non-null    object \n",
      " 1   patient_id                                                                      7 non-null      float64\n",
      " 2   deidentified,,,,,,,,,,,,,,,,,,,,,,,,,,,,,,,,,,,,,,,,,,,,,,,,,,,,,,,,,,,,,,,,,,  7 non-null      object \n",
      "dtypes: float64(1), object(2)\n",
      "memory usage: 7.1+ KB\n"
     ]
    }
   ],
   "source": [
    "data.info()"
   ]
  },
  {
   "cell_type": "markdown",
   "id": "efd7f4b6-adc1-40a1-98ef-8f8ca7c444c6",
   "metadata": {},
   "source": [
    "## Checking for Duplication"
   ]
  },
  {
   "cell_type": "code",
   "execution_count": 8,
   "id": "20098526-844b-4a63-a523-f8fb8d062528",
   "metadata": {},
   "outputs": [
    {
     "data": {
      "text/plain": [
       "id                                                                                169\n",
       "patient_id                                                                          4\n",
       "deidentified,,,,,,,,,,,,,,,,,,,,,,,,,,,,,,,,,,,,,,,,,,,,,,,,,,,,,,,,,,,,,,,,,,      1\n",
       "dtype: int64"
      ]
     },
     "execution_count": 8,
     "metadata": {},
     "output_type": "execute_result"
    }
   ],
   "source": [
    "data.nunique()"
   ]
  },
  {
   "cell_type": "code",
   "execution_count": 9,
   "id": "7845ef5c-6964-44ca-a123-649706d2d80e",
   "metadata": {},
   "outputs": [
    {
     "name": "stdout",
     "output_type": "stream",
     "text": [
      "                                                    id  patient_id  \\\n",
      "16   ,,,,,,,,,,,,,,,,,,,,,,,,,,,,,,,,,,,,,,,,,,,,,,...         NaN   \n",
      "19   ,,,,,,,,,,,,,,,,,,,,,,,,,,,,,,,,,,,,,,,,,,,,,,...         NaN   \n",
      "21   vf and oct show probable deterioration in od, ...         NaN   \n",
      "22   ,,,,,,,,,,,,,,,,,,,,,,,,,,,,,,,,,,,,,,,,,,,,,,...         NaN   \n",
      "23   cont latanoprost ou qhs ,,,,,,,,,,,,,,,,,,,,,,...         NaN   \n",
      "..                                                 ...         ...   \n",
      "227  corneal topography√Ç¬≠,,,,,,,,,,,,,,,,,,,,,,,,...         NaN   \n",
      "229  corneal topography√Ç¬≠,,,,,,,,,,,,,,,,,,,,,,,,...         NaN   \n",
      "231  corneal topography√Ç¬≠,,,,,,,,,,,,,,,,,,,,,,,,...         NaN   \n",
      "273  ,,,,,,,,,,,,,,,,,,,,,,,,,,,,,,,,,,,,,,,,,,,,,,...         NaN   \n",
      "275  ,,,,,,,,,,,,,,,,,,,,,,,,,,,,,,,,,,,,,,,,,,,,,,...         NaN   \n",
      "\n",
      "    deidentified,,,,,,,,,,,,,,,,,,,,,,,,,,,,,,,,,,,,,,,,,,,,,,,,,,,,,,,,,,,,,,,,,,  \n",
      "16                                                 NaN                              \n",
      "19                                                 NaN                              \n",
      "21                                                 NaN                              \n",
      "22                                                 NaN                              \n",
      "23                                                 NaN                              \n",
      "..                                                 ...                              \n",
      "227                                                NaN                              \n",
      "229                                                NaN                              \n",
      "231                                                NaN                              \n",
      "273                                                NaN                              \n",
      "275                                                NaN                              \n",
      "\n",
      "[130 rows x 3 columns]\n"
     ]
    }
   ],
   "source": [
    "duplicate_rows = data[data.duplicated()]\n",
    "print(duplicate_rows)"
   ]
  },
  {
   "cell_type": "markdown",
   "id": "f01419b7-1dcc-449c-b7ff-64da3de8e5eb",
   "metadata": {},
   "source": [
    "## Checking Missing Values"
   ]
  },
  {
   "cell_type": "code",
   "execution_count": 11,
   "id": "f33c5618-e213-4a05-b4e1-a077a4337ee9",
   "metadata": {},
   "outputs": [
    {
     "data": {
      "text/plain": [
       "id                                                                                  0\n",
       "patient_id                                                                        292\n",
       "deidentified,,,,,,,,,,,,,,,,,,,,,,,,,,,,,,,,,,,,,,,,,,,,,,,,,,,,,,,,,,,,,,,,,,    292\n",
       "dtype: int64"
      ]
     },
     "execution_count": 11,
     "metadata": {},
     "output_type": "execute_result"
    }
   ],
   "source": [
    "data.isnull().sum()"
   ]
  },
  {
   "cell_type": "code",
   "execution_count": 12,
   "id": "f842ff4a-0b07-4829-8b4d-1a7d7b1fe705",
   "metadata": {},
   "outputs": [
    {
     "data": {
      "text/plain": [
       "id                                                                                 0.000000\n",
       "patient_id                                                                        97.658863\n",
       "deidentified,,,,,,,,,,,,,,,,,,,,,,,,,,,,,,,,,,,,,,,,,,,,,,,,,,,,,,,,,,,,,,,,,,    97.658863\n",
       "dtype: float64"
      ]
     },
     "execution_count": 12,
     "metadata": {},
     "output_type": "execute_result"
    }
   ],
   "source": [
    "(data.isnull().sum()/(len(data)))*100"
   ]
  },
  {
   "cell_type": "code",
   "execution_count": 16,
   "id": "461f1bdf-5cb1-41ca-8abc-17784fecdfe7",
   "metadata": {},
   "outputs": [
    {
     "data": {
      "text/plain": [
       "<Axes: >"
      ]
     },
     "execution_count": 16,
     "metadata": {},
     "output_type": "execute_result"
    },
    {
     "data": {
      "image/png": "[encoded data removed]",
      "text/plain": [
       "<Figure size 640x480 with 1 Axes>"
      ]
     },
     "metadata": {},
     "output_type": "display_data"
    }
   ],
   "source": [
    "sns.heatmap(data.isnull(),yticklabels=False,cbar=False,cmap='viridis')"
   ]
  },
  {
   "cell_type": "code",
   "execution_count": null,
   "id": "d4cc6eaf-21da-4abe-a7db-4cb714155573",
   "metadata": {},
   "outputs": [],
   "source": [
    "Poor Quality Data !"
   ]
  },
  {
   "cell_type": "markdown",
   "id": "8f49035d-d337-4bdc-9c3b-39ed7bf2573c",
   "metadata": {},
   "source": [
    "## Checking for inconsistent data types"
   ]
  },
  {
   "cell_type": "code",
   "execution_count": 14,
   "id": "cfe9a4c8-61ef-4791-a6e3-96f0e756394d",
   "metadata": {},
   "outputs": [
    {
     "name": "stdout",
     "output_type": "stream",
     "text": [
      "id                                                                                 object\n",
      "patient_id                                                                        float64\n",
      "deidentified,,,,,,,,,,,,,,,,,,,,,,,,,,,,,,,,,,,,,,,,,,,,,,,,,,,,,,,,,,,,,,,,,,     object\n",
      "dtype: object\n"
     ]
    }
   ],
   "source": [
    "data_types = data.dtypes\n",
    "print(data_types)"
   ]
  }
 ],
 "metadata": {
  "kernelspec": {
   "display_name": "venv",
   "language": "python",
   "name": "venv"
  },
  "language_info": {
   "codemirror_mode": {
    "name": "ipython",
    "version": 3
   },
   "file_extension": ".py",
   "mimetype": "text/x-python",
   "name": "python",
   "nbconvert_exporter": "python",
   "pygments_lexer": "ipython3",
   "version": "3.9.6"
  }
 },
 "nbformat": 4,
 "nbformat_minor": 5
}
