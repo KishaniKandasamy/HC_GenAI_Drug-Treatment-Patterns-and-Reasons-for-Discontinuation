{
 "cells": [
  {
   "cell_type": "code",
   "execution_count": 1,
   "id": "c385be12-3da6-441f-b0f8-02c4b1092288",
   "metadata": {},
   "outputs": [
    {
     "name": "stderr",
     "output_type": "stream",
     "text": [
      "/var/folders/3m/l0tyzx5j5lg1wtczpcc3ff8h0000gn/T/ipykernel_3107/1676706666.py:1: DeprecationWarning: \n",
      "Pyarrow will become a required dependency of pandas in the next major release of pandas (pandas 3.0),\n",
      "(to allow more performant data types, such as the Arrow string type, and better interoperability with other libraries)\n",
      "but was not found to be installed on your system.\n",
      "If this would cause problems for you,\n",
      "please provide us feedback at https://github.com/pandas-dev/pandas/issues/54466\n",
      "        \n",
      "  import pandas as pd\n"
     ]
    }
   ],
   "source": [
    "import pandas as pd \n",
    "import numpy as np\n",
    "import matplotlib.pyplot as plt\n",
    "import seaborn as sns\n",
    "%matplotlib inline\n",
    "\n"
   ]
  },
  {
   "cell_type": "code",
   "execution_count": 2,
   "id": "961beff4-5886-4172-bb70-e5d08631618a",
   "metadata": {},
   "outputs": [],
   "source": [
    "data = pd.read_csv('../clinical-notes-subsample/customer facing csv files/b_sample_patencprocedures_notes.csv',  delimiter=\"|\")"
   ]
  },
  {
   "cell_type": "code",
   "execution_count": 3,
   "id": "58b5d55b-1775-4f9a-aee9-7b8c474972dc",
   "metadata": {},
   "outputs": [
    {
     "data": {
      "text/plain": [
       "(12, 14)"
      ]
     },
     "execution_count": 3,
     "metadata": {},
     "output_type": "execute_result"
    }
   ],
   "source": [
    "data.shape"
   ]
  },
  {
   "cell_type": "code",
   "execution_count": null,
   "id": "fc10f152-df59-45fd-aef7-e7ed1a7edb1a",
   "metadata": {},
   "outputs": [],
   "source": []
  },
  {
   "cell_type": "raw",
   "id": "9819e857-8298-4bef-9cea-344fbeabdbfb",
   "metadata": {},
   "source": [
    "Too small dataset -  12 rows"
   ]
  },
  {
   "cell_type": "code",
   "execution_count": null,
   "id": "e7cd06ed-d735-4c00-8cdf-00d7f8ebe5fc",
   "metadata": {},
   "outputs": [],
   "source": []
  },
  {
   "cell_type": "code",
   "execution_count": 4,
   "id": "354448d2-248e-4b84-bc08-c4a727b83ae1",
   "metadata": {},
   "outputs": [
    {
     "data": {
      "text/html": [
       "<div>\n",
       "<style scoped>\n",
       "    .dataframe tbody tr th:only-of-type {\n",
       "        vertical-align: middle;\n",
       "    }\n",
       "\n",
       "    .dataframe tbody tr th {\n",
       "        vertical-align: top;\n",
       "    }\n",
       "\n",
       "    .dataframe thead th {\n",
       "        text-align: right;\n",
       "    }\n",
       "</style>\n",
       "<table border=\"1\" class=\"dataframe\">\n",
       "  <thead>\n",
       "    <tr style=\"text-align: right;\">\n",
       "      <th></th>\n",
       "      <th>encounter_id</th>\n",
       "      <th>patient_id</th>\n",
       "      <th>diagnosis_date</th>\n",
       "      <th>type</th>\n",
       "      <th>procedure_id</th>\n",
       "      <th>procedure_name</th>\n",
       "      <th>kb_procedure_name</th>\n",
       "      <th>eye</th>\n",
       "      <th>code</th>\n",
       "      <th>anesthesia</th>\n",
       "      <th>prep</th>\n",
       "      <th>number</th>\n",
       "      <th>linked_diagnosis</th>\n",
       "      <th>deidentified,,,,,</th>\n",
       "    </tr>\n",
       "  </thead>\n",
       "  <tbody>\n",
       "    <tr>\n",
       "      <th>0</th>\n",
       "      <td>1</td>\n",
       "      <td>6.0</td>\n",
       "      <td>1900-01-01 00:00:00+00:00</td>\n",
       "      <td>Clinical</td>\n",
       "      <td>0.0</td>\n",
       "      <td>SLT</td>\n",
       "      <td>SLT</td>\n",
       "      <td>OD</td>\n",
       "      <td>65855</td>\n",
       "      <td>Topical</td>\n",
       "      <td>Alphagan 0.15%</td>\n",
       "      <td>NaN</td>\n",
       "      <td>POAG, Mild</td>\n",
       "      <td>PROCEDURE NOTE: SLT OD. Diagnosis: POAG, Mild....</td>\n",
       "    </tr>\n",
       "    <tr>\n",
       "      <th>1</th>\n",
       "      <td>3</td>\n",
       "      <td>6.0</td>\n",
       "      <td>1900-01-01 00:00:00+00:00</td>\n",
       "      <td>Clinical</td>\n",
       "      <td>0.0</td>\n",
       "      <td>SLT</td>\n",
       "      <td>SLT</td>\n",
       "      <td>OS</td>\n",
       "      <td>65855</td>\n",
       "      <td>Topical</td>\n",
       "      <td>Alphagan 0.15%</td>\n",
       "      <td>NaN</td>\n",
       "      <td>POAG, Mild</td>\n",
       "      <td>PROCEDURE NOTE: SLT OS. Diagnosis: POAG, Mild....</td>\n",
       "    </tr>\n",
       "    <tr>\n",
       "      <th>2</th>\n",
       "      <td>4</td>\n",
       "      <td>0.0</td>\n",
       "      <td>1900-01-01 00:00:00+00:00</td>\n",
       "      <td>Clinical</td>\n",
       "      <td>1.0</td>\n",
       "      <td>Avastin (J9035)</td>\n",
       "      <td>Avastin (J9035)</td>\n",
       "      <td>OD</td>\n",
       "      <td>67028,J9035</td>\n",
       "      <td>Topical/Subconjunctival</td>\n",
       "      <td>Betadine Drops and Betadine Scrub</td>\n",
       "      <td>NaN</td>\n",
       "      <td>Neovascular AMD with Active CN</td>\n",
       "      <td>PROCEDURE NOTE: Avastin (&lt;ID&gt;) OD. Diagnosis: ...</td>\n",
       "    </tr>\n",
       "    <tr>\n",
       "      <th>3</th>\n",
       "      <td>9</td>\n",
       "      <td>0.0</td>\n",
       "      <td>1900-01-01 00:00:00+00:00</td>\n",
       "      <td>Clinical</td>\n",
       "      <td>1.0</td>\n",
       "      <td>Avastin (J9035)</td>\n",
       "      <td>Avastin (J9035)</td>\n",
       "      <td>OD</td>\n",
       "      <td>67028,J9035</td>\n",
       "      <td>Topical/Subconjunctival</td>\n",
       "      <td>Betadine Drops and Betadine Scrub</td>\n",
       "      <td>NaN</td>\n",
       "      <td>Neovascular AMD with Active CN</td>\n",
       "      <td>PROCEDURE NOTE: Avastin (&lt;ID&gt;) OD. Diagnosis: ...</td>\n",
       "    </tr>\n",
       "    <tr>\n",
       "      <th>4</th>\n",
       "      <td>10</td>\n",
       "      <td>0.0</td>\n",
       "      <td>1900-01-01 00:00:00+00:00</td>\n",
       "      <td>Clinical</td>\n",
       "      <td>1.0</td>\n",
       "      <td>Avastin (J9035)</td>\n",
       "      <td>Avastin (J9035)</td>\n",
       "      <td>OD</td>\n",
       "      <td>67028,J9035</td>\n",
       "      <td>Topical/Subconjunctival</td>\n",
       "      <td>Betadine Drops and Betadine Scrub</td>\n",
       "      <td>NaN</td>\n",
       "      <td>Neovascular AMD with Active CN</td>\n",
       "      <td>PROCEDURE NOTE: Avastin (&lt;ID&gt;) OD. Diagnosis: ...</td>\n",
       "    </tr>\n",
       "  </tbody>\n",
       "</table>\n",
       "</div>"
      ],
      "text/plain": [
       "  encounter_id  patient_id             diagnosis_date      type  procedure_id  \\\n",
       "0            1         6.0  1900-01-01 00:00:00+00:00  Clinical           0.0   \n",
       "1            3         6.0  1900-01-01 00:00:00+00:00  Clinical           0.0   \n",
       "2            4         0.0  1900-01-01 00:00:00+00:00  Clinical           1.0   \n",
       "3            9         0.0  1900-01-01 00:00:00+00:00  Clinical           1.0   \n",
       "4           10         0.0  1900-01-01 00:00:00+00:00  Clinical           1.0   \n",
       "\n",
       "    procedure_name kb_procedure_name eye         code  \\\n",
       "0              SLT               SLT  OD        65855   \n",
       "1              SLT               SLT  OS        65855   \n",
       "2  Avastin (J9035)   Avastin (J9035)  OD  67028,J9035   \n",
       "3  Avastin (J9035)   Avastin (J9035)  OD  67028,J9035   \n",
       "4  Avastin (J9035)   Avastin (J9035)  OD  67028,J9035   \n",
       "\n",
       "                anesthesia                               prep  number  \\\n",
       "0                  Topical                     Alphagan 0.15%     NaN   \n",
       "1                  Topical                     Alphagan 0.15%     NaN   \n",
       "2  Topical/Subconjunctival  Betadine Drops and Betadine Scrub     NaN   \n",
       "3  Topical/Subconjunctival  Betadine Drops and Betadine Scrub     NaN   \n",
       "4  Topical/Subconjunctival  Betadine Drops and Betadine Scrub     NaN   \n",
       "\n",
       "                 linked_diagnosis  \\\n",
       "0                      POAG, Mild   \n",
       "1                      POAG, Mild   \n",
       "2  Neovascular AMD with Active CN   \n",
       "3  Neovascular AMD with Active CN   \n",
       "4  Neovascular AMD with Active CN   \n",
       "\n",
       "                                   deidentified,,,,,  \n",
       "0  PROCEDURE NOTE: SLT OD. Diagnosis: POAG, Mild....  \n",
       "1  PROCEDURE NOTE: SLT OS. Diagnosis: POAG, Mild....  \n",
       "2  PROCEDURE NOTE: Avastin (<ID>) OD. Diagnosis: ...  \n",
       "3  PROCEDURE NOTE: Avastin (<ID>) OD. Diagnosis: ...  \n",
       "4  PROCEDURE NOTE: Avastin (<ID>) OD. Diagnosis: ...  "
      ]
     },
     "execution_count": 4,
     "metadata": {},
     "output_type": "execute_result"
    }
   ],
   "source": [
    "data.head()"
   ]
  },
  {
   "cell_type": "code",
   "execution_count": 5,
   "id": "28c5dbca-be76-499e-ac17-64940f6f0525",
   "metadata": {},
   "outputs": [
    {
     "data": {
      "text/html": [
       "<div>\n",
       "<style scoped>\n",
       "    .dataframe tbody tr th:only-of-type {\n",
       "        vertical-align: middle;\n",
       "    }\n",
       "\n",
       "    .dataframe tbody tr th {\n",
       "        vertical-align: top;\n",
       "    }\n",
       "\n",
       "    .dataframe thead th {\n",
       "        text-align: right;\n",
       "    }\n",
       "</style>\n",
       "<table border=\"1\" class=\"dataframe\">\n",
       "  <thead>\n",
       "    <tr style=\"text-align: right;\">\n",
       "      <th></th>\n",
       "      <th>encounter_id</th>\n",
       "      <th>patient_id</th>\n",
       "      <th>diagnosis_date</th>\n",
       "      <th>type</th>\n",
       "      <th>procedure_id</th>\n",
       "      <th>procedure_name</th>\n",
       "      <th>kb_procedure_name</th>\n",
       "      <th>eye</th>\n",
       "      <th>code</th>\n",
       "      <th>anesthesia</th>\n",
       "      <th>prep</th>\n",
       "      <th>number</th>\n",
       "      <th>linked_diagnosis</th>\n",
       "      <th>deidentified,,,,,</th>\n",
       "    </tr>\n",
       "  </thead>\n",
       "  <tbody>\n",
       "    <tr>\n",
       "      <th>7</th>\n",
       "      <td>0</td>\n",
       "      <td>0.0</td>\n",
       "      <td>1900-01-01 00:00:00+00:00</td>\n",
       "      <td>Clinical</td>\n",
       "      <td>1.0</td>\n",
       "      <td>Avastin (J9035)</td>\n",
       "      <td>Avastin (J9035)</td>\n",
       "      <td>OD</td>\n",
       "      <td>67028,J9035</td>\n",
       "      <td>Topical/Subconjunctival</td>\n",
       "      <td>Betadine Drops and Betadine Scrub</td>\n",
       "      <td>NaN</td>\n",
       "      <td>Neovascular AMD with Active CN</td>\n",
       "      <td>PROCEDURE NOTE: Avastin (&lt;ID&gt;) OD. Diagnosis: ...</td>\n",
       "    </tr>\n",
       "    <tr>\n",
       "      <th>8</th>\n",
       "      <td>8</td>\n",
       "      <td>0.0</td>\n",
       "      <td>1900-01-01 00:00:00+00:00</td>\n",
       "      <td>Clinical</td>\n",
       "      <td>1.0</td>\n",
       "      <td>Avastin (J9035)</td>\n",
       "      <td>Avastin (J9035)</td>\n",
       "      <td>OD</td>\n",
       "      <td>67028,J9035</td>\n",
       "      <td>Topical/Subconjunctival</td>\n",
       "      <td>Betadine Drops and Betadine Scrub</td>\n",
       "      <td>NaN</td>\n",
       "      <td>Neovascular AMD with Active CN</td>\n",
       "      <td>PROCEDURE NOTE: Avastin (&lt;ID&gt;) OD. Diagnosis: ...</td>\n",
       "    </tr>\n",
       "    <tr>\n",
       "      <th>9</th>\n",
       "      <td>11</td>\n",
       "      <td>0.0</td>\n",
       "      <td>1900-01-01 00:00:00+00:00</td>\n",
       "      <td>Clinical</td>\n",
       "      <td>1.0</td>\n",
       "      <td>Avastin (J9035)</td>\n",
       "      <td>Avastin (J9035)</td>\n",
       "      <td>OD</td>\n",
       "      <td>67028,J9035</td>\n",
       "      <td>Topical/Subconjunctival</td>\n",
       "      <td>Betadine Drops and Betadine Scrub</td>\n",
       "      <td>NaN</td>\n",
       "      <td>Neovascular AMD with Active CN</td>\n",
       "      <td>PROCEDURE NOTE: Avastin (&lt;ID&gt;) OD. Diagnosis: ...</td>\n",
       "    </tr>\n",
       "    <tr>\n",
       "      <th>10</th>\n",
       "      <td>5</td>\n",
       "      <td>0.0</td>\n",
       "      <td>1900-01-01 00:00:00+00:00</td>\n",
       "      <td>Clinical</td>\n",
       "      <td>1.0</td>\n",
       "      <td>Avastin (J9035)</td>\n",
       "      <td>Avastin (J9035)</td>\n",
       "      <td>OD</td>\n",
       "      <td>67028,J9035</td>\n",
       "      <td>Topical/Subconjunctival</td>\n",
       "      <td>Betadine Drops and Betadine Scrub</td>\n",
       "      <td>NaN</td>\n",
       "      <td>Neovascular AMD with Active CN</td>\n",
       "      <td>PROCEDURE NOTE: Avastin (&lt;ID&gt;) OD. Diagnosis: ...</td>\n",
       "    </tr>\n",
       "    <tr>\n",
       "      <th>11</th>\n",
       "      <td>7|4|1900-01-01 00:00:00+00:00|Surgical|2|YAG C...</td>\n",
       "      <td>NaN</td>\n",
       "      <td>NaN</td>\n",
       "      <td>NaN</td>\n",
       "      <td>NaN</td>\n",
       "      <td>NaN</td>\n",
       "      <td>NaN</td>\n",
       "      <td>NaN</td>\n",
       "      <td>NaN</td>\n",
       "      <td>NaN</td>\n",
       "      <td>NaN</td>\n",
       "      <td>NaN</td>\n",
       "      <td>NaN</td>\n",
       "      <td>NaN</td>\n",
       "    </tr>\n",
       "  </tbody>\n",
       "</table>\n",
       "</div>"
      ],
      "text/plain": [
       "                                         encounter_id  patient_id  \\\n",
       "7                                                   0         0.0   \n",
       "8                                                   8         0.0   \n",
       "9                                                  11         0.0   \n",
       "10                                                  5         0.0   \n",
       "11  7|4|1900-01-01 00:00:00+00:00|Surgical|2|YAG C...         NaN   \n",
       "\n",
       "               diagnosis_date      type  procedure_id   procedure_name  \\\n",
       "7   1900-01-01 00:00:00+00:00  Clinical           1.0  Avastin (J9035)   \n",
       "8   1900-01-01 00:00:00+00:00  Clinical           1.0  Avastin (J9035)   \n",
       "9   1900-01-01 00:00:00+00:00  Clinical           1.0  Avastin (J9035)   \n",
       "10  1900-01-01 00:00:00+00:00  Clinical           1.0  Avastin (J9035)   \n",
       "11                        NaN       NaN           NaN              NaN   \n",
       "\n",
       "   kb_procedure_name  eye         code               anesthesia  \\\n",
       "7    Avastin (J9035)   OD  67028,J9035  Topical/Subconjunctival   \n",
       "8    Avastin (J9035)   OD  67028,J9035  Topical/Subconjunctival   \n",
       "9    Avastin (J9035)   OD  67028,J9035  Topical/Subconjunctival   \n",
       "10   Avastin (J9035)   OD  67028,J9035  Topical/Subconjunctival   \n",
       "11               NaN  NaN          NaN                      NaN   \n",
       "\n",
       "                                 prep  number                linked_diagnosis  \\\n",
       "7   Betadine Drops and Betadine Scrub     NaN  Neovascular AMD with Active CN   \n",
       "8   Betadine Drops and Betadine Scrub     NaN  Neovascular AMD with Active CN   \n",
       "9   Betadine Drops and Betadine Scrub     NaN  Neovascular AMD with Active CN   \n",
       "10  Betadine Drops and Betadine Scrub     NaN  Neovascular AMD with Active CN   \n",
       "11                                NaN     NaN                             NaN   \n",
       "\n",
       "                                    deidentified,,,,,  \n",
       "7   PROCEDURE NOTE: Avastin (<ID>) OD. Diagnosis: ...  \n",
       "8   PROCEDURE NOTE: Avastin (<ID>) OD. Diagnosis: ...  \n",
       "9   PROCEDURE NOTE: Avastin (<ID>) OD. Diagnosis: ...  \n",
       "10  PROCEDURE NOTE: Avastin (<ID>) OD. Diagnosis: ...  \n",
       "11                                                NaN  "
      ]
     },
     "execution_count": 5,
     "metadata": {},
     "output_type": "execute_result"
    }
   ],
   "source": [
    "data.tail()"
   ]
  },
  {
   "cell_type": "code",
   "execution_count": 6,
   "id": "91f4b6a6-db6c-410c-83da-5ad30d30fb69",
   "metadata": {},
   "outputs": [
    {
     "name": "stdout",
     "output_type": "stream",
     "text": [
      "<class 'pandas.core.frame.DataFrame'>\n",
      "RangeIndex: 12 entries, 0 to 11\n",
      "Data columns (total 14 columns):\n",
      " #   Column             Non-Null Count  Dtype  \n",
      "---  ------             --------------  -----  \n",
      " 0   encounter_id       12 non-null     object \n",
      " 1   patient_id         11 non-null     float64\n",
      " 2   diagnosis_date     11 non-null     object \n",
      " 3   type               11 non-null     object \n",
      " 4   procedure_id       11 non-null     float64\n",
      " 5   procedure_name     11 non-null     object \n",
      " 6   kb_procedure_name  11 non-null     object \n",
      " 7   eye                11 non-null     object \n",
      " 8   code               11 non-null     object \n",
      " 9   anesthesia         11 non-null     object \n",
      " 10  prep               11 non-null     object \n",
      " 11  number             0 non-null      float64\n",
      " 12  linked_diagnosis   11 non-null     object \n",
      " 13  deidentified,,,,,  11 non-null     object \n",
      "dtypes: float64(3), object(11)\n",
      "memory usage: 1.4+ KB\n"
     ]
    }
   ],
   "source": [
    "data.info()"
   ]
  },
  {
   "cell_type": "markdown",
   "id": "284a1a3c-c581-48e6-acac-9a9b667d783c",
   "metadata": {},
   "source": [
    "## Checking for Duplication"
   ]
  },
  {
   "cell_type": "code",
   "execution_count": 8,
   "id": "06d0bccf-eb1b-4ee2-bb26-7f477ba19eee",
   "metadata": {},
   "outputs": [
    {
     "data": {
      "text/plain": [
       "encounter_id         12\n",
       "patient_id            2\n",
       "diagnosis_date        1\n",
       "type                  1\n",
       "procedure_id          2\n",
       "procedure_name        2\n",
       "kb_procedure_name     2\n",
       "eye                   2\n",
       "code                  2\n",
       "anesthesia            2\n",
       "prep                  2\n",
       "number                0\n",
       "linked_diagnosis      2\n",
       "deidentified,,,,,     3\n",
       "dtype: int64"
      ]
     },
     "execution_count": 8,
     "metadata": {},
     "output_type": "execute_result"
    }
   ],
   "source": [
    "data.nunique()"
   ]
  },
  {
   "cell_type": "code",
   "execution_count": 9,
   "id": "1ab914ac-4051-4ba1-bf97-5a205994c59d",
   "metadata": {},
   "outputs": [
    {
     "name": "stdout",
     "output_type": "stream",
     "text": [
      "Empty DataFrame\n",
      "Columns: [encounter_id, patient_id, diagnosis_date, type, procedure_id, procedure_name, kb_procedure_name, eye, code, anesthesia, prep, number, linked_diagnosis, deidentified,,,,,]\n",
      "Index: []\n"
     ]
    }
   ],
   "source": [
    "duplicate_rows = data[data.duplicated()]\n",
    "print(duplicate_rows)"
   ]
  },
  {
   "cell_type": "raw",
   "id": "4a988781-5d50-40ca-a096-9c9405c83f99",
   "metadata": {},
   "source": [
    "No duplicated rows found"
   ]
  },
  {
   "cell_type": "markdown",
   "id": "53a65ebd-52a0-4fd4-83ea-36174a744197",
   "metadata": {},
   "source": [
    "## Checking Missing Values"
   ]
  },
  {
   "cell_type": "code",
   "execution_count": 10,
   "id": "06456aa4-3138-4779-8ba1-ea1a7fad5e97",
   "metadata": {},
   "outputs": [
    {
     "data": {
      "text/plain": [
       "encounter_id          0\n",
       "patient_id            1\n",
       "diagnosis_date        1\n",
       "type                  1\n",
       "procedure_id          1\n",
       "procedure_name        1\n",
       "kb_procedure_name     1\n",
       "eye                   1\n",
       "code                  1\n",
       "anesthesia            1\n",
       "prep                  1\n",
       "number               12\n",
       "linked_diagnosis      1\n",
       "deidentified,,,,,     1\n",
       "dtype: int64"
      ]
     },
     "execution_count": 10,
     "metadata": {},
     "output_type": "execute_result"
    }
   ],
   "source": [
    "data.isnull().sum()"
   ]
  },
  {
   "cell_type": "code",
   "execution_count": 12,
   "id": "9ff6bbcb-f9fd-49be-a052-5f4322eec825",
   "metadata": {},
   "outputs": [
    {
     "data": {
      "text/plain": [
       "encounter_id           0.000000\n",
       "patient_id             8.333333\n",
       "diagnosis_date         8.333333\n",
       "type                   8.333333\n",
       "procedure_id           8.333333\n",
       "procedure_name         8.333333\n",
       "kb_procedure_name      8.333333\n",
       "eye                    8.333333\n",
       "code                   8.333333\n",
       "anesthesia             8.333333\n",
       "prep                   8.333333\n",
       "number               100.000000\n",
       "linked_diagnosis       8.333333\n",
       "deidentified,,,,,      8.333333\n",
       "dtype: float64"
      ]
     },
     "execution_count": 12,
     "metadata": {},
     "output_type": "execute_result"
    }
   ],
   "source": [
    "(data.isnull().sum()/(len(data)))*100"
   ]
  },
  {
   "cell_type": "code",
   "execution_count": 13,
   "id": "6580821e-11ff-4780-a9fa-af78791e9498",
   "metadata": {},
   "outputs": [
    {
     "data": {
      "text/plain": [
       "<Axes: >"
      ]
     },
     "execution_count": 13,
     "metadata": {},
     "output_type": "execute_result"
    },
    {
     "data": {
      "image/png": "[encoded data removed]",
      "text/plain": [
       "<Figure size 640x480 with 1 Axes>"
      ]
     },
     "metadata": {},
     "output_type": "display_data"
    }
   ],
   "source": [
    "sns.heatmap(data.isnull(),yticklabels=False,cbar=False,cmap='viridis')"
   ]
  },
  {
   "cell_type": "raw",
   "id": "ec4d8728-b2b4-4904-981e-2912102b610a",
   "metadata": {},
   "source": [
    "missing data coumn - \n",
    "\n",
    "    number               100.000000\n",
    "\n",
    "\n",
    "need to drop last row- all cloumn values are Nan"
   ]
  },
  {
   "cell_type": "markdown",
   "id": "34bef921-2d16-4511-a046-81b9da03ae5d",
   "metadata": {},
   "source": [
    "## Checking for inconsistent data types"
   ]
  },
  {
   "cell_type": "code",
   "execution_count": 15,
   "id": "101da1dc-b127-42c4-9e2b-e6663e209853",
   "metadata": {},
   "outputs": [
    {
     "name": "stdout",
     "output_type": "stream",
     "text": [
      "encounter_id          object\n",
      "patient_id           float64\n",
      "diagnosis_date        object\n",
      "type                  object\n",
      "procedure_id         float64\n",
      "procedure_name        object\n",
      "kb_procedure_name     object\n",
      "eye                   object\n",
      "code                  object\n",
      "anesthesia            object\n",
      "prep                  object\n",
      "number               float64\n",
      "linked_diagnosis      object\n",
      "deidentified,,,,,     object\n",
      "dtype: object\n"
     ]
    }
   ],
   "source": [
    "data_types = data.dtypes\n",
    "print(data_types)"
   ]
  },
  {
   "cell_type": "code",
   "execution_count": null,
   "id": "1081639f-cded-4727-af9a-a9963c135477",
   "metadata": {},
   "outputs": [],
   "source": []
  }
 ],
 "metadata": {
  "kernelspec": {
   "display_name": "venv",
   "language": "python",
   "name": "venv"
  },
  "language_info": {
   "codemirror_mode": {
    "name": "ipython",
    "version": 3
   },
   "file_extension": ".py",
   "mimetype": "text/x-python",
   "name": "python",
   "nbconvert_exporter": "python",
   "pygments_lexer": "ipython3",
   "version": "3.9.6"
  }
 },
 "nbformat": 4,
 "nbformat_minor": 5
}
