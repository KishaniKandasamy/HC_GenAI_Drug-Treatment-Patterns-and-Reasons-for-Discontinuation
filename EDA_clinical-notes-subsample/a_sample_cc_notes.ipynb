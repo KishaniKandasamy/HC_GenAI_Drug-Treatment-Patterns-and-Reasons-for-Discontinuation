{
 "cells": [
  {
   "cell_type": "code",
   "execution_count": 1,
   "id": "60b99d89-8f00-445e-ba04-ab74c54e5742",
   "metadata": {},
   "outputs": [
    {
     "name": "stderr",
     "output_type": "stream",
     "text": [
      "/var/folders/3m/l0tyzx5j5lg1wtczpcc3ff8h0000gn/T/ipykernel_2916/3993962526.py:1: DeprecationWarning: \n",
      "Pyarrow will become a required dependency of pandas in the next major release of pandas (pandas 3.0),\n",
      "(to allow more performant data types, such as the Arrow string type, and better interoperability with other libraries)\n",
      "but was not found to be installed on your system.\n",
      "If this would cause problems for you,\n",
      "please provide us feedback at https://github.com/pandas-dev/pandas/issues/54466\n",
      "        \n",
      "  import pandas as pd\n"
     ]
    }
   ],
   "source": [
    "import pandas as pd \n",
    "import numpy as np\n",
    "import matplotlib.pyplot as plt\n",
    "import seaborn as sns\n",
    "%matplotlib inline\n"
   ]
  },
  {
   "cell_type": "code",
   "execution_count": 4,
   "id": "986c9814-e373-4e2b-882d-699104726351",
   "metadata": {},
   "outputs": [],
   "source": [
    "data = pd.read_csv('../clinical-notes-subsample/customer facing csv files/a_sample_cc_notes.csv',  delimiter=\"|\")"
   ]
  },
  {
   "cell_type": "code",
   "execution_count": 5,
   "id": "add9123f-9baa-4142-b2fc-4ff593d1a438",
   "metadata": {},
   "outputs": [
    {
     "data": {
      "text/plain": [
       "(540, 11)"
      ]
     },
     "execution_count": 5,
     "metadata": {},
     "output_type": "execute_result"
    }
   ],
   "source": [
    "data.shape"
   ]
  },
  {
   "cell_type": "code",
   "execution_count": 7,
   "id": "b806d352-5d91-4c5e-a28e-6541cb1147fe",
   "metadata": {},
   "outputs": [
    {
     "data": {
      "text/html": [
       "<div>\n",
       "<style scoped>\n",
       "    .dataframe tbody tr th:only-of-type {\n",
       "        vertical-align: middle;\n",
       "    }\n",
       "\n",
       "    .dataframe tbody tr th {\n",
       "        vertical-align: top;\n",
       "    }\n",
       "\n",
       "    .dataframe thead th {\n",
       "        text-align: right;\n",
       "    }\n",
       "</style>\n",
       "<table border=\"1\" class=\"dataframe\">\n",
       "  <thead>\n",
       "    <tr style=\"text-align: right;\">\n",
       "      <th></th>\n",
       "      <th>Note_Identifier</th>\n",
       "      <th>Note_Line</th>\n",
       "      <th>Patient_Identifier</th>\n",
       "      <th>Encounter_Identifier</th>\n",
       "      <th>Order_Procedure_Identifier</th>\n",
       "      <th>Note_Created_Date</th>\n",
       "      <th>Last_Note_Edit_Date</th>\n",
       "      <th>Contact_Date</th>\n",
       "      <th>Author_Provider_NPI</th>\n",
       "      <th>Note_Type</th>\n",
       "      <th>deidentified,,</th>\n",
       "    </tr>\n",
       "  </thead>\n",
       "  <tbody>\n",
       "    <tr>\n",
       "      <th>0</th>\n",
       "      <td>358</td>\n",
       "      <td>1.0</td>\n",
       "      <td>1.0</td>\n",
       "      <td>22.0</td>\n",
       "      <td>NaN</td>\n",
       "      <td>1900-01-01 00:00:00+00:00</td>\n",
       "      <td>1900-01-01 00:00:00+00:00</td>\n",
       "      <td>1900-01-01 00:00:00+00:00</td>\n",
       "      <td>NaN</td>\n",
       "      <td>NaN</td>\n",
       "      <td>Lesion 1: Guidewire advanced and used as the p...</td>\n",
       "    </tr>\n",
       "    <tr>\n",
       "      <th>1</th>\n",
       "      <td>788</td>\n",
       "      <td>1.0</td>\n",
       "      <td>1.0</td>\n",
       "      <td>22.0</td>\n",
       "      <td>NaN</td>\n",
       "      <td>1900-01-01 00:00:00+00:00</td>\n",
       "      <td>1900-01-01 00:00:00+00:00</td>\n",
       "      <td>1900-01-01 00:00:00+00:00</td>\n",
       "      <td>NaN</td>\n",
       "      <td>NaN</td>\n",
       "      <td>Balloon catheter removed.,,</td>\n",
       "    </tr>\n",
       "    <tr>\n",
       "      <th>2</th>\n",
       "      <td>1041</td>\n",
       "      <td>1.0</td>\n",
       "      <td>1.0</td>\n",
       "      <td>22.0</td>\n",
       "      <td>NaN</td>\n",
       "      <td>1900-01-01 00:00:00+00:00</td>\n",
       "      <td>1900-01-01 00:00:00+00:00</td>\n",
       "      <td>1900-01-01 00:00:00+00:00</td>\n",
       "      <td>NaN</td>\n",
       "      <td>NaN</td>\n",
       "      <td>Diagnostic wire removed. Guidewire tip is inta...</td>\n",
       "    </tr>\n",
       "    <tr>\n",
       "      <th>3</th>\n",
       "      <td>129</td>\n",
       "      <td>1.0</td>\n",
       "      <td>1.0</td>\n",
       "      <td>22.0</td>\n",
       "      <td>NaN</td>\n",
       "      <td>1900-01-01 00:00:00+00:00</td>\n",
       "      <td>1900-01-01 00:00:00+00:00</td>\n",
       "      <td>1900-01-01 00:00:00+00:00</td>\n",
       "      <td>NaN</td>\n",
       "      <td>NaN</td>\n",
       "      <td>Contrast Dose Calculator:   Patient's age: &lt;AG...</td>\n",
       "    </tr>\n",
       "    <tr>\n",
       "      <th>4</th>\n",
       "      <td>1413|1|1|22||1900-01-01 00:00:00+00:00|1900-01...</td>\n",
       "      <td>NaN</td>\n",
       "      <td>NaN</td>\n",
       "      <td>NaN</td>\n",
       "      <td>NaN</td>\n",
       "      <td>NaN</td>\n",
       "      <td>NaN</td>\n",
       "      <td>NaN</td>\n",
       "      <td>NaN</td>\n",
       "      <td>NaN</td>\n",
       "      <td>NaN</td>\n",
       "    </tr>\n",
       "  </tbody>\n",
       "</table>\n",
       "</div>"
      ],
      "text/plain": [
       "                                     Note_Identifier  Note_Line  \\\n",
       "0                                                358        1.0   \n",
       "1                                                788        1.0   \n",
       "2                                               1041        1.0   \n",
       "3                                                129        1.0   \n",
       "4  1413|1|1|22||1900-01-01 00:00:00+00:00|1900-01...        NaN   \n",
       "\n",
       "   Patient_Identifier  Encounter_Identifier  Order_Procedure_Identifier  \\\n",
       "0                 1.0                  22.0                         NaN   \n",
       "1                 1.0                  22.0                         NaN   \n",
       "2                 1.0                  22.0                         NaN   \n",
       "3                 1.0                  22.0                         NaN   \n",
       "4                 NaN                   NaN                         NaN   \n",
       "\n",
       "           Note_Created_Date        Last_Note_Edit_Date  \\\n",
       "0  1900-01-01 00:00:00+00:00  1900-01-01 00:00:00+00:00   \n",
       "1  1900-01-01 00:00:00+00:00  1900-01-01 00:00:00+00:00   \n",
       "2  1900-01-01 00:00:00+00:00  1900-01-01 00:00:00+00:00   \n",
       "3  1900-01-01 00:00:00+00:00  1900-01-01 00:00:00+00:00   \n",
       "4                        NaN                        NaN   \n",
       "\n",
       "                Contact_Date  Author_Provider_NPI Note_Type  \\\n",
       "0  1900-01-01 00:00:00+00:00                  NaN       NaN   \n",
       "1  1900-01-01 00:00:00+00:00                  NaN       NaN   \n",
       "2  1900-01-01 00:00:00+00:00                  NaN       NaN   \n",
       "3  1900-01-01 00:00:00+00:00                  NaN       NaN   \n",
       "4                        NaN                  NaN       NaN   \n",
       "\n",
       "                                      deidentified,,  \n",
       "0  Lesion 1: Guidewire advanced and used as the p...  \n",
       "1                        Balloon catheter removed.,,  \n",
       "2  Diagnostic wire removed. Guidewire tip is inta...  \n",
       "3  Contrast Dose Calculator:   Patient's age: <AG...  \n",
       "4                                                NaN  "
      ]
     },
     "execution_count": 7,
     "metadata": {},
     "output_type": "execute_result"
    }
   ],
   "source": [
    "data.head()"
   ]
  },
  {
   "cell_type": "code",
   "execution_count": 8,
   "id": "d766290d-1fce-4f3d-8262-eb540134c7b3",
   "metadata": {},
   "outputs": [
    {
     "data": {
      "text/html": [
       "<div>\n",
       "<style scoped>\n",
       "    .dataframe tbody tr th:only-of-type {\n",
       "        vertical-align: middle;\n",
       "    }\n",
       "\n",
       "    .dataframe tbody tr th {\n",
       "        vertical-align: top;\n",
       "    }\n",
       "\n",
       "    .dataframe thead th {\n",
       "        text-align: right;\n",
       "    }\n",
       "</style>\n",
       "<table border=\"1\" class=\"dataframe\">\n",
       "  <thead>\n",
       "    <tr style=\"text-align: right;\">\n",
       "      <th></th>\n",
       "      <th>Note_Identifier</th>\n",
       "      <th>Note_Line</th>\n",
       "      <th>Patient_Identifier</th>\n",
       "      <th>Encounter_Identifier</th>\n",
       "      <th>Order_Procedure_Identifier</th>\n",
       "      <th>Note_Created_Date</th>\n",
       "      <th>Last_Note_Edit_Date</th>\n",
       "      <th>Contact_Date</th>\n",
       "      <th>Author_Provider_NPI</th>\n",
       "      <th>Note_Type</th>\n",
       "      <th>deidentified,,</th>\n",
       "    </tr>\n",
       "  </thead>\n",
       "  <tbody>\n",
       "    <tr>\n",
       "      <th>535</th>\n",
       "      <td>612|1|2|5||1900-01-01 00:00:00+00:00|1900-01-0...</td>\n",
       "      <td>NaN</td>\n",
       "      <td>NaN</td>\n",
       "      <td>NaN</td>\n",
       "      <td>NaN</td>\n",
       "      <td>NaN</td>\n",
       "      <td>NaN</td>\n",
       "      <td>NaN</td>\n",
       "      <td>NaN</td>\n",
       "      <td>NaN</td>\n",
       "      <td>NaN</td>\n",
       "    </tr>\n",
       "    <tr>\n",
       "      <th>536</th>\n",
       "      <td>201</td>\n",
       "      <td>1.0</td>\n",
       "      <td>2.0</td>\n",
       "      <td>5.0</td>\n",
       "      <td>NaN</td>\n",
       "      <td>1900-01-01 00:00:00+00:00</td>\n",
       "      <td>1900-01-01 00:00:00+00:00</td>\n",
       "      <td>1900-01-01 00:00:00+00:00</td>\n",
       "      <td>1.750588e+09</td>\n",
       "      <td>Consults</td>\n",
       "      <td>Chief Complaint:  Jejunal diverticulitis    HP...</td>\n",
       "    </tr>\n",
       "    <tr>\n",
       "      <th>537</th>\n",
       "      <td>1</td>\n",
       "      <td>5.0</td>\n",
       "      <td>2.0</td>\n",
       "      <td>5.0</td>\n",
       "      <td>NaN</td>\n",
       "      <td>1900-01-01 00:00:00+00:00</td>\n",
       "      <td>1900-01-01 00:00:00+00:00</td>\n",
       "      <td>1900-01-01 00:00:00+00:00</td>\n",
       "      <td>1.740489e+09</td>\n",
       "      <td>Consults</td>\n",
       "      <td>Unremarkable. SMALL BOWEL: No evidence of mass...</td>\n",
       "    </tr>\n",
       "    <tr>\n",
       "      <th>538</th>\n",
       "      <td>201</td>\n",
       "      <td>3.0</td>\n",
       "      <td>2.0</td>\n",
       "      <td>5.0</td>\n",
       "      <td>NaN</td>\n",
       "      <td>1900-01-01 00:00:00+00:00</td>\n",
       "      <td>1900-01-01 00:00:00+00:00</td>\n",
       "      <td>1900-01-01 00:00:00+00:00</td>\n",
       "      <td>1.750588e+09</td>\n",
       "      <td>Consults</td>\n",
       "      <td>Albumin 3.0 (L) 3.5 - 5.0 g/dL    Globulin 4.4...</td>\n",
       "    </tr>\n",
       "    <tr>\n",
       "      <th>539</th>\n",
       "      <td>201</td>\n",
       "      <td>2.0</td>\n",
       "      <td>2.0</td>\n",
       "      <td>5.0</td>\n",
       "      <td>NaN</td>\n",
       "      <td>1900-01-01 00:00:00+00:00</td>\n",
       "      <td>1900-01-01 00:00:00+00:00</td>\n",
       "      <td>1900-01-01 00:00:00+00:00</td>\n",
       "      <td>1.750588e+09</td>\n",
       "      <td>Consults</td>\n",
       "      <td>by mouth daily. &lt;ID&gt; Tablet 1   ‚Ä¢ MAGNESIUM ...</td>\n",
       "    </tr>\n",
       "  </tbody>\n",
       "</table>\n",
       "</div>"
      ],
      "text/plain": [
       "                                       Note_Identifier  Note_Line  \\\n",
       "535  612|1|2|5||1900-01-01 00:00:00+00:00|1900-01-0...        NaN   \n",
       "536                                                201        1.0   \n",
       "537                                                  1        5.0   \n",
       "538                                                201        3.0   \n",
       "539                                                201        2.0   \n",
       "\n",
       "     Patient_Identifier  Encounter_Identifier  Order_Procedure_Identifier  \\\n",
       "535                 NaN                   NaN                         NaN   \n",
       "536                 2.0                   5.0                         NaN   \n",
       "537                 2.0                   5.0                         NaN   \n",
       "538                 2.0                   5.0                         NaN   \n",
       "539                 2.0                   5.0                         NaN   \n",
       "\n",
       "             Note_Created_Date        Last_Note_Edit_Date  \\\n",
       "535                        NaN                        NaN   \n",
       "536  1900-01-01 00:00:00+00:00  1900-01-01 00:00:00+00:00   \n",
       "537  1900-01-01 00:00:00+00:00  1900-01-01 00:00:00+00:00   \n",
       "538  1900-01-01 00:00:00+00:00  1900-01-01 00:00:00+00:00   \n",
       "539  1900-01-01 00:00:00+00:00  1900-01-01 00:00:00+00:00   \n",
       "\n",
       "                  Contact_Date  Author_Provider_NPI Note_Type  \\\n",
       "535                        NaN                  NaN       NaN   \n",
       "536  1900-01-01 00:00:00+00:00         1.750588e+09  Consults   \n",
       "537  1900-01-01 00:00:00+00:00         1.740489e+09  Consults   \n",
       "538  1900-01-01 00:00:00+00:00         1.750588e+09  Consults   \n",
       "539  1900-01-01 00:00:00+00:00         1.750588e+09  Consults   \n",
       "\n",
       "                                        deidentified,,  \n",
       "535                                                NaN  \n",
       "536  Chief Complaint:  Jejunal diverticulitis    HP...  \n",
       "537  Unremarkable. SMALL BOWEL: No evidence of mass...  \n",
       "538  Albumin 3.0 (L) 3.5 - 5.0 g/dL    Globulin 4.4...  \n",
       "539  by mouth daily. <ID> Tablet 1   ‚Ä¢ MAGNESIUM ...  "
      ]
     },
     "execution_count": 8,
     "metadata": {},
     "output_type": "execute_result"
    }
   ],
   "source": [
    "data.tail()"
   ]
  },
  {
   "cell_type": "code",
   "execution_count": 9,
   "id": "955a9f98-cf83-4a8b-9d40-c225e8245f52",
   "metadata": {},
   "outputs": [
    {
     "name": "stdout",
     "output_type": "stream",
     "text": [
      "<class 'pandas.core.frame.DataFrame'>\n",
      "RangeIndex: 540 entries, 0 to 539\n",
      "Data columns (total 11 columns):\n",
      " #   Column                      Non-Null Count  Dtype  \n",
      "---  ------                      --------------  -----  \n",
      " 0   Note_Identifier             540 non-null    object \n",
      " 1   Note_Line                   180 non-null    float64\n",
      " 2   Patient_Identifier          180 non-null    float64\n",
      " 3   Encounter_Identifier        180 non-null    float64\n",
      " 4   Order_Procedure_Identifier  0 non-null      float64\n",
      " 5   Note_Created_Date           180 non-null    object \n",
      " 6   Last_Note_Edit_Date         180 non-null    object \n",
      " 7   Contact_Date                180 non-null    object \n",
      " 8   Author_Provider_NPI         56 non-null     float64\n",
      " 9   Note_Type                   81 non-null     object \n",
      " 10  deidentified,,              180 non-null    object \n",
      "dtypes: float64(5), object(6)\n",
      "memory usage: 46.5+ KB\n"
     ]
    }
   ],
   "source": [
    "data.info()"
   ]
  },
  {
   "cell_type": "markdown",
   "id": "b3aa1a6e-2865-425e-9c75-e73c6eaf86e3",
   "metadata": {},
   "source": [
    "## Checking for Duplication"
   ]
  },
  {
   "cell_type": "code",
   "execution_count": 10,
   "id": "c961e382-4012-4f89-889d-ef5235357991",
   "metadata": {},
   "outputs": [
    {
     "data": {
      "text/plain": [
       "Note_Identifier               390\n",
       "Note_Line                       8\n",
       "Patient_Identifier              6\n",
       "Encounter_Identifier           58\n",
       "Order_Procedure_Identifier      0\n",
       "Note_Created_Date               1\n",
       "Last_Note_Edit_Date             1\n",
       "Contact_Date                    1\n",
       "Author_Provider_NPI            17\n",
       "Note_Type                       4\n",
       "deidentified,,                157\n",
       "dtype: int64"
      ]
     },
     "execution_count": 10,
     "metadata": {},
     "output_type": "execute_result"
    }
   ],
   "source": [
    "data.nunique()"
   ]
  },
  {
   "cell_type": "code",
   "execution_count": 11,
   "id": "cc922a72-1c2c-4a94-93f9-810ae594ea1b",
   "metadata": {},
   "outputs": [
    {
     "name": "stdout",
     "output_type": "stream",
     "text": [
      "                                       Note_Identifier  Note_Line  \\\n",
      "55                                                  ,,        NaN   \n",
      "94                                                  ,,        NaN   \n",
      "95                                                  ,,        NaN   \n",
      "96                             TOC Disposition: PACU,,        NaN   \n",
      "97   TOC Checklist PACU: Identification of patient;...        NaN   \n",
      "..                                                 ...        ...   \n",
      "510                                                 ,,        NaN   \n",
      "511                                    <DOCTOR>, MD\",,        NaN   \n",
      "516  <PHONE> Work/School Note Date: <DATE> To Whom ...        NaN   \n",
      "517                                                 ,,        NaN   \n",
      "518  <PATIENT> was seen and treated today in the em...        NaN   \n",
      "\n",
      "     Patient_Identifier  Encounter_Identifier  Order_Procedure_Identifier  \\\n",
      "55                  NaN                   NaN                         NaN   \n",
      "94                  NaN                   NaN                         NaN   \n",
      "95                  NaN                   NaN                         NaN   \n",
      "96                  NaN                   NaN                         NaN   \n",
      "97                  NaN                   NaN                         NaN   \n",
      "..                  ...                   ...                         ...   \n",
      "510                 NaN                   NaN                         NaN   \n",
      "511                 NaN                   NaN                         NaN   \n",
      "516                 NaN                   NaN                         NaN   \n",
      "517                 NaN                   NaN                         NaN   \n",
      "518                 NaN                   NaN                         NaN   \n",
      "\n",
      "    Note_Created_Date Last_Note_Edit_Date Contact_Date  Author_Provider_NPI  \\\n",
      "55                NaN                 NaN          NaN                  NaN   \n",
      "94                NaN                 NaN          NaN                  NaN   \n",
      "95                NaN                 NaN          NaN                  NaN   \n",
      "96                NaN                 NaN          NaN                  NaN   \n",
      "97                NaN                 NaN          NaN                  NaN   \n",
      "..                ...                 ...          ...                  ...   \n",
      "510               NaN                 NaN          NaN                  NaN   \n",
      "511               NaN                 NaN          NaN                  NaN   \n",
      "516               NaN                 NaN          NaN                  NaN   \n",
      "517               NaN                 NaN          NaN                  NaN   \n",
      "518               NaN                 NaN          NaN                  NaN   \n",
      "\n",
      "    Note_Type deidentified,,  \n",
      "55        NaN            NaN  \n",
      "94        NaN            NaN  \n",
      "95        NaN            NaN  \n",
      "96        NaN            NaN  \n",
      "97        NaN            NaN  \n",
      "..        ...            ...  \n",
      "510       NaN            NaN  \n",
      "511       NaN            NaN  \n",
      "516       NaN            NaN  \n",
      "517       NaN            NaN  \n",
      "518       NaN            NaN  \n",
      "\n",
      "[116 rows x 11 columns]\n"
     ]
    }
   ],
   "source": [
    "duplicate_rows = data[data.duplicated()]\n",
    "print(duplicate_rows)"
   ]
  },
  {
   "cell_type": "raw",
   "id": "3c98592c-726e-4767-b975-553de67d1a41",
   "metadata": {},
   "source": [
    "Duplicated rows found -116 rows"
   ]
  },
  {
   "cell_type": "markdown",
   "id": "94bd8866-8650-4b9a-8f27-2f739d7d5eed",
   "metadata": {},
   "source": [
    "## Checking Missing Values"
   ]
  },
  {
   "cell_type": "code",
   "execution_count": 12,
   "id": "e48cceeb-5fb5-4950-958c-27cd0e972875",
   "metadata": {},
   "outputs": [
    {
     "data": {
      "text/plain": [
       "Note_Identifier                 0\n",
       "Note_Line                     360\n",
       "Patient_Identifier            360\n",
       "Encounter_Identifier          360\n",
       "Order_Procedure_Identifier    540\n",
       "Note_Created_Date             360\n",
       "Last_Note_Edit_Date           360\n",
       "Contact_Date                  360\n",
       "Author_Provider_NPI           484\n",
       "Note_Type                     459\n",
       "deidentified,,                360\n",
       "dtype: int64"
      ]
     },
     "execution_count": 12,
     "metadata": {},
     "output_type": "execute_result"
    }
   ],
   "source": [
    "data.isnull().sum()"
   ]
  },
  {
   "cell_type": "code",
   "execution_count": 14,
   "id": "067d81a1-dfbe-4f84-bb7f-afd2ede5ae11",
   "metadata": {},
   "outputs": [
    {
     "data": {
      "text/plain": [
       "Note_Identifier                 0.000000\n",
       "Note_Line                      66.666667\n",
       "Patient_Identifier             66.666667\n",
       "Encounter_Identifier           66.666667\n",
       "Order_Procedure_Identifier    100.000000\n",
       "Note_Created_Date              66.666667\n",
       "Last_Note_Edit_Date            66.666667\n",
       "Contact_Date                   66.666667\n",
       "Author_Provider_NPI            89.629630\n",
       "Note_Type                      85.000000\n",
       "deidentified,,                 66.666667\n",
       "dtype: float64"
      ]
     },
     "execution_count": 14,
     "metadata": {},
     "output_type": "execute_result"
    }
   ],
   "source": [
    "(data.isnull().sum()/(len(data)))*100"
   ]
  },
  {
   "cell_type": "code",
   "execution_count": 15,
   "id": "3729d9a6-4019-480c-8304-6fb98595e77b",
   "metadata": {},
   "outputs": [
    {
     "data": {
      "text/plain": [
       "<Axes: >"
      ]
     },
     "execution_count": 15,
     "metadata": {},
     "output_type": "execute_result"
    },
    {
     "data": {
      "image/png": "[encoded data removed]",
      "text/plain": [
       "<Figure size 640x480 with 1 Axes>"
      ]
     },
     "metadata": {},
     "output_type": "display_data"
    }
   ],
   "source": [
    "sns.heatmap(data.isnull(),yticklabels=False,cbar=False,cmap='viridis')"
   ]
  },
  {
   "cell_type": "code",
   "execution_count": null,
   "id": "1772488f-3bd8-4e5b-bba5-b524e2e49e6f",
   "metadata": {},
   "outputs": [],
   "source": [
    "Too Many null values found"
   ]
  },
  {
   "cell_type": "markdown",
   "id": "23135bd7-b997-4f95-bdc4-304244abafae",
   "metadata": {},
   "source": [
    "## Checking for inconsistent data types"
   ]
  },
  {
   "cell_type": "code",
   "execution_count": 18,
   "id": "058f538b-58de-4a3a-93de-8737fc878e1d",
   "metadata": {},
   "outputs": [
    {
     "name": "stdout",
     "output_type": "stream",
     "text": [
      "Note_Identifier                object\n",
      "Note_Line                     float64\n",
      "Patient_Identifier            float64\n",
      "Encounter_Identifier          float64\n",
      "Order_Procedure_Identifier    float64\n",
      "Note_Created_Date              object\n",
      "Last_Note_Edit_Date            object\n",
      "Contact_Date                   object\n",
      "Author_Provider_NPI           float64\n",
      "Note_Type                      object\n",
      "deidentified,,                 object\n",
      "dtype: object\n"
     ]
    }
   ],
   "source": [
    "data_types = data.dtypes\n",
    "print(data_types)"
   ]
  }
 ],
 "metadata": {
  "kernelspec": {
   "display_name": "venv",
   "language": "python",
   "name": "venv"
  },
  "language_info": {
   "codemirror_mode": {
    "name": "ipython",
    "version": 3
   },
   "file_extension": ".py",
   "mimetype": "text/x-python",
   "name": "python",
   "nbconvert_exporter": "python",
   "pygments_lexer": "ipython3",
   "version": "3.9.6"
  }
 },
 "nbformat": 4,
 "nbformat_minor": 5
}
