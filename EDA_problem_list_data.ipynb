{
 "cells": [
  {
   "cell_type": "code",
   "execution_count": 1,
   "id": "54be4a66-4d7d-4c65-879e-f217ae955589",
   "metadata": {},
   "outputs": [
    {
     "name": "stderr",
     "output_type": "stream",
     "text": [
      "/var/folders/3m/l0tyzx5j5lg1wtczpcc3ff8h0000gn/T/ipykernel_1830/1676706666.py:1: DeprecationWarning: \n",
      "Pyarrow will become a required dependency of pandas in the next major release of pandas (pandas 3.0),\n",
      "(to allow more performant data types, such as the Arrow string type, and better interoperability with other libraries)\n",
      "but was not found to be installed on your system.\n",
      "If this would cause problems for you,\n",
      "please provide us feedback at https://github.com/pandas-dev/pandas/issues/54466\n",
      "        \n",
      "  import pandas as pd\n"
     ]
    }
   ],
   "source": [
    "import pandas as pd \n",
    "import numpy as np\n",
    "import matplotlib.pyplot as plt\n",
    "import seaborn as sns\n",
    "%matplotlib inline\n",
    "\n"
   ]
  },
  {
   "cell_type": "code",
   "execution_count": 2,
   "id": "2bc9c0d6-c50d-480e-9387-54408fa2dae2",
   "metadata": {},
   "outputs": [],
   "source": [
    "data = pd.read_csv('alopecia-areata-subsample/PROBLEM_LIST/data_000000000000.csv',  delimiter=\"|\")"
   ]
  },
  {
   "cell_type": "code",
   "execution_count": 3,
   "id": "2a49d4aa-7b4b-4e83-9239-159aa3681b8c",
   "metadata": {},
   "outputs": [
    {
     "data": {
      "text/plain": [
       "(16201, 20)"
      ]
     },
     "execution_count": 3,
     "metadata": {},
     "output_type": "execute_result"
    }
   ],
   "source": [
    "data.shape"
   ]
  },
  {
   "cell_type": "code",
   "execution_count": 4,
   "id": "7868ff56-cbff-4d7a-963b-5cee884b0e04",
   "metadata": {},
   "outputs": [
    {
     "data": {
      "text/html": [
       "<div>\n",
       "<style scoped>\n",
       "    .dataframe tbody tr th:only-of-type {\n",
       "        vertical-align: middle;\n",
       "    }\n",
       "\n",
       "    .dataframe tbody tr th {\n",
       "        vertical-align: top;\n",
       "    }\n",
       "\n",
       "    .dataframe thead th {\n",
       "        text-align: right;\n",
       "    }\n",
       "</style>\n",
       "<table border=\"1\" class=\"dataframe\">\n",
       "  <thead>\n",
       "    <tr style=\"text-align: right;\">\n",
       "      <th></th>\n",
       "      <th>PATIENT_ID</th>\n",
       "      <th>PL_ID</th>\n",
       "      <th>PL_DX_LINE</th>\n",
       "      <th>PL_NOTED_DATE</th>\n",
       "      <th>PL_NOTED_TIME</th>\n",
       "      <th>PL_RESOLVED_DATE</th>\n",
       "      <th>PL_RESOLVED_TIME</th>\n",
       "      <th>PL_START_DATE</th>\n",
       "      <th>PL_START_TIME</th>\n",
       "      <th>PL_END_DATE</th>\n",
       "      <th>PL_END_TIME</th>\n",
       "      <th>PL_PROBLEM_STATUS</th>\n",
       "      <th>PL_DX_CODE</th>\n",
       "      <th>PL_DX_TYPE</th>\n",
       "      <th>PL_DX_HCS_DESC</th>\n",
       "      <th>PL_CHRONIC</th>\n",
       "      <th>DATA_SUPPLIER_ID</th>\n",
       "      <th>PRODUCT_NAME</th>\n",
       "      <th>PRODUCT_VERSION</th>\n",
       "      <th>EXPORT_DATE</th>\n",
       "    </tr>\n",
       "  </thead>\n",
       "  <tbody>\n",
       "    <tr>\n",
       "      <th>0</th>\n",
       "      <td>0C33868F-B759-4BFB-995B-C68BAEF9001D</td>\n",
       "      <td>78880BBB-FA95-43DD-A545-17D64DA0ABB7</td>\n",
       "      <td>2</td>\n",
       "      <td>2022-04-25</td>\n",
       "      <td>16:47:00</td>\n",
       "      <td>NaN</td>\n",
       "      <td>NaN</td>\n",
       "      <td>NaN</td>\n",
       "      <td>NaN</td>\n",
       "      <td>NaN</td>\n",
       "      <td>NaN</td>\n",
       "      <td>ACTIVE</td>\n",
       "      <td>L63.2</td>\n",
       "      <td>ICD-10-CM</td>\n",
       "      <td>NaN</td>\n",
       "      <td>NO</td>\n",
       "      <td>4632</td>\n",
       "      <td>ALOPECIA_AREATA_SUBSAMPLE_PROBLEM_LIST</td>\n",
       "      <td>5.0</td>\n",
       "      <td>20231213</td>\n",
       "    </tr>\n",
       "    <tr>\n",
       "      <th>1</th>\n",
       "      <td>0C33868F-B759-4BFB-995B-C68BAEF9001D</td>\n",
       "      <td>7F45030D-972C-43DE-B7B9-833D735222D0</td>\n",
       "      <td>2</td>\n",
       "      <td>2022-04-25</td>\n",
       "      <td>16:47:00</td>\n",
       "      <td>NaN</td>\n",
       "      <td>NaN</td>\n",
       "      <td>NaN</td>\n",
       "      <td>NaN</td>\n",
       "      <td>NaN</td>\n",
       "      <td>NaN</td>\n",
       "      <td>ACTIVE</td>\n",
       "      <td>L63.2</td>\n",
       "      <td>ICD-10-CM</td>\n",
       "      <td>NaN</td>\n",
       "      <td>NO</td>\n",
       "      <td>2750</td>\n",
       "      <td>ALOPECIA_AREATA_SUBSAMPLE_PROBLEM_LIST</td>\n",
       "      <td>5.0</td>\n",
       "      <td>20231213</td>\n",
       "    </tr>\n",
       "    <tr>\n",
       "      <th>2</th>\n",
       "      <td>0C33868F-B759-4BFB-995B-C68BAEF9001D</td>\n",
       "      <td>DCE2A91B-7FF1-4D55-B2B4-440B2A419DF8</td>\n",
       "      <td>1</td>\n",
       "      <td>2022-03-07</td>\n",
       "      <td>16:39:00</td>\n",
       "      <td>NaN</td>\n",
       "      <td>NaN</td>\n",
       "      <td>NaN</td>\n",
       "      <td>NaN</td>\n",
       "      <td>NaN</td>\n",
       "      <td>NaN</td>\n",
       "      <td>ACTIVE</td>\n",
       "      <td>L63.2</td>\n",
       "      <td>ICD-10-CM</td>\n",
       "      <td>NaN</td>\n",
       "      <td>NO</td>\n",
       "      <td>2750</td>\n",
       "      <td>ALOPECIA_AREATA_SUBSAMPLE_PROBLEM_LIST</td>\n",
       "      <td>5.0</td>\n",
       "      <td>20231213</td>\n",
       "    </tr>\n",
       "    <tr>\n",
       "      <th>3</th>\n",
       "      <td>0C33868F-B759-4BFB-995B-C68BAEF9001D</td>\n",
       "      <td>902ACF2D-CE36-4A09-BEAE-25818BC97A3E</td>\n",
       "      <td>2</td>\n",
       "      <td>2022-03-07</td>\n",
       "      <td>16:39:00</td>\n",
       "      <td>NaN</td>\n",
       "      <td>NaN</td>\n",
       "      <td>NaN</td>\n",
       "      <td>NaN</td>\n",
       "      <td>NaN</td>\n",
       "      <td>NaN</td>\n",
       "      <td>ACTIVE</td>\n",
       "      <td>L63.2</td>\n",
       "      <td>ICD-10-CM</td>\n",
       "      <td>NaN</td>\n",
       "      <td>NO</td>\n",
       "      <td>4632</td>\n",
       "      <td>ALOPECIA_AREATA_SUBSAMPLE_PROBLEM_LIST</td>\n",
       "      <td>5.0</td>\n",
       "      <td>20231213</td>\n",
       "    </tr>\n",
       "    <tr>\n",
       "      <th>4</th>\n",
       "      <td>0C33868F-B759-4BFB-995B-C68BAEF9001D</td>\n",
       "      <td>823AF010-4F44-48FB-9A5F-0C8E67505ABC</td>\n",
       "      <td>1</td>\n",
       "      <td>2022-07-07</td>\n",
       "      <td>17:03:00</td>\n",
       "      <td>NaN</td>\n",
       "      <td>NaN</td>\n",
       "      <td>NaN</td>\n",
       "      <td>NaN</td>\n",
       "      <td>NaN</td>\n",
       "      <td>NaN</td>\n",
       "      <td>ACTIVE</td>\n",
       "      <td>L65.9</td>\n",
       "      <td>ICD-10-CM</td>\n",
       "      <td>NaN</td>\n",
       "      <td>NO</td>\n",
       "      <td>2750</td>\n",
       "      <td>ALOPECIA_AREATA_SUBSAMPLE_PROBLEM_LIST</td>\n",
       "      <td>5.0</td>\n",
       "      <td>20231213</td>\n",
       "    </tr>\n",
       "  </tbody>\n",
       "</table>\n",
       "</div>"
      ],
      "text/plain": [
       "                             PATIENT_ID                                 PL_ID  \\\n",
       "0  0C33868F-B759-4BFB-995B-C68BAEF9001D  78880BBB-FA95-43DD-A545-17D64DA0ABB7   \n",
       "1  0C33868F-B759-4BFB-995B-C68BAEF9001D  7F45030D-972C-43DE-B7B9-833D735222D0   \n",
       "2  0C33868F-B759-4BFB-995B-C68BAEF9001D  DCE2A91B-7FF1-4D55-B2B4-440B2A419DF8   \n",
       "3  0C33868F-B759-4BFB-995B-C68BAEF9001D  902ACF2D-CE36-4A09-BEAE-25818BC97A3E   \n",
       "4  0C33868F-B759-4BFB-995B-C68BAEF9001D  823AF010-4F44-48FB-9A5F-0C8E67505ABC   \n",
       "\n",
       "   PL_DX_LINE PL_NOTED_DATE PL_NOTED_TIME  PL_RESOLVED_DATE  PL_RESOLVED_TIME  \\\n",
       "0           2    2022-04-25      16:47:00               NaN               NaN   \n",
       "1           2    2022-04-25      16:47:00               NaN               NaN   \n",
       "2           1    2022-03-07      16:39:00               NaN               NaN   \n",
       "3           2    2022-03-07      16:39:00               NaN               NaN   \n",
       "4           1    2022-07-07      17:03:00               NaN               NaN   \n",
       "\n",
       "   PL_START_DATE  PL_START_TIME  PL_END_DATE  PL_END_TIME PL_PROBLEM_STATUS  \\\n",
       "0            NaN            NaN          NaN          NaN            ACTIVE   \n",
       "1            NaN            NaN          NaN          NaN            ACTIVE   \n",
       "2            NaN            NaN          NaN          NaN            ACTIVE   \n",
       "3            NaN            NaN          NaN          NaN            ACTIVE   \n",
       "4            NaN            NaN          NaN          NaN            ACTIVE   \n",
       "\n",
       "  PL_DX_CODE PL_DX_TYPE PL_DX_HCS_DESC PL_CHRONIC  DATA_SUPPLIER_ID  \\\n",
       "0      L63.2  ICD-10-CM            NaN         NO              4632   \n",
       "1      L63.2  ICD-10-CM            NaN         NO              2750   \n",
       "2      L63.2  ICD-10-CM            NaN         NO              2750   \n",
       "3      L63.2  ICD-10-CM            NaN         NO              4632   \n",
       "4      L65.9  ICD-10-CM            NaN         NO              2750   \n",
       "\n",
       "                             PRODUCT_NAME  PRODUCT_VERSION  EXPORT_DATE  \n",
       "0  ALOPECIA_AREATA_SUBSAMPLE_PROBLEM_LIST              5.0     20231213  \n",
       "1  ALOPECIA_AREATA_SUBSAMPLE_PROBLEM_LIST              5.0     20231213  \n",
       "2  ALOPECIA_AREATA_SUBSAMPLE_PROBLEM_LIST              5.0     20231213  \n",
       "3  ALOPECIA_AREATA_SUBSAMPLE_PROBLEM_LIST              5.0     20231213  \n",
       "4  ALOPECIA_AREATA_SUBSAMPLE_PROBLEM_LIST              5.0     20231213  "
      ]
     },
     "execution_count": 4,
     "metadata": {},
     "output_type": "execute_result"
    }
   ],
   "source": [
    "data.head()"
   ]
  },
  {
   "cell_type": "code",
   "execution_count": 5,
   "id": "7122357f-b8ab-4272-8bbc-11c2a493f166",
   "metadata": {},
   "outputs": [
    {
     "data": {
      "text/html": [
       "<div>\n",
       "<style scoped>\n",
       "    .dataframe tbody tr th:only-of-type {\n",
       "        vertical-align: middle;\n",
       "    }\n",
       "\n",
       "    .dataframe tbody tr th {\n",
       "        vertical-align: top;\n",
       "    }\n",
       "\n",
       "    .dataframe thead th {\n",
       "        text-align: right;\n",
       "    }\n",
       "</style>\n",
       "<table border=\"1\" class=\"dataframe\">\n",
       "  <thead>\n",
       "    <tr style=\"text-align: right;\">\n",
       "      <th></th>\n",
       "      <th>PATIENT_ID</th>\n",
       "      <th>PL_ID</th>\n",
       "      <th>PL_DX_LINE</th>\n",
       "      <th>PL_NOTED_DATE</th>\n",
       "      <th>PL_NOTED_TIME</th>\n",
       "      <th>PL_RESOLVED_DATE</th>\n",
       "      <th>PL_RESOLVED_TIME</th>\n",
       "      <th>PL_START_DATE</th>\n",
       "      <th>PL_START_TIME</th>\n",
       "      <th>PL_END_DATE</th>\n",
       "      <th>PL_END_TIME</th>\n",
       "      <th>PL_PROBLEM_STATUS</th>\n",
       "      <th>PL_DX_CODE</th>\n",
       "      <th>PL_DX_TYPE</th>\n",
       "      <th>PL_DX_HCS_DESC</th>\n",
       "      <th>PL_CHRONIC</th>\n",
       "      <th>DATA_SUPPLIER_ID</th>\n",
       "      <th>PRODUCT_NAME</th>\n",
       "      <th>PRODUCT_VERSION</th>\n",
       "      <th>EXPORT_DATE</th>\n",
       "    </tr>\n",
       "  </thead>\n",
       "  <tbody>\n",
       "    <tr>\n",
       "      <th>16196</th>\n",
       "      <td>E3993D66-DA2B-4D38-8AEB-A6A5B8AB96BC</td>\n",
       "      <td>17798272-846F-4020-A8B1-11BFF4EF0391</td>\n",
       "      <td>1</td>\n",
       "      <td>2022-11-23</td>\n",
       "      <td>13:36:00</td>\n",
       "      <td>NaN</td>\n",
       "      <td>NaN</td>\n",
       "      <td>NaN</td>\n",
       "      <td>NaN</td>\n",
       "      <td>NaN</td>\n",
       "      <td>NaN</td>\n",
       "      <td>ACTIVE</td>\n",
       "      <td>T49.0X5A</td>\n",
       "      <td>ICD-10-CM</td>\n",
       "      <td>ADVERSE EFFECT OF LOCAL ANTIFUNGAL, ANTI-INFEC...</td>\n",
       "      <td>NO</td>\n",
       "      <td>4632</td>\n",
       "      <td>ALOPECIA_AREATA_SUBSAMPLE_PROBLEM_LIST</td>\n",
       "      <td>5.0</td>\n",
       "      <td>20231213</td>\n",
       "    </tr>\n",
       "    <tr>\n",
       "      <th>16197</th>\n",
       "      <td>E3993D66-DA2B-4D38-8AEB-A6A5B8AB96BC</td>\n",
       "      <td>7DE8CCFA-BADB-48C7-9C62-E801BAC07E76</td>\n",
       "      <td>3</td>\n",
       "      <td>2022-11-23</td>\n",
       "      <td>13:36:00</td>\n",
       "      <td>NaN</td>\n",
       "      <td>NaN</td>\n",
       "      <td>NaN</td>\n",
       "      <td>NaN</td>\n",
       "      <td>NaN</td>\n",
       "      <td>NaN</td>\n",
       "      <td>ACTIVE</td>\n",
       "      <td>T49.0X5A</td>\n",
       "      <td>ICD-10-CM</td>\n",
       "      <td>ADVERSE EFFECT OF LOCAL ANTIFUNGAL, ANTI-INFEC...</td>\n",
       "      <td>NO</td>\n",
       "      <td>2750</td>\n",
       "      <td>ALOPECIA_AREATA_SUBSAMPLE_PROBLEM_LIST</td>\n",
       "      <td>5.0</td>\n",
       "      <td>20231213</td>\n",
       "    </tr>\n",
       "    <tr>\n",
       "      <th>16198</th>\n",
       "      <td>88A20D5C-0903-4B13-A61F-A52BAED428BC</td>\n",
       "      <td>9047508F-373A-4627-9C2F-649707EBEA6F</td>\n",
       "      <td>9</td>\n",
       "      <td>2023-10-19</td>\n",
       "      <td>16:33:16</td>\n",
       "      <td>NaN</td>\n",
       "      <td>NaN</td>\n",
       "      <td>NaN</td>\n",
       "      <td>NaN</td>\n",
       "      <td>NaN</td>\n",
       "      <td>NaN</td>\n",
       "      <td>ACTIVE</td>\n",
       "      <td>D36.12</td>\n",
       "      <td>ICD-10-CM</td>\n",
       "      <td>BENIGN NEOPLASM OF PERIPHERAL NERVES AND AUTON...</td>\n",
       "      <td>NO</td>\n",
       "      <td>8669</td>\n",
       "      <td>ALOPECIA_AREATA_SUBSAMPLE_PROBLEM_LIST</td>\n",
       "      <td>5.0</td>\n",
       "      <td>20231213</td>\n",
       "    </tr>\n",
       "    <tr>\n",
       "      <th>16199</th>\n",
       "      <td>EF5C25BC-F766-4D83-957C-81A537D59940</td>\n",
       "      <td>83C288C1-7400-440B-BEBA-7143D7AE79B4</td>\n",
       "      <td>1</td>\n",
       "      <td>2017-07-26</td>\n",
       "      <td>15:41:00</td>\n",
       "      <td>NaN</td>\n",
       "      <td>NaN</td>\n",
       "      <td>NaN</td>\n",
       "      <td>NaN</td>\n",
       "      <td>NaN</td>\n",
       "      <td>NaN</td>\n",
       "      <td>ACTIVE</td>\n",
       "      <td>B95.61</td>\n",
       "      <td>ICD-10-CM</td>\n",
       "      <td>METHICILLIN SUSCEPTIBLE STAPHYLOCOCCUS AUREUS ...</td>\n",
       "      <td>NO</td>\n",
       "      <td>8669</td>\n",
       "      <td>ALOPECIA_AREATA_SUBSAMPLE_PROBLEM_LIST</td>\n",
       "      <td>5.0</td>\n",
       "      <td>20231213</td>\n",
       "    </tr>\n",
       "    <tr>\n",
       "      <th>16200</th>\n",
       "      <td>EF5C25BC-F766-4D83-957C-81A537D59940</td>\n",
       "      <td>7BC096AF-FE9E-4FAD-816D-F8E71C4AA657</td>\n",
       "      <td>2</td>\n",
       "      <td>2017-08-09</td>\n",
       "      <td>19:29:00</td>\n",
       "      <td>NaN</td>\n",
       "      <td>NaN</td>\n",
       "      <td>NaN</td>\n",
       "      <td>NaN</td>\n",
       "      <td>NaN</td>\n",
       "      <td>NaN</td>\n",
       "      <td>ACTIVE</td>\n",
       "      <td>B95.61</td>\n",
       "      <td>ICD-10-CM</td>\n",
       "      <td>METHICILLIN SUSCEPTIBLE STAPHYLOCOCCUS AUREUS ...</td>\n",
       "      <td>NO</td>\n",
       "      <td>8669</td>\n",
       "      <td>ALOPECIA_AREATA_SUBSAMPLE_PROBLEM_LIST</td>\n",
       "      <td>5.0</td>\n",
       "      <td>20231213</td>\n",
       "    </tr>\n",
       "  </tbody>\n",
       "</table>\n",
       "</div>"
      ],
      "text/plain": [
       "                                 PATIENT_ID  \\\n",
       "16196  E3993D66-DA2B-4D38-8AEB-A6A5B8AB96BC   \n",
       "16197  E3993D66-DA2B-4D38-8AEB-A6A5B8AB96BC   \n",
       "16198  88A20D5C-0903-4B13-A61F-A52BAED428BC   \n",
       "16199  EF5C25BC-F766-4D83-957C-81A537D59940   \n",
       "16200  EF5C25BC-F766-4D83-957C-81A537D59940   \n",
       "\n",
       "                                      PL_ID  PL_DX_LINE PL_NOTED_DATE  \\\n",
       "16196  17798272-846F-4020-A8B1-11BFF4EF0391           1    2022-11-23   \n",
       "16197  7DE8CCFA-BADB-48C7-9C62-E801BAC07E76           3    2022-11-23   \n",
       "16198  9047508F-373A-4627-9C2F-649707EBEA6F           9    2023-10-19   \n",
       "16199  83C288C1-7400-440B-BEBA-7143D7AE79B4           1    2017-07-26   \n",
       "16200  7BC096AF-FE9E-4FAD-816D-F8E71C4AA657           2    2017-08-09   \n",
       "\n",
       "      PL_NOTED_TIME  PL_RESOLVED_DATE  PL_RESOLVED_TIME  PL_START_DATE  \\\n",
       "16196      13:36:00               NaN               NaN            NaN   \n",
       "16197      13:36:00               NaN               NaN            NaN   \n",
       "16198      16:33:16               NaN               NaN            NaN   \n",
       "16199      15:41:00               NaN               NaN            NaN   \n",
       "16200      19:29:00               NaN               NaN            NaN   \n",
       "\n",
       "       PL_START_TIME  PL_END_DATE  PL_END_TIME PL_PROBLEM_STATUS PL_DX_CODE  \\\n",
       "16196            NaN          NaN          NaN            ACTIVE   T49.0X5A   \n",
       "16197            NaN          NaN          NaN            ACTIVE   T49.0X5A   \n",
       "16198            NaN          NaN          NaN            ACTIVE     D36.12   \n",
       "16199            NaN          NaN          NaN            ACTIVE     B95.61   \n",
       "16200            NaN          NaN          NaN            ACTIVE     B95.61   \n",
       "\n",
       "      PL_DX_TYPE                                     PL_DX_HCS_DESC  \\\n",
       "16196  ICD-10-CM  ADVERSE EFFECT OF LOCAL ANTIFUNGAL, ANTI-INFEC...   \n",
       "16197  ICD-10-CM  ADVERSE EFFECT OF LOCAL ANTIFUNGAL, ANTI-INFEC...   \n",
       "16198  ICD-10-CM  BENIGN NEOPLASM OF PERIPHERAL NERVES AND AUTON...   \n",
       "16199  ICD-10-CM  METHICILLIN SUSCEPTIBLE STAPHYLOCOCCUS AUREUS ...   \n",
       "16200  ICD-10-CM  METHICILLIN SUSCEPTIBLE STAPHYLOCOCCUS AUREUS ...   \n",
       "\n",
       "      PL_CHRONIC  DATA_SUPPLIER_ID                            PRODUCT_NAME  \\\n",
       "16196         NO              4632  ALOPECIA_AREATA_SUBSAMPLE_PROBLEM_LIST   \n",
       "16197         NO              2750  ALOPECIA_AREATA_SUBSAMPLE_PROBLEM_LIST   \n",
       "16198         NO              8669  ALOPECIA_AREATA_SUBSAMPLE_PROBLEM_LIST   \n",
       "16199         NO              8669  ALOPECIA_AREATA_SUBSAMPLE_PROBLEM_LIST   \n",
       "16200         NO              8669  ALOPECIA_AREATA_SUBSAMPLE_PROBLEM_LIST   \n",
       "\n",
       "       PRODUCT_VERSION  EXPORT_DATE  \n",
       "16196              5.0     20231213  \n",
       "16197              5.0     20231213  \n",
       "16198              5.0     20231213  \n",
       "16199              5.0     20231213  \n",
       "16200              5.0     20231213  "
      ]
     },
     "execution_count": 5,
     "metadata": {},
     "output_type": "execute_result"
    }
   ],
   "source": [
    "data.tail()"
   ]
  },
  {
   "cell_type": "code",
   "execution_count": 7,
   "id": "9f6cfe3b-4be9-4154-968c-75d66a79c1b1",
   "metadata": {},
   "outputs": [
    {
     "name": "stdout",
     "output_type": "stream",
     "text": [
      "<class 'pandas.core.frame.DataFrame'>\n",
      "RangeIndex: 16201 entries, 0 to 16200\n",
      "Data columns (total 20 columns):\n",
      " #   Column             Non-Null Count  Dtype  \n",
      "---  ------             --------------  -----  \n",
      " 0   PATIENT_ID         16201 non-null  object \n",
      " 1   PL_ID              16201 non-null  object \n",
      " 2   PL_DX_LINE         16201 non-null  int64  \n",
      " 3   PL_NOTED_DATE      16201 non-null  object \n",
      " 4   PL_NOTED_TIME      16201 non-null  object \n",
      " 5   PL_RESOLVED_DATE   0 non-null      float64\n",
      " 6   PL_RESOLVED_TIME   0 non-null      float64\n",
      " 7   PL_START_DATE      0 non-null      float64\n",
      " 8   PL_START_TIME      0 non-null      float64\n",
      " 9   PL_END_DATE        0 non-null      float64\n",
      " 10  PL_END_TIME        0 non-null      float64\n",
      " 11  PL_PROBLEM_STATUS  16201 non-null  object \n",
      " 12  PL_DX_CODE         16201 non-null  object \n",
      " 13  PL_DX_TYPE         16201 non-null  object \n",
      " 14  PL_DX_HCS_DESC     15998 non-null  object \n",
      " 15  PL_CHRONIC         16201 non-null  object \n",
      " 16  DATA_SUPPLIER_ID   16201 non-null  int64  \n",
      " 17  PRODUCT_NAME       16201 non-null  object \n",
      " 18  PRODUCT_VERSION    16201 non-null  float64\n",
      " 19  EXPORT_DATE        16201 non-null  int64  \n",
      "dtypes: float64(7), int64(3), object(10)\n",
      "memory usage: 2.5+ MB\n"
     ]
    }
   ],
   "source": [
    "data.info()"
   ]
  },
  {
   "cell_type": "markdown",
   "id": "6f8f9a25-e6e4-4455-a68e-4b669793e58b",
   "metadata": {},
   "source": [
    "## Checking for Duplication"
   ]
  },
  {
   "cell_type": "code",
   "execution_count": 8,
   "id": "47cce04c-3fed-4399-905a-09dcd97568f0",
   "metadata": {},
   "outputs": [
    {
     "data": {
      "text/plain": [
       "PATIENT_ID             953\n",
       "PL_ID                16201\n",
       "PL_DX_LINE              31\n",
       "PL_NOTED_DATE         1638\n",
       "PL_NOTED_TIME         1480\n",
       "PL_RESOLVED_DATE         0\n",
       "PL_RESOLVED_TIME         0\n",
       "PL_START_DATE            0\n",
       "PL_START_TIME            0\n",
       "PL_END_DATE              0\n",
       "PL_END_TIME              0\n",
       "PL_PROBLEM_STATUS        2\n",
       "PL_DX_CODE             417\n",
       "PL_DX_TYPE               1\n",
       "PL_DX_HCS_DESC         400\n",
       "PL_CHRONIC               1\n",
       "DATA_SUPPLIER_ID         6\n",
       "PRODUCT_NAME             1\n",
       "PRODUCT_VERSION          1\n",
       "EXPORT_DATE              1\n",
       "dtype: int64"
      ]
     },
     "execution_count": 8,
     "metadata": {},
     "output_type": "execute_result"
    }
   ],
   "source": [
    "data.nunique()"
   ]
  },
  {
   "cell_type": "code",
   "execution_count": 9,
   "id": "dcacc855-8448-4f74-95ac-b8bdfd92cdcf",
   "metadata": {},
   "outputs": [
    {
     "name": "stdout",
     "output_type": "stream",
     "text": [
      "Empty DataFrame\n",
      "Columns: [PATIENT_ID, PL_ID, PL_DX_LINE, PL_NOTED_DATE, PL_NOTED_TIME, PL_RESOLVED_DATE, PL_RESOLVED_TIME, PL_START_DATE, PL_START_TIME, PL_END_DATE, PL_END_TIME, PL_PROBLEM_STATUS, PL_DX_CODE, PL_DX_TYPE, PL_DX_HCS_DESC, PL_CHRONIC, DATA_SUPPLIER_ID, PRODUCT_NAME, PRODUCT_VERSION, EXPORT_DATE]\n",
      "Index: []\n"
     ]
    }
   ],
   "source": [
    "duplicate_rows = data[data.duplicated()]\n",
    "print(duplicate_rows)"
   ]
  },
  {
   "cell_type": "markdown",
   "id": "1ced437c-9544-42ea-8bb1-75bc7c4da26a",
   "metadata": {},
   "source": [
    "## Checking Missing Values "
   ]
  },
  {
   "cell_type": "code",
   "execution_count": 11,
   "id": "10861724-80db-4ec9-b36d-52a4a61338e6",
   "metadata": {},
   "outputs": [
    {
     "data": {
      "text/plain": [
       "PATIENT_ID               0\n",
       "PL_ID                    0\n",
       "PL_DX_LINE               0\n",
       "PL_NOTED_DATE            0\n",
       "PL_NOTED_TIME            0\n",
       "PL_RESOLVED_DATE     16201\n",
       "PL_RESOLVED_TIME     16201\n",
       "PL_START_DATE        16201\n",
       "PL_START_TIME        16201\n",
       "PL_END_DATE          16201\n",
       "PL_END_TIME          16201\n",
       "PL_PROBLEM_STATUS        0\n",
       "PL_DX_CODE               0\n",
       "PL_DX_TYPE               0\n",
       "PL_DX_HCS_DESC         203\n",
       "PL_CHRONIC               0\n",
       "DATA_SUPPLIER_ID         0\n",
       "PRODUCT_NAME             0\n",
       "PRODUCT_VERSION          0\n",
       "EXPORT_DATE              0\n",
       "dtype: int64"
      ]
     },
     "execution_count": 11,
     "metadata": {},
     "output_type": "execute_result"
    }
   ],
   "source": [
    "data.isnull().sum()"
   ]
  },
  {
   "cell_type": "code",
   "execution_count": 12,
   "id": "64cc8d73-9770-426a-b723-6eec24695a4b",
   "metadata": {},
   "outputs": [
    {
     "data": {
      "text/plain": [
       "PATIENT_ID             0.000000\n",
       "PL_ID                  0.000000\n",
       "PL_DX_LINE             0.000000\n",
       "PL_NOTED_DATE          0.000000\n",
       "PL_NOTED_TIME          0.000000\n",
       "PL_RESOLVED_DATE     100.000000\n",
       "PL_RESOLVED_TIME     100.000000\n",
       "PL_START_DATE        100.000000\n",
       "PL_START_TIME        100.000000\n",
       "PL_END_DATE          100.000000\n",
       "PL_END_TIME          100.000000\n",
       "PL_PROBLEM_STATUS      0.000000\n",
       "PL_DX_CODE             0.000000\n",
       "PL_DX_TYPE             0.000000\n",
       "PL_DX_HCS_DESC         1.253009\n",
       "PL_CHRONIC             0.000000\n",
       "DATA_SUPPLIER_ID       0.000000\n",
       "PRODUCT_NAME           0.000000\n",
       "PRODUCT_VERSION        0.000000\n",
       "EXPORT_DATE            0.000000\n",
       "dtype: float64"
      ]
     },
     "execution_count": 12,
     "metadata": {},
     "output_type": "execute_result"
    }
   ],
   "source": [
    "(data.isnull().sum()/(len(data)))*100"
   ]
  },
  {
   "cell_type": "raw",
   "id": "faafd304-3b68-4b0c-86ee-48dfc845bfa2",
   "metadata": {},
   "source": [
    "need to drop the column with all NaN values!\n",
    "\n",
    "PL_RESOLVED_DATE     100.000000\n",
    "PL_RESOLVED_TIME     100.000000\n",
    "PL_START_DATE        100.000000\n",
    "PL_START_TIME        100.000000\n",
    "PL_END_DATE          100.000000\n",
    "PL_END_TIME          100.000000"
   ]
  },
  {
   "cell_type": "code",
   "execution_count": 13,
   "id": "c947ff3c-3754-4f54-8ac7-afa266a31ac2",
   "metadata": {},
   "outputs": [
    {
     "data": {
      "text/plain": [
       "<Axes: >"
      ]
     },
     "execution_count": 13,
     "metadata": {},
     "output_type": "execute_result"
    },
    {
     "data": {
      "image/png": "[encoded data removed]",
      "text/plain": [
       "<Figure size 640x480 with 1 Axes>"
      ]
     },
     "metadata": {},
     "output_type": "display_data"
    }
   ],
   "source": [
    "sns.heatmap(data.isnull(),yticklabels=False,cbar=False,cmap='viridis')"
   ]
  },
  {
   "cell_type": "markdown",
   "id": "8d833b8b-b5a6-453d-a17e-febd0981e37b",
   "metadata": {},
   "source": [
    "## Checking for inconsistent data types"
   ]
  },
  {
   "cell_type": "code",
   "execution_count": 14,
   "id": "5bbcb2ce-e9f2-4302-b2de-fe38d8b9b1e7",
   "metadata": {},
   "outputs": [
    {
     "name": "stdout",
     "output_type": "stream",
     "text": [
      "PATIENT_ID            object\n",
      "PL_ID                 object\n",
      "PL_DX_LINE             int64\n",
      "PL_NOTED_DATE         object\n",
      "PL_NOTED_TIME         object\n",
      "PL_RESOLVED_DATE     float64\n",
      "PL_RESOLVED_TIME     float64\n",
      "PL_START_DATE        float64\n",
      "PL_START_TIME        float64\n",
      "PL_END_DATE          float64\n",
      "PL_END_TIME          float64\n",
      "PL_PROBLEM_STATUS     object\n",
      "PL_DX_CODE            object\n",
      "PL_DX_TYPE            object\n",
      "PL_DX_HCS_DESC        object\n",
      "PL_CHRONIC            object\n",
      "DATA_SUPPLIER_ID       int64\n",
      "PRODUCT_NAME          object\n",
      "PRODUCT_VERSION      float64\n",
      "EXPORT_DATE            int64\n",
      "dtype: object\n"
     ]
    }
   ],
   "source": [
    "data_types = data.dtypes\n",
    "print(data_types)"
   ]
  },
  {
   "cell_type": "code",
   "execution_count": null,
   "id": "6853d8b3-f091-442a-9a9a-1a132a9ce5ff",
   "metadata": {},
   "outputs": [],
   "source": []
  }
 ],
 "metadata": {
  "kernelspec": {
   "display_name": "venv",
   "language": "python",
   "name": "venv"
  },
  "language_info": {
   "codemirror_mode": {
    "name": "ipython",
    "version": 3
   },
   "file_extension": ".py",
   "mimetype": "text/x-python",
   "name": "python",
   "nbconvert_exporter": "python",
   "pygments_lexer": "ipython3",
   "version": "3.9.6"
  }
 },
 "nbformat": 4,
 "nbformat_minor": 5
}
