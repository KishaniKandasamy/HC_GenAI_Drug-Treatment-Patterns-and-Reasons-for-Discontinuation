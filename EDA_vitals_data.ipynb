{
 "cells": [
  {
   "cell_type": "code",
   "execution_count": 1,
   "id": "68d54d8a-b9a4-4dca-a7cf-d34ebe1209dc",
   "metadata": {},
   "outputs": [
    {
     "name": "stderr",
     "output_type": "stream",
     "text": [
      "/var/folders/3m/l0tyzx5j5lg1wtczpcc3ff8h0000gn/T/ipykernel_2631/1676706666.py:1: DeprecationWarning: \n",
      "Pyarrow will become a required dependency of pandas in the next major release of pandas (pandas 3.0),\n",
      "(to allow more performant data types, such as the Arrow string type, and better interoperability with other libraries)\n",
      "but was not found to be installed on your system.\n",
      "If this would cause problems for you,\n",
      "please provide us feedback at https://github.com/pandas-dev/pandas/issues/54466\n",
      "        \n",
      "  import pandas as pd\n"
     ]
    }
   ],
   "source": [
    "import pandas as pd \n",
    "import numpy as np\n",
    "import matplotlib.pyplot as plt\n",
    "import seaborn as sns\n",
    "%matplotlib inline\n",
    "\n"
   ]
  },
  {
   "cell_type": "code",
   "execution_count": 2,
   "id": "db323a26-0631-4362-aec0-8085ada01561",
   "metadata": {},
   "outputs": [],
   "source": [
    "data = pd.read_csv('alopecia-areata-subsample/VITALS/data_000000000000.csv',  delimiter=\"|\")"
   ]
  },
  {
   "cell_type": "code",
   "execution_count": 3,
   "id": "fafafcf1-5a66-420e-b924-864f6355b59b",
   "metadata": {},
   "outputs": [
    {
     "data": {
      "text/plain": [
       "(1995, 12)"
      ]
     },
     "execution_count": 3,
     "metadata": {},
     "output_type": "execute_result"
    }
   ],
   "source": [
    "data.shape"
   ]
  },
  {
   "cell_type": "code",
   "execution_count": 4,
   "id": "2f587a6e-4fd5-494c-98fb-fbeb63f2cd7e",
   "metadata": {},
   "outputs": [
    {
     "data": {
      "text/html": [
       "<div>\n",
       "<style scoped>\n",
       "    .dataframe tbody tr th:only-of-type {\n",
       "        vertical-align: middle;\n",
       "    }\n",
       "\n",
       "    .dataframe tbody tr th {\n",
       "        vertical-align: top;\n",
       "    }\n",
       "\n",
       "    .dataframe thead th {\n",
       "        text-align: right;\n",
       "    }\n",
       "</style>\n",
       "<table border=\"1\" class=\"dataframe\">\n",
       "  <thead>\n",
       "    <tr style=\"text-align: right;\">\n",
       "      <th></th>\n",
       "      <th>PATIENT_ID</th>\n",
       "      <th>ENCOUNTER_ID</th>\n",
       "      <th>VS_DATE</th>\n",
       "      <th>VS_TIME</th>\n",
       "      <th>VS_CODE</th>\n",
       "      <th>VS_DESC</th>\n",
       "      <th>VS_VALUE</th>\n",
       "      <th>VS_UNIT</th>\n",
       "      <th>DATA_SUPPLIER_ID</th>\n",
       "      <th>PRODUCT_NAME</th>\n",
       "      <th>PRODUCT_VERSION</th>\n",
       "      <th>EXPORT_DATE</th>\n",
       "    </tr>\n",
       "  </thead>\n",
       "  <tbody>\n",
       "    <tr>\n",
       "      <th>0</th>\n",
       "      <td>0A7971DA-8F8F-4DC1-A0E3-97B8227330DA</td>\n",
       "      <td>9F70A795-B062-47C3-BD7C-B482EEC3B566</td>\n",
       "      <td>2020-11-11</td>\n",
       "      <td>00:00:00</td>\n",
       "      <td>HEIGHT</td>\n",
       "      <td>HEIGHT</td>\n",
       "      <td>49.0</td>\n",
       "      <td>IN</td>\n",
       "      <td>8551</td>\n",
       "      <td>ALOPECIA_AREATA_SUBSAMPLE_VITALS</td>\n",
       "      <td>5.0</td>\n",
       "      <td>20231213</td>\n",
       "    </tr>\n",
       "    <tr>\n",
       "      <th>1</th>\n",
       "      <td>646E880F-6542-40BA-8B81-659388391DFC</td>\n",
       "      <td>0FB7DFB4-D454-4865-9201-685CFCCF7325</td>\n",
       "      <td>2020-11-17</td>\n",
       "      <td>00:00:00</td>\n",
       "      <td>HEIGHT</td>\n",
       "      <td>HEIGHT</td>\n",
       "      <td>49.0</td>\n",
       "      <td>IN</td>\n",
       "      <td>4632</td>\n",
       "      <td>ALOPECIA_AREATA_SUBSAMPLE_VITALS</td>\n",
       "      <td>5.0</td>\n",
       "      <td>20231213</td>\n",
       "    </tr>\n",
       "    <tr>\n",
       "      <th>2</th>\n",
       "      <td>646E880F-6542-40BA-8B81-659388391DFC</td>\n",
       "      <td>5838D0F2-6AC3-4920-A29C-945F8F6C8824</td>\n",
       "      <td>2020-11-17</td>\n",
       "      <td>00:00:00</td>\n",
       "      <td>HEIGHT</td>\n",
       "      <td>HEIGHT</td>\n",
       "      <td>49.0</td>\n",
       "      <td>IN</td>\n",
       "      <td>2750</td>\n",
       "      <td>ALOPECIA_AREATA_SUBSAMPLE_VITALS</td>\n",
       "      <td>5.0</td>\n",
       "      <td>20231213</td>\n",
       "    </tr>\n",
       "    <tr>\n",
       "      <th>3</th>\n",
       "      <td>502DCB86-3801-4658-8B5B-284FF484A72C</td>\n",
       "      <td>E3E76409-C1AA-451D-96F9-24377E82B74B</td>\n",
       "      <td>2021-12-11</td>\n",
       "      <td>02:16:11</td>\n",
       "      <td>HEIGHT</td>\n",
       "      <td>HEIGHT</td>\n",
       "      <td>66.0</td>\n",
       "      <td>IN</td>\n",
       "      <td>2750</td>\n",
       "      <td>ALOPECIA_AREATA_SUBSAMPLE_VITALS</td>\n",
       "      <td>5.0</td>\n",
       "      <td>20231213</td>\n",
       "    </tr>\n",
       "    <tr>\n",
       "      <th>4</th>\n",
       "      <td>502DCB86-3801-4658-8B5B-284FF484A72C</td>\n",
       "      <td>889518F3-3089-451F-8E75-7A886A8DAC07</td>\n",
       "      <td>2021-12-11</td>\n",
       "      <td>02:16:11</td>\n",
       "      <td>HEIGHT</td>\n",
       "      <td>HEIGHT</td>\n",
       "      <td>66.0</td>\n",
       "      <td>IN</td>\n",
       "      <td>4632</td>\n",
       "      <td>ALOPECIA_AREATA_SUBSAMPLE_VITALS</td>\n",
       "      <td>5.0</td>\n",
       "      <td>20231213</td>\n",
       "    </tr>\n",
       "  </tbody>\n",
       "</table>\n",
       "</div>"
      ],
      "text/plain": [
       "                             PATIENT_ID                          ENCOUNTER_ID  \\\n",
       "0  0A7971DA-8F8F-4DC1-A0E3-97B8227330DA  9F70A795-B062-47C3-BD7C-B482EEC3B566   \n",
       "1  646E880F-6542-40BA-8B81-659388391DFC  0FB7DFB4-D454-4865-9201-685CFCCF7325   \n",
       "2  646E880F-6542-40BA-8B81-659388391DFC  5838D0F2-6AC3-4920-A29C-945F8F6C8824   \n",
       "3  502DCB86-3801-4658-8B5B-284FF484A72C  E3E76409-C1AA-451D-96F9-24377E82B74B   \n",
       "4  502DCB86-3801-4658-8B5B-284FF484A72C  889518F3-3089-451F-8E75-7A886A8DAC07   \n",
       "\n",
       "      VS_DATE   VS_TIME VS_CODE VS_DESC  VS_VALUE VS_UNIT  DATA_SUPPLIER_ID  \\\n",
       "0  2020-11-11  00:00:00  HEIGHT  HEIGHT      49.0      IN              8551   \n",
       "1  2020-11-17  00:00:00  HEIGHT  HEIGHT      49.0      IN              4632   \n",
       "2  2020-11-17  00:00:00  HEIGHT  HEIGHT      49.0      IN              2750   \n",
       "3  2021-12-11  02:16:11  HEIGHT  HEIGHT      66.0      IN              2750   \n",
       "4  2021-12-11  02:16:11  HEIGHT  HEIGHT      66.0      IN              4632   \n",
       "\n",
       "                       PRODUCT_NAME  PRODUCT_VERSION  EXPORT_DATE  \n",
       "0  ALOPECIA_AREATA_SUBSAMPLE_VITALS              5.0     20231213  \n",
       "1  ALOPECIA_AREATA_SUBSAMPLE_VITALS              5.0     20231213  \n",
       "2  ALOPECIA_AREATA_SUBSAMPLE_VITALS              5.0     20231213  \n",
       "3  ALOPECIA_AREATA_SUBSAMPLE_VITALS              5.0     20231213  \n",
       "4  ALOPECIA_AREATA_SUBSAMPLE_VITALS              5.0     20231213  "
      ]
     },
     "execution_count": 4,
     "metadata": {},
     "output_type": "execute_result"
    }
   ],
   "source": [
    "data.head()"
   ]
  },
  {
   "cell_type": "code",
   "execution_count": 5,
   "id": "177a2a06-e6b1-4218-8eb0-3491bcd9dc90",
   "metadata": {},
   "outputs": [
    {
     "data": {
      "text/html": [
       "<div>\n",
       "<style scoped>\n",
       "    .dataframe tbody tr th:only-of-type {\n",
       "        vertical-align: middle;\n",
       "    }\n",
       "\n",
       "    .dataframe tbody tr th {\n",
       "        vertical-align: top;\n",
       "    }\n",
       "\n",
       "    .dataframe thead th {\n",
       "        text-align: right;\n",
       "    }\n",
       "</style>\n",
       "<table border=\"1\" class=\"dataframe\">\n",
       "  <thead>\n",
       "    <tr style=\"text-align: right;\">\n",
       "      <th></th>\n",
       "      <th>PATIENT_ID</th>\n",
       "      <th>ENCOUNTER_ID</th>\n",
       "      <th>VS_DATE</th>\n",
       "      <th>VS_TIME</th>\n",
       "      <th>VS_CODE</th>\n",
       "      <th>VS_DESC</th>\n",
       "      <th>VS_VALUE</th>\n",
       "      <th>VS_UNIT</th>\n",
       "      <th>DATA_SUPPLIER_ID</th>\n",
       "      <th>PRODUCT_NAME</th>\n",
       "      <th>PRODUCT_VERSION</th>\n",
       "      <th>EXPORT_DATE</th>\n",
       "    </tr>\n",
       "  </thead>\n",
       "  <tbody>\n",
       "    <tr>\n",
       "      <th>1990</th>\n",
       "      <td>D5FBF257-C9C6-451B-86DF-02182178E044</td>\n",
       "      <td>B1F1191F-59BE-481B-9170-9AE87B272762</td>\n",
       "      <td>2021-03-09</td>\n",
       "      <td>23:03:57</td>\n",
       "      <td>DIASTOLIC_BP</td>\n",
       "      <td>DIASTOLIC BLOOD PRESSURE</td>\n",
       "      <td>80.0</td>\n",
       "      <td>MMHG</td>\n",
       "      <td>2750</td>\n",
       "      <td>ALOPECIA_AREATA_SUBSAMPLE_VITALS</td>\n",
       "      <td>5.0</td>\n",
       "      <td>20231213</td>\n",
       "    </tr>\n",
       "    <tr>\n",
       "      <th>1991</th>\n",
       "      <td>A0773395-E977-4B07-9B47-8DB5522184C5</td>\n",
       "      <td>33025C1D-D972-409D-90C5-E78157E7ADB9</td>\n",
       "      <td>2018-01-25</td>\n",
       "      <td>23:11:25</td>\n",
       "      <td>DIASTOLIC_BP</td>\n",
       "      <td>DIASTOLIC BLOOD PRESSURE</td>\n",
       "      <td>63.0</td>\n",
       "      <td>MMHG</td>\n",
       "      <td>4632</td>\n",
       "      <td>ALOPECIA_AREATA_SUBSAMPLE_VITALS</td>\n",
       "      <td>5.0</td>\n",
       "      <td>20231213</td>\n",
       "    </tr>\n",
       "    <tr>\n",
       "      <th>1992</th>\n",
       "      <td>A0773395-E977-4B07-9B47-8DB5522184C5</td>\n",
       "      <td>9F611AF0-BC9A-45EB-877F-B39E65AC6E30</td>\n",
       "      <td>2018-01-25</td>\n",
       "      <td>23:11:25</td>\n",
       "      <td>DIASTOLIC_BP</td>\n",
       "      <td>DIASTOLIC BLOOD PRESSURE</td>\n",
       "      <td>63.0</td>\n",
       "      <td>MMHG</td>\n",
       "      <td>2750</td>\n",
       "      <td>ALOPECIA_AREATA_SUBSAMPLE_VITALS</td>\n",
       "      <td>5.0</td>\n",
       "      <td>20231213</td>\n",
       "    </tr>\n",
       "    <tr>\n",
       "      <th>1993</th>\n",
       "      <td>652F270D-D5F5-4198-9FB9-6C5E983FEF2A</td>\n",
       "      <td>5C22C062-5FA8-44D4-8332-4FAF7A839603</td>\n",
       "      <td>2017-05-04</td>\n",
       "      <td>23:14:12</td>\n",
       "      <td>DIASTOLIC_BP</td>\n",
       "      <td>DIASTOLIC BLOOD PRESSURE</td>\n",
       "      <td>94.0</td>\n",
       "      <td>MMHG</td>\n",
       "      <td>8551</td>\n",
       "      <td>ALOPECIA_AREATA_SUBSAMPLE_VITALS</td>\n",
       "      <td>5.0</td>\n",
       "      <td>20231213</td>\n",
       "    </tr>\n",
       "    <tr>\n",
       "      <th>1994</th>\n",
       "      <td>46B2BC4B-0B97-4C86-ABEE-9993CB250B80</td>\n",
       "      <td>89C16BDD-6F3E-453A-9775-03987AA9A585</td>\n",
       "      <td>2023-09-19</td>\n",
       "      <td>23:59:04</td>\n",
       "      <td>DIASTOLIC_BP</td>\n",
       "      <td>DIASTOLIC BLOOD PRESSURE</td>\n",
       "      <td>89.0</td>\n",
       "      <td>MMHG</td>\n",
       "      <td>6808</td>\n",
       "      <td>ALOPECIA_AREATA_SUBSAMPLE_VITALS</td>\n",
       "      <td>5.0</td>\n",
       "      <td>20231213</td>\n",
       "    </tr>\n",
       "  </tbody>\n",
       "</table>\n",
       "</div>"
      ],
      "text/plain": [
       "                                PATIENT_ID  \\\n",
       "1990  D5FBF257-C9C6-451B-86DF-02182178E044   \n",
       "1991  A0773395-E977-4B07-9B47-8DB5522184C5   \n",
       "1992  A0773395-E977-4B07-9B47-8DB5522184C5   \n",
       "1993  652F270D-D5F5-4198-9FB9-6C5E983FEF2A   \n",
       "1994  46B2BC4B-0B97-4C86-ABEE-9993CB250B80   \n",
       "\n",
       "                              ENCOUNTER_ID     VS_DATE   VS_TIME  \\\n",
       "1990  B1F1191F-59BE-481B-9170-9AE87B272762  2021-03-09  23:03:57   \n",
       "1991  33025C1D-D972-409D-90C5-E78157E7ADB9  2018-01-25  23:11:25   \n",
       "1992  9F611AF0-BC9A-45EB-877F-B39E65AC6E30  2018-01-25  23:11:25   \n",
       "1993  5C22C062-5FA8-44D4-8332-4FAF7A839603  2017-05-04  23:14:12   \n",
       "1994  89C16BDD-6F3E-453A-9775-03987AA9A585  2023-09-19  23:59:04   \n",
       "\n",
       "           VS_CODE                   VS_DESC  VS_VALUE VS_UNIT  \\\n",
       "1990  DIASTOLIC_BP  DIASTOLIC BLOOD PRESSURE      80.0    MMHG   \n",
       "1991  DIASTOLIC_BP  DIASTOLIC BLOOD PRESSURE      63.0    MMHG   \n",
       "1992  DIASTOLIC_BP  DIASTOLIC BLOOD PRESSURE      63.0    MMHG   \n",
       "1993  DIASTOLIC_BP  DIASTOLIC BLOOD PRESSURE      94.0    MMHG   \n",
       "1994  DIASTOLIC_BP  DIASTOLIC BLOOD PRESSURE      89.0    MMHG   \n",
       "\n",
       "      DATA_SUPPLIER_ID                      PRODUCT_NAME  PRODUCT_VERSION  \\\n",
       "1990              2750  ALOPECIA_AREATA_SUBSAMPLE_VITALS              5.0   \n",
       "1991              4632  ALOPECIA_AREATA_SUBSAMPLE_VITALS              5.0   \n",
       "1992              2750  ALOPECIA_AREATA_SUBSAMPLE_VITALS              5.0   \n",
       "1993              8551  ALOPECIA_AREATA_SUBSAMPLE_VITALS              5.0   \n",
       "1994              6808  ALOPECIA_AREATA_SUBSAMPLE_VITALS              5.0   \n",
       "\n",
       "      EXPORT_DATE  \n",
       "1990     20231213  \n",
       "1991     20231213  \n",
       "1992     20231213  \n",
       "1993     20231213  \n",
       "1994     20231213  "
      ]
     },
     "execution_count": 5,
     "metadata": {},
     "output_type": "execute_result"
    }
   ],
   "source": [
    "data.tail()"
   ]
  },
  {
   "cell_type": "code",
   "execution_count": 6,
   "id": "84e026e6-e39d-4ab0-aae8-8cce079e2762",
   "metadata": {},
   "outputs": [
    {
     "name": "stdout",
     "output_type": "stream",
     "text": [
      "<class 'pandas.core.frame.DataFrame'>\n",
      "RangeIndex: 1995 entries, 0 to 1994\n",
      "Data columns (total 12 columns):\n",
      " #   Column            Non-Null Count  Dtype  \n",
      "---  ------            --------------  -----  \n",
      " 0   PATIENT_ID        1995 non-null   object \n",
      " 1   ENCOUNTER_ID      1995 non-null   object \n",
      " 2   VS_DATE           1995 non-null   object \n",
      " 3   VS_TIME           1995 non-null   object \n",
      " 4   VS_CODE           1995 non-null   object \n",
      " 5   VS_DESC           1995 non-null   object \n",
      " 6   VS_VALUE          1995 non-null   float64\n",
      " 7   VS_UNIT           1995 non-null   object \n",
      " 8   DATA_SUPPLIER_ID  1995 non-null   int64  \n",
      " 9   PRODUCT_NAME      1995 non-null   object \n",
      " 10  PRODUCT_VERSION   1995 non-null   float64\n",
      " 11  EXPORT_DATE       1995 non-null   int64  \n",
      "dtypes: float64(2), int64(2), object(8)\n",
      "memory usage: 187.2+ KB\n"
     ]
    }
   ],
   "source": [
    "data.info()"
   ]
  },
  {
   "cell_type": "markdown",
   "id": "16fb4211-4768-41c4-aef3-fd72852b8264",
   "metadata": {},
   "source": [
    "## Checking for Duplication"
   ]
  },
  {
   "cell_type": "code",
   "execution_count": 7,
   "id": "3c92e4be-af38-4022-b1ff-0b8c909d4a38",
   "metadata": {},
   "outputs": [
    {
     "data": {
      "text/plain": [
       "PATIENT_ID          175\n",
       "ENCOUNTER_ID        757\n",
       "VS_DATE             484\n",
       "VS_TIME             609\n",
       "VS_CODE              10\n",
       "VS_DESC              10\n",
       "VS_VALUE            303\n",
       "VS_UNIT               9\n",
       "DATA_SUPPLIER_ID      8\n",
       "PRODUCT_NAME          1\n",
       "PRODUCT_VERSION       1\n",
       "EXPORT_DATE           1\n",
       "dtype: int64"
      ]
     },
     "execution_count": 7,
     "metadata": {},
     "output_type": "execute_result"
    }
   ],
   "source": [
    "data.nunique()"
   ]
  },
  {
   "cell_type": "code",
   "execution_count": 8,
   "id": "b08675e1-9f7b-4143-908c-8d6af0149db8",
   "metadata": {},
   "outputs": [
    {
     "name": "stdout",
     "output_type": "stream",
     "text": [
      "Empty DataFrame\n",
      "Columns: [PATIENT_ID, ENCOUNTER_ID, VS_DATE, VS_TIME, VS_CODE, VS_DESC, VS_VALUE, VS_UNIT, DATA_SUPPLIER_ID, PRODUCT_NAME, PRODUCT_VERSION, EXPORT_DATE]\n",
      "Index: []\n"
     ]
    }
   ],
   "source": [
    "duplicate_rows = data[data.duplicated()]\n",
    "print(duplicate_rows)"
   ]
  },
  {
   "cell_type": "markdown",
   "id": "69db714e-470b-4120-a0c1-9ac408272c0c",
   "metadata": {},
   "source": [
    "## Checking Missing Values "
   ]
  },
  {
   "cell_type": "code",
   "execution_count": 9,
   "id": "9c0a34dd-20cd-447f-9069-b11fac4bf0d7",
   "metadata": {},
   "outputs": [
    {
     "data": {
      "text/plain": [
       "PATIENT_ID          0\n",
       "ENCOUNTER_ID        0\n",
       "VS_DATE             0\n",
       "VS_TIME             0\n",
       "VS_CODE             0\n",
       "VS_DESC             0\n",
       "VS_VALUE            0\n",
       "VS_UNIT             0\n",
       "DATA_SUPPLIER_ID    0\n",
       "PRODUCT_NAME        0\n",
       "PRODUCT_VERSION     0\n",
       "EXPORT_DATE         0\n",
       "dtype: int64"
      ]
     },
     "execution_count": 9,
     "metadata": {},
     "output_type": "execute_result"
    }
   ],
   "source": [
    "data.isnull().sum()"
   ]
  },
  {
   "cell_type": "code",
   "execution_count": 10,
   "id": "43b4ea6c-e6e8-42f7-ab62-fd884f4066cf",
   "metadata": {},
   "outputs": [
    {
     "data": {
      "text/plain": [
       "PATIENT_ID          0.0\n",
       "ENCOUNTER_ID        0.0\n",
       "VS_DATE             0.0\n",
       "VS_TIME             0.0\n",
       "VS_CODE             0.0\n",
       "VS_DESC             0.0\n",
       "VS_VALUE            0.0\n",
       "VS_UNIT             0.0\n",
       "DATA_SUPPLIER_ID    0.0\n",
       "PRODUCT_NAME        0.0\n",
       "PRODUCT_VERSION     0.0\n",
       "EXPORT_DATE         0.0\n",
       "dtype: float64"
      ]
     },
     "execution_count": 10,
     "metadata": {},
     "output_type": "execute_result"
    }
   ],
   "source": [
    "(data.isnull().sum()/(len(data)))*100"
   ]
  },
  {
   "cell_type": "code",
   "execution_count": 11,
   "id": "a114ed71-69e9-49ea-af4b-7ebbc10bbdfb",
   "metadata": {},
   "outputs": [
    {
     "data": {
      "text/plain": [
       "<Axes: >"
      ]
     },
     "execution_count": 11,
     "metadata": {},
     "output_type": "execute_result"
    },
    {
     "data": {
      "image/png": "[encoded data removed]",
      "text/plain": [
       "<Figure size 640x480 with 1 Axes>"
      ]
     },
     "metadata": {},
     "output_type": "display_data"
    }
   ],
   "source": [
    "sns.heatmap(data.isnull(),yticklabels=False,cbar=False,cmap='viridis')"
   ]
  },
  {
   "cell_type": "raw",
   "id": "d96cb41c-1e06-4093-93c7-bce344ca5453",
   "metadata": {},
   "source": [
    "No null values found "
   ]
  },
  {
   "cell_type": "markdown",
   "id": "d4936eef-d4a2-4c1c-896e-1123724bf1ec",
   "metadata": {},
   "source": [
    "## Checking for inconsistent data types"
   ]
  },
  {
   "cell_type": "code",
   "execution_count": 12,
   "id": "2c5c3674-3123-4f6e-8ff0-e765ae955696",
   "metadata": {},
   "outputs": [
    {
     "name": "stdout",
     "output_type": "stream",
     "text": [
      "PATIENT_ID           object\n",
      "ENCOUNTER_ID         object\n",
      "VS_DATE              object\n",
      "VS_TIME              object\n",
      "VS_CODE              object\n",
      "VS_DESC              object\n",
      "VS_VALUE            float64\n",
      "VS_UNIT              object\n",
      "DATA_SUPPLIER_ID      int64\n",
      "PRODUCT_NAME         object\n",
      "PRODUCT_VERSION     float64\n",
      "EXPORT_DATE           int64\n",
      "dtype: object\n"
     ]
    }
   ],
   "source": [
    "data_types = data.dtypes\n",
    "print(data_types)"
   ]
  },
  {
   "cell_type": "code",
   "execution_count": null,
   "id": "04e14714-38cd-47e7-a946-c4eb5be93e76",
   "metadata": {},
   "outputs": [],
   "source": []
  }
 ],
 "metadata": {
  "kernelspec": {
   "display_name": "venv",
   "language": "python",
   "name": "venv"
  },
  "language_info": {
   "codemirror_mode": {
    "name": "ipython",
    "version": 3
   },
   "file_extension": ".py",
   "mimetype": "text/x-python",
   "name": "python",
   "nbconvert_exporter": "python",
   "pygments_lexer": "ipython3",
   "version": "3.9.6"
  }
 },
 "nbformat": 4,
 "nbformat_minor": 5
}
